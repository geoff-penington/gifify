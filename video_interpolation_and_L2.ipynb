{
 "cells": [
  {
   "cell_type": "code",
   "execution_count": 2,
   "metadata": {},
   "outputs": [],
   "source": [
    "import os\n",
    "import cv2\n",
    "import numpy as np\n",
    "from PIL import Image\n",
    "import imageio\n",
    "\n",
    "def video_to_frames(filename, resize_h=64, resize_w=64):\n",
    "    \"\"\"                                                                                                           \n",
    "    Extract every frame from a video, and keep one in every 3 frames, and resize each frame.\n",
    "    For original video: expect 90 frames per 3 second video, each frame 256-by-256.\n",
    "    If the video has less than 90 frames, fill all remaining frames up to num_frames\n",
    "    \"\"\"\n",
    "    # an example for filename: 'videos/skiing_train/flickr-0-0-0-1-1-5-9-7-2400011597_4.mp4'\n",
    "    vidcap = cv2.VideoCapture(filename)\n",
    "    frameCount = int(vidcap.get(cv2.CAP_PROP_FRAME_COUNT))\n",
    "    frameWidth = int(vidcap.get(cv2.CAP_PROP_FRAME_WIDTH))\n",
    "    frameHeight = int(vidcap.get(cv2.CAP_PROP_FRAME_HEIGHT))\n",
    "\n",
    "    #expect 30 frames to be extracted; if original video has less than\n",
    "    #90 frames, fill the trailing ones with the last sampled frame\n",
    "    reduced_frameCount = 30\n",
    "\n",
    "    data = np.empty((reduced_frameCount, frameHeight, frameWidth, 3), np.dtype('uint8'))\n",
    "    \n",
    "    fc = 0\n",
    "    success = True\n",
    "    while (fc < min(frameCount, 90) and success):\n",
    "        if (fc%3==0):\n",
    "            success, data[fc//3, ...] = vidcap.read()\n",
    "        else:\n",
    "            vidcap.read()\n",
    "        fc += 1\n",
    "    if frameCount < 90-3:\n",
    "        for i in range(frameCount//3+1, 30):\n",
    "            data[i, ...] = data[frameCount//3, ...]\n",
    "        \n",
    "    #print('Finished reading video')\n",
    "        \n",
    "    # keep only one frame out of every 3 frames, and resize every frame\n",
    "    data_resized = np.empty((reduced_frameCount, resize_h, resize_w, 3), np.float)\n",
    "    for i in range(reduced_frameCount):\n",
    "        img = Image.fromarray(data[i,...], 'RGB')\n",
    "        img = img.resize((resize_h, resize_w), Image.ANTIALIAS)\n",
    "        data_resized[i, ...] = np.asarray(img, dtype=np.float)\n",
    "        # below line just for testing purpose, make sure to comment out after testing!\n",
    "        ###img.save('extracted_images/skiing_test_1_frame%d.jpg' % i)\n",
    "        \n",
    "    data_first_last = np.empty((2, resize_h, resize_w, 3), np.float)\n",
    "    data_first_last[0] = data_resized[0]\n",
    "    data_first_last[1] = data_resized[-1]\n",
    "\n",
    "        \n",
    "    return data_resized, data_first_last\n",
    "\n",
    "def generated_video_to_frames(filename, resize_h=64, resize_w=64):\n",
    "    \"\"\"                                                                                                           \n",
    "    Extract every frame from a generated video.\n",
    "    For original video: expect 30 frames per 3 second video, each frame 64-by-64.\n",
    "    If the video has less than 90 frames, fill all remaining frames up to num_frames\n",
    "    \"\"\"\n",
    "    vidcap = cv2.VideoCapture(filename)\n",
    "    frameCount = int(vidcap.get(cv2.CAP_PROP_FRAME_COUNT))\n",
    "    frameWidth = int(vidcap.get(cv2.CAP_PROP_FRAME_WIDTH))\n",
    "    frameHeight = int(vidcap.get(cv2.CAP_PROP_FRAME_HEIGHT))\n",
    "\n",
    "    #expect 30 frames to be extracted\n",
    "    reduced_frameCount = 30\n",
    "\n",
    "    data = np.empty((reduced_frameCount, frameHeight, frameWidth, 3), np.dtype('uint8'))\n",
    "    \n",
    "    fc = 0\n",
    "    success = True\n",
    "    while success and fc < 30:\n",
    "        success, data[fc] = vidcap.read()\n",
    "        fc += 1\n",
    "    return data\n",
    "\n",
    "\n",
    "def video_distance(array_in, array_out):\n",
    "    # convert to np arrays of shape [30,h,w,3] to compare L2 distance\n",
    "    # in CVAE code: np.reduce_sum(tf.square(self.inputs - self.out), [1,2,3,4])\n",
    "    distance = np.sqrt(np.sum(np.square(array_out - array_in)))\n",
    "    return distance\n",
    "\n",
    "def generate_resized_and_interpolated_video(file_in, file_out_reduced, file_out_interpolated):\n",
    "    # make two 3s long videos at 10 fps by reducing original video size, and by\n",
    "    # linear interpolation between 1st and last frame\n",
    "    data, data_first_last = video_to_frames(file_in, resize_h=64, resize_w=64)\n",
    "    h = data.shape[1]\n",
    "    w = data.shape[2]\n",
    "    \n",
    "    data_interpolated = np.zeros([30,h,w,3])\n",
    "    \n",
    "    for i in range(30):\n",
    "        data_interpolated[i] = data_first_last[0] + i/30 * (data_first_last[1] - data_first_last[0])\n",
    "        \n",
    "        \n",
    "    data_interpolated = data_interpolated.astype(np.uint8)\n",
    "    data_reduced = data.astype(np.uint8)\n",
    "    \n",
    "    #data_interpolated = data_interpolated.astype(np.uint8)\n",
    "    imageio.mimwrite(file_out_interpolated, data_interpolated, fps=10)\n",
    "    imageio.mimwrite(file_out_reduced, data_reduced, fps = 10)\n",
    "    print(\"Interpolated video written out into: {}\".format(file_out_interpolated))\n",
    "    print(\"Reduced video written out into: {}\".format(file_out_reduced))\n",
    "    return data_interpolated, data_reduced\n",
    "    \n",
    "    \n",
    "    \n",
    "def L2difference(file_in, reduced_file_out, interpolated_file_out, generated_file_in):    \n",
    "    # file_in = input original video file, (90,256,256,3)\n",
    "    # reduced_file_out = output oirginal video in format (30,64,64,3)\n",
    "    # interpolated_file_out = output interpolated video in format (30,64,64,3)\n",
    "    # generated_file_in = input generated video in format (30,64,64,3)\n",
    "    print(\"Original video is: {}\".format(file_in))\n",
    "    print(\"Generated video is: {}\".format(generated_file_in))\n",
    "    original, imgs = video_to_frames(file_in)\n",
    "    generated = generated_video_to_frames(generated_file_in)\n",
    "    interpolated, reduced = generate_resized_and_interpolated_video(file_in, reduced_file_out, interpolated_file_out)   \n",
    "    print(\"Generated vs original video distance is\")\n",
    "    print(video_distance(original, generated))\n",
    "    print(\"Interpolated vs original video distance is\")\n",
    "    print(video_distance(original, interpolated))\n",
    "    return video_distance(original,generated), video_distance(original,interpolated)\n"
   ]
  },
  {
   "cell_type": "code",
   "execution_count": 3,
   "metadata": {},
   "outputs": [],
   "source": [
    "# file_in_example = \"videos/skiing_train/flickr-0-0-0-1-1-5-9-7-2400011597_4.mp4\"\n",
    "# file_out_example = \"videos_interpolated/test_interpolated.mp4\"\n",
    "\n",
    "file_in2= \"videos/erupting_val/getty-lava-erupting-from-earth-in-smoking-lava-field-hawaii-video-id1B02924_0004_7.mp4\"\n",
    "file_out2 = \"videos_interpolated/test2.mp4\"\n",
    "\n",
    "generated_file_in = \"CVAE_generated_0000.mp4\"\n",
    "\n",
    "# def main():\n",
    "#     L2difference(file_in2, \"aaaa_reduced.mp4\", \"aaaa_interpolated.mp4\", \"CVAE_generated_0000.mp4\")\n",
    "#     return 0\n",
    "\n",
    "\n",
    "\n",
    "# main()"
   ]
  },
  {
   "cell_type": "code",
   "execution_count": 4,
   "metadata": {},
   "outputs": [],
   "source": [
    "#### measure CVAE generated videos vs interpolated videos \n",
    "\n",
    "\n",
    "## CVAE test videos in order:\n",
    "\n",
    "titlemix=\"\"\"\n",
    "0\n",
    "getty-lava-erupting-from-earth-in-smoking-lava-field-hawaii-video-id1B02924_0004_7.mp4\n",
    "1\n",
    "giphy-qufwQbBoDhNYc_12.mp4\n",
    "2\n",
    "getty-close-up-fireworks-video-id628285946_1.mp4\n",
    "3\n",
    "flickr-5-3-9-9-6-7-3-0-5553996730_22.mp4\n",
    "4\n",
    "getty-view-of-heavy-explosion-in-tropical-island-video-id105186610_10.mp4\n",
    "5\n",
    "getty-clouds-pass-over-the-summit-of-the-erupting-oldoinyo-lengai-volcano-video-id3B2FBBC6_0597_82.mp4\n",
    "6\n",
    "meta-1395624_51.mp4\n",
    "7\n",
    "getty-close-up-of-firey-explosion-video-id307-291_1.mp4\n",
    "8\n",
    "getty-geysers-atacama-desert-video-id636281892_3.mp4\n",
    "9\n",
    "flickr-7-7-9-1-3-6-9-6-19077913696_14.mp4\n",
    "10\n",
    "getty-man-sits-on-ledge-overlooking-erupting-lava-lake-marum-volcano-ambrym-video-id150962447_2.mp4\n",
    "11\n",
    "getty-jaguar-crashes-through-a-concrete-barrier-video-id698871039_14.mp4\n",
    "12\n",
    "getty-large-and-dangerous-pyroclastic-flow-sweeps-down-the-side-of-sinabung-video-id478438408_4.mp4\n",
    "13\n",
    "getty-bardarbunga-volcano-eruption-and-lava-flow-video-id626439064_19.mp4\n",
    "14\n",
    "yt-Hj9wcztisDU_787.mp4\n",
    "15\n",
    "getty-geyser-erupts-and-splashes-video-id685738819_1.mp4\n",
    "16\n",
    "getty-volcanic-eruptions-on-mt-etna-sicily-italy-video-id157397360_10.mp4\n",
    "17\n",
    "getty-major-volcanic-eruption-and-ash-cloud-at-mount-sinabung-video-id498515125_7.mp4\n",
    "18\n",
    "giphy-1cdrsxfhNHfAQ_2.mp4\n",
    "19\n",
    "getty-film-can-the-birth-of-a-nation-clip-battle-field-lillian-gish-sitting-video-id509496583_9.mp4\n",
    "20\n",
    "getty-geysers-at-yellowstone-national-park-wyoming-usa-video-id83264515_16.mp4\n",
    "21\n",
    "flickr-7-0-0-3-7-1-1-8-21470037118_126.mp4\n",
    "22\n",
    "getty-eruption-on-mt-etna-13-october-98-sicily-italy-video-id157397349_2.mp4\n",
    "23\n",
    "getty-lava-from-a-volcanic-eruption-spews-into-the-night-sky-available-in-video-id3B2FBBA6_0005_67.mp4\n",
    "24\n",
    "getty-aerials-active-volcano-shinmoedake-video-id459964798_41.mp4\n",
    "25\n",
    "getty-eruzione-di-una-bocca-del-vulcano-stromboli-video-id847691400_13.mp4\n",
    "26\n",
    "giphy-ClG9uYb0hWzPq_0.mp4\n",
    "27\n",
    "getty-geyser-hole-filled-of-boiling-water-before-eruption-iceland-video-id456462830_6.mp4\n",
    "28\n",
    "getty-hot-water-spurting-from-geyser-yellowstone-national-park-wyoming-video-id141030434_2.mp4\n",
    "29\n",
    "getty-close-up-vigorously-erupting-lava-lake-in-marum-volcano-marum-volcano-video-id150962413_2.mp4\n",
    "30\n",
    "getty-flames-rise-from-a-volcanic-eruption-on-fernandina-island-available-video-id3B2FBBA3_0001_5.mp4\n",
    "31\n",
    "getty-aerial-track-towards-and-over-smoking-volcano-and-crater-video-id1B03393_0004_1.mp4\n",
    "32\n",
    "getty-big-ash-column-rises-from-shinmoedake-volcano-at-night-mount-in-of-video-id478689742_6.mp4\n",
    "33\n",
    "getty-el-volcan-calbuco-registro-dos-violentas-y-sorpresivas-erupciones-en-video-id471199520_34.mp4\n",
    "34\n",
    "getty-timelapsed-of-sunrise-at-mount-bromo-volcano-the-magnificent-view-of-video-id545326216_3.mp4\n",
    "35\n",
    "getty-the-voskok-1-becomes-the-first-manned-spaceflight-video-id450027634_46.mp4\n",
    "36\n",
    "flickr-1-3-3-7-8-6-3-3-18513378633_4.mp4\n",
    "37\n",
    "getty-yasur-volcano-video-id465612842_2.mp4\n",
    "38\n",
    "getty-algal-mat-grows-at-edge-of-hot-geyser-pool-yellowstone-usa-video-id564828225_9.mp4\n",
    "39\n",
    "getty-volcanic-ash-erupts-vigorously-from-the-crater-at-sakurajima-volcano-video-id695848030_12.mp4\n",
    "40\n",
    "getty-large-eruption-at-sakurajima-volcano-in-japan-sends-volcanic-ash-video-id464370844_11.mp4\n",
    "41\n",
    "getty-fighting-subsided-in-war-torn-gaza-monday-at-the-start-of-the-muslim-video-id453004362_19.mp4\n",
    "42\n",
    "getty--video-id104511618_18.mp4\n",
    "43\n",
    "getty-aerial-track-over-erupting-old-faithful-geyser-in-winter-yellowstone-video-id595896631_2.mp4\n",
    "44\n",
    "flickr-6-5-8-1-9-6-9-9-16365819699_53.mp4\n",
    "45\n",
    "getty-ash-explodes-from-crater-of-stromboli-volcano-close-up-shot-stromboli-video-id150962340_13.mp4\n",
    "46\n",
    "getty-medium-shot-girl-posing-with-blue-ribbon-next-to-model-of-erupting-video-id873-100_8.mp4\n",
    "47\n",
    "flickr-4-0-3-7-4-0-5-7-15940374057_128.mp4\n",
    "48\n",
    "getty-bubbling-flowing-redhot-lava-after-the-eruption-of-kilauea-volcano-video-id85200270_11.mp4\n",
    "49\n",
    "getty-bright-moon-shining-behind-eruption-plume-of-geyser-video-id685739069_19.mp4\n",
    "50\n",
    "an-erupting-volcano-sends-lava-spewing-into-the-sky-available-in-hd-video-id3B2FBBA6_0010.mp4\n",
    "51\n",
    "getty-sakurajima-volcano-erupts-violently-with-a-large-explosive-eruption-video-id464368814_13.mp4\n",
    "52\n",
    "getty-hot-spring-video-id185675476_5.mp4\n",
    "53\n",
    "getty-group-of-eoraptors-grazing-in-field-video-id1319-11_9.mp4\n",
    "54\n",
    "getty-boiling-water-ejects-from-erupting-castle-geyser-yellowstone-usa-video-id595897161_15.mp4\n",
    "55\n",
    "getty-close-up-large-waves-of-lava-erupting-from-volcano-marum-volcano-video-id150962405_3.mp4\n",
    "56\n",
    "getty-camera-pans-right-to-geyser-erupting-spraying-white-water-and-grey-video-id1B02172_0004_13.mp4\n",
    "57\n",
    "getty-grey-smoke-and-ash-cloud-rising-quickly-upwards-from-crater-zoom-out-video-id143541934_2.mp4\n",
    "58\n",
    "flickr-0-6-6-5-1-0-5-3-5906651053_10.mp4\n",
    "59\n",
    "giphy-Hssp6w4SfuOB2_10.mp4\n",
    "60\n",
    "flickr-9-7-6-6-1-2-1-7-9497661217_62.mp4\n",
    "61\n",
    "getty-smoke-and-flames-rise-from-ship-after-explosion-at-gadani-yard-on-1-video-id620102418_83.mp4\n",
    "62\n",
    "getty-clouds-scud-over-clepsydra-geyser-erupting-in-yellowstone-national-video-id3B2FBBED_0155_3.mp4\n",
    "63\n",
    "getty-eruption-of-volcano-bromo-in-indonesia-video-id461618460_4.mp4\n",
    "64\n",
    "getty-from-encyclopaedia-britannica-films-documentary-depicting-the-study-video-id85200310_4.mp4\n",
    "65\n",
    "getty-krakatau-video-id493322240_4.mp4\n",
    "66\n",
    "giphy-V05ReDqkS1VCg_4.mp4\n",
    "67\n",
    "flickr-0-5-7-3-1-3-2-1-21105731321_9.mp4\n",
    "68\n",
    "getty-mount-bromo-volcano-in-east-java-indonesia-video-id649447834_3.mp4\n",
    "69\n",
    "getty-mount-aso-video-id483913210_8.mp4\n",
    "70\n",
    "getty-geyser-in-iceland-video-id523120502_9.mp4\n",
    "71\n",
    "getty-sea-hell-in-beppu-japan-video-id473184667_1.mp4\n",
    "72\n",
    "getty-cliff-geyser-erupting-video-id685738891_4.mp4\n",
    "73\n",
    "5-1-1-5-7-8-7-1-6151157871_5.mp4\n",
    "74\n",
    "getty-close-up-shot-of-steam-pouring-from-crater-of-sakurajima-volcano-at-video-id150962351_11.mp4\n",
    "75\n",
    "flickr-1-2-7-2-1-9-4-2-2912721942_9.mp4\n",
    "76\n",
    "getty-mtbromo-time-lapse-video-id613371200_4.mp4\n",
    "77\n",
    "flickr-1-1-3-2-1-3-2-5-15911321325_26.mp4\n",
    "78\n",
    "getty-lava-flows-through-a-channel-available-in-hd-video-id3B2FBBA7_0002_4.mp4\n",
    "79\n",
    "getty-boardwalk-in-volcanic-wonderland-video-id472597513_7.mp4\n",
    "80\n",
    "getty-eruption-of-the-shinmoedake-crater-of-the-kirishima-volcano-japan-28-video-id150975548_14.mp4\n",
    "81\n",
    "getty-the-24story-monaco-tower-at-the-shuttered-riviera-hotel-casino-is-on-video-id591578470_2.mp4\n",
    "82\n",
    "flickr-4-6-7-8905106467_44.mp4\n",
    "83\n",
    "getty-firework-display-in-tokyo-video-id629717708_16.mp4\n",
    "84\n",
    "getty-close-up-of-steaming-lava-dome-at-merapi-volcano-central-java-29-video-id150962577_1.mp4\n",
    "85\n",
    "flickr-5-5-2-2-8-9-2-8-14255228928_19.mp4\n",
    "86\n",
    "getty-eruption-on-krakatau-video-id493455112_3.mp4\n",
    "87\n",
    "yt-SUNwIm3o-64_19.mp4\n",
    "88\n",
    "getty-cotopaxi-volcano-ecuador-erupting-water-vapour-in-november-2015-video-id506205424_4.mp4\n",
    "89\n",
    "getty-lava-surges-in-crater-at-dusk-marum-volcano-ambrym-island-vanuatu-video-id150962395_8.mp4\n",
    "90\n",
    "giphy-xT4uQbhogM1sS5njXi_0.mp4\n",
    "91\n",
    "getty-bright-explosion-with-fairydust-aftereffect-video-iddv389020_1.mp4\n",
    "92\n",
    "getty-aerial-view-of-molten-lava-flow-on-the-island-of-hawaii-video-id640164583_1.mp4\n",
    "93\n",
    "giphy-sUeU52JKc8one_2.mp4\n",
    "94\n",
    "yt-Y_9vd4HWlVA_404.mp4\n",
    "95\n",
    "getty-aerial-view-of-hot-lava-in-hawaii-volcanoes-national-park-video-id640164559_1.mp4\n",
    "96\n",
    "getty-exterior-night-shots-of-baltimore-police-advancing-with-riot-shields-video-id471929516_45.mp4\n",
    "97\n",
    "getty-aerials-active-volcano-aso-video-id459967068_1.mp4\n",
    "98\n",
    "getty-grey-smoke-and-ash-cloud-billow-from-crater-into-sky-zoom-in-to-mount-video-id143541944_89.mp4\n",
    "99\n",
    "getty-november-volcano-erupts-in-columbia-lib-columbia-extnight-nevada-del-video-id675358808_7.mp4\n",
    "\"\"\"\n",
    "\n"
   ]
  },
  {
   "cell_type": "code",
   "execution_count": 5,
   "metadata": {},
   "outputs": [
    {
     "name": "stdout",
     "output_type": "stream",
     "text": [
      "['getty-lava-erupting-from-earth-in-smoking-lava-field-hawaii-video-id1B02924_0004_7.mp4', 'giphy-qufwQbBoDhNYc_12.mp4', 'getty-close-up-fireworks-video-id628285946_1.mp4']\n"
     ]
    }
   ],
   "source": [
    "titlelist = []\n",
    "for line in titlemix.splitlines():\n",
    "    if \"mp4\" in line:\n",
    "        titlelist.append(line)\n",
    "    \n",
    "print(titlelist[0:3])"
   ]
  },
  {
   "cell_type": "code",
   "execution_count": 7,
   "metadata": {},
   "outputs": [
    {
     "name": "stdout",
     "output_type": "stream",
     "text": [
      "Original video is: videos/erupting_val/getty-lava-erupting-from-earth-in-smoking-lava-field-hawaii-video-id1B02924_0004_7.mp4\n",
      "Generated video is: generated_TEST_videos/generated_CVAE_videos/CVAE_generated_0000.mp4\n",
      "Interpolated video written out into: videos_for_poster/eruption_test_00_interpolated.mp4\n",
      "Reduced video written out into: videos_for_poster/eruption_test_00_reduced.mp4\n",
      "Generated vs original video distance is\n",
      "10506.26060975074\n",
      "Interpolated vs original video distance is\n",
      "2203.3576650194586\n",
      "Original video is: videos/erupting_val/giphy-qufwQbBoDhNYc_12.mp4\n",
      "Generated video is: generated_TEST_videos/generated_CVAE_videos/CVAE_generated_0001.mp4\n",
      "Interpolated video written out into: videos_for_poster/eruption_test_01_interpolated.mp4\n",
      "Reduced video written out into: videos_for_poster/eruption_test_01_reduced.mp4\n",
      "Generated vs original video distance is\n",
      "11072.363388184114\n",
      "Interpolated vs original video distance is\n",
      "5441.941565287154\n",
      "Original video is: videos/erupting_val/getty-close-up-fireworks-video-id628285946_1.mp4\n",
      "Generated video is: generated_TEST_videos/generated_CVAE_videos/CVAE_generated_0002.mp4\n",
      "Interpolated video written out into: videos_for_poster/eruption_test_02_interpolated.mp4\n",
      "Reduced video written out into: videos_for_poster/eruption_test_02_reduced.mp4\n",
      "Generated vs original video distance is\n",
      "8589.070496858201\n",
      "Interpolated vs original video distance is\n",
      "7840.011224481761\n",
      "Original video is: videos/erupting_val/flickr-5-3-9-9-6-7-3-0-5553996730_22.mp4\n",
      "Generated video is: generated_TEST_videos/generated_CVAE_videos/CVAE_generated_0003.mp4\n",
      "Interpolated video written out into: videos_for_poster/eruption_test_03_interpolated.mp4\n",
      "Reduced video written out into: videos_for_poster/eruption_test_03_reduced.mp4\n",
      "Generated vs original video distance is\n",
      "19890.599714437973\n",
      "Interpolated vs original video distance is\n",
      "6905.475074171219\n",
      "Original video is: videos/erupting_val/getty-view-of-heavy-explosion-in-tropical-island-video-id105186610_10.mp4\n",
      "Generated video is: generated_TEST_videos/generated_CVAE_videos/CVAE_generated_0004.mp4\n",
      "Interpolated video written out into: videos_for_poster/eruption_test_04_interpolated.mp4\n",
      "Reduced video written out into: videos_for_poster/eruption_test_04_reduced.mp4\n",
      "Generated vs original video distance is\n",
      "10692.757876245025\n",
      "Interpolated vs original video distance is\n",
      "3521.066315762883\n",
      "Original video is: videos/erupting_val/getty-clouds-pass-over-the-summit-of-the-erupting-oldoinyo-lengai-volcano-video-id3B2FBBC6_0597_82.mp4\n",
      "Generated video is: generated_TEST_videos/generated_CVAE_videos/CVAE_generated_0005.mp4\n",
      "Interpolated video written out into: videos_for_poster/eruption_test_05_interpolated.mp4\n",
      "Reduced video written out into: videos_for_poster/eruption_test_05_reduced.mp4\n",
      "Generated vs original video distance is\n",
      "6253.184628651228\n",
      "Interpolated vs original video distance is\n",
      "861.9350323545273\n",
      "Original video is: videos/erupting_val/meta-1395624_51.mp4\n",
      "Generated video is: generated_TEST_videos/generated_CVAE_videos/CVAE_generated_0006.mp4\n",
      "Interpolated video written out into: videos_for_poster/eruption_test_06_interpolated.mp4\n",
      "Reduced video written out into: videos_for_poster/eruption_test_06_reduced.mp4\n",
      "Generated vs original video distance is\n",
      "26805.34151992845\n",
      "Interpolated vs original video distance is\n",
      "9606.146730089022\n",
      "Original video is: videos/erupting_val/getty-close-up-of-firey-explosion-video-id307-291_1.mp4\n",
      "Generated video is: generated_TEST_videos/generated_CVAE_videos/CVAE_generated_0007.mp4\n",
      "Interpolated video written out into: videos_for_poster/eruption_test_07_interpolated.mp4\n",
      "Reduced video written out into: videos_for_poster/eruption_test_07_reduced.mp4\n",
      "Generated vs original video distance is\n",
      "35355.03392729245\n",
      "Interpolated vs original video distance is\n",
      "22876.644640331328\n",
      "Original video is: videos/erupting_val/getty-geysers-atacama-desert-video-id636281892_3.mp4\n",
      "Generated video is: generated_TEST_videos/generated_CVAE_videos/CVAE_generated_0008.mp4\n",
      "Interpolated video written out into: videos_for_poster/eruption_test_08_interpolated.mp4\n",
      "Reduced video written out into: videos_for_poster/eruption_test_08_reduced.mp4\n",
      "Generated vs original video distance is\n",
      "8039.952238664108\n",
      "Interpolated vs original video distance is\n",
      "4676.544130017379\n",
      "Original video is: videos/erupting_val/flickr-7-7-9-1-3-6-9-6-19077913696_14.mp4\n",
      "Generated video is: generated_TEST_videos/generated_CVAE_videos/CVAE_generated_0009.mp4\n",
      "Interpolated video written out into: videos_for_poster/eruption_test_09_interpolated.mp4\n",
      "Reduced video written out into: videos_for_poster/eruption_test_09_reduced.mp4\n",
      "Generated vs original video distance is\n",
      "6826.66551106761\n",
      "Interpolated vs original video distance is\n",
      "2333.4894471584826\n",
      "Original video is: videos/erupting_val/getty-man-sits-on-ledge-overlooking-erupting-lava-lake-marum-volcano-ambrym-video-id150962447_2.mp4\n",
      "Generated video is: generated_TEST_videos/generated_CVAE_videos/CVAE_generated_0010.mp4\n",
      "Interpolated video written out into: videos_for_poster/eruption_test_10_interpolated.mp4\n",
      "Reduced video written out into: videos_for_poster/eruption_test_10_reduced.mp4\n",
      "Generated vs original video distance is\n",
      "32986.36491036865\n",
      "Interpolated vs original video distance is\n",
      "4173.044931461917\n",
      "Original video is: videos/erupting_val/getty-jaguar-crashes-through-a-concrete-barrier-video-id698871039_14.mp4\n",
      "Generated video is: generated_TEST_videos/generated_CVAE_videos/CVAE_generated_0011.mp4\n",
      "Interpolated video written out into: videos_for_poster/eruption_test_11_interpolated.mp4\n",
      "Reduced video written out into: videos_for_poster/eruption_test_11_reduced.mp4\n",
      "Generated vs original video distance is\n",
      "8342.646402671038\n",
      "Interpolated vs original video distance is\n",
      "8851.813147598632\n",
      "Original video is: videos/erupting_val/getty-large-and-dangerous-pyroclastic-flow-sweeps-down-the-side-of-sinabung-video-id478438408_4.mp4\n",
      "Generated video is: generated_TEST_videos/generated_CVAE_videos/CVAE_generated_0012.mp4\n",
      "Interpolated video written out into: videos_for_poster/eruption_test_12_interpolated.mp4\n",
      "Reduced video written out into: videos_for_poster/eruption_test_12_reduced.mp4\n",
      "Generated vs original video distance is\n",
      "10170.85684689348\n",
      "Interpolated vs original video distance is\n",
      "835.8432867469835\n",
      "Original video is: videos/erupting_val/getty-bardarbunga-volcano-eruption-and-lava-flow-video-id626439064_19.mp4\n",
      "Generated video is: generated_TEST_videos/generated_CVAE_videos/CVAE_generated_0013.mp4\n",
      "Interpolated video written out into: videos_for_poster/eruption_test_13_interpolated.mp4\n",
      "Reduced video written out into: videos_for_poster/eruption_test_13_reduced.mp4\n",
      "Generated vs original video distance is\n",
      "10278.515554300631\n",
      "Interpolated vs original video distance is\n",
      "3525.889674961484\n",
      "Original video is: videos/erupting_val/yt-Hj9wcztisDU_787.mp4\n",
      "Generated video is: generated_TEST_videos/generated_CVAE_videos/CVAE_generated_0014.mp4\n",
      "Interpolated video written out into: videos_for_poster/eruption_test_14_interpolated.mp4\n",
      "Reduced video written out into: videos_for_poster/eruption_test_14_reduced.mp4\n",
      "Generated vs original video distance is\n",
      "16595.49878732182\n",
      "Interpolated vs original video distance is\n",
      "11769.666350411127\n",
      "Original video is: videos/erupting_val/getty-geyser-erupts-and-splashes-video-id685738819_1.mp4\n",
      "Generated video is: generated_TEST_videos/generated_CVAE_videos/CVAE_generated_0015.mp4\n",
      "Interpolated video written out into: videos_for_poster/eruption_test_15_interpolated.mp4\n",
      "Reduced video written out into: videos_for_poster/eruption_test_15_reduced.mp4\n",
      "Generated vs original video distance is\n",
      "15148.569503421768\n",
      "Interpolated vs original video distance is\n",
      "7478.637242171865\n",
      "Original video is: videos/erupting_val/getty-volcanic-eruptions-on-mt-etna-sicily-italy-video-id157397360_10.mp4\n",
      "Generated video is: generated_TEST_videos/generated_CVAE_videos/CVAE_generated_0016.mp4\n",
      "Interpolated video written out into: videos_for_poster/eruption_test_16_interpolated.mp4\n",
      "Reduced video written out into: videos_for_poster/eruption_test_16_reduced.mp4\n",
      "Generated vs original video distance is\n",
      "18492.0696245715\n",
      "Interpolated vs original video distance is\n",
      "1985.1740477852313\n",
      "Original video is: videos/erupting_val/getty-major-volcanic-eruption-and-ash-cloud-at-mount-sinabung-video-id498515125_7.mp4\n",
      "Generated video is: generated_TEST_videos/generated_CVAE_videos/CVAE_generated_0017.mp4\n"
     ]
    },
    {
     "name": "stdout",
     "output_type": "stream",
     "text": [
      "Interpolated video written out into: videos_for_poster/eruption_test_17_interpolated.mp4\n",
      "Reduced video written out into: videos_for_poster/eruption_test_17_reduced.mp4\n",
      "Generated vs original video distance is\n",
      "9393.10922964276\n",
      "Interpolated vs original video distance is\n",
      "307.74827375632833\n",
      "Original video is: videos/erupting_val/giphy-1cdrsxfhNHfAQ_2.mp4\n",
      "Generated video is: generated_TEST_videos/generated_CVAE_videos/CVAE_generated_0018.mp4\n",
      "Interpolated video written out into: videos_for_poster/eruption_test_18_interpolated.mp4\n",
      "Reduced video written out into: videos_for_poster/eruption_test_18_reduced.mp4\n",
      "Generated vs original video distance is\n",
      "23270.0600987621\n",
      "Interpolated vs original video distance is\n",
      "768.2252273910302\n",
      "Original video is: videos/erupting_val/getty-film-can-the-birth-of-a-nation-clip-battle-field-lillian-gish-sitting-video-id509496583_9.mp4\n",
      "Generated video is: generated_TEST_videos/generated_CVAE_videos/CVAE_generated_0019.mp4\n",
      "Interpolated video written out into: videos_for_poster/eruption_test_19_interpolated.mp4\n",
      "Reduced video written out into: videos_for_poster/eruption_test_19_reduced.mp4\n",
      "Generated vs original video distance is\n",
      "36112.705589584395\n",
      "Interpolated vs original video distance is\n",
      "34992.36255241992\n",
      "Original video is: videos/erupting_val/getty-geysers-at-yellowstone-national-park-wyoming-usa-video-id83264515_16.mp4\n",
      "Generated video is: generated_TEST_videos/generated_CVAE_videos/CVAE_generated_0020.mp4\n",
      "Interpolated video written out into: videos_for_poster/eruption_test_20_interpolated.mp4\n",
      "Reduced video written out into: videos_for_poster/eruption_test_20_reduced.mp4\n",
      "Generated vs original video distance is\n",
      "14961.52635929904\n",
      "Interpolated vs original video distance is\n",
      "10052.189960401663\n",
      "Original video is: videos/erupting_val/flickr-7-0-0-3-7-1-1-8-21470037118_126.mp4\n",
      "Generated video is: generated_TEST_videos/generated_CVAE_videos/CVAE_generated_0021.mp4\n",
      "Interpolated video written out into: videos_for_poster/eruption_test_21_interpolated.mp4\n",
      "Reduced video written out into: videos_for_poster/eruption_test_21_reduced.mp4\n",
      "Generated vs original video distance is\n",
      "20375.667989050078\n",
      "Interpolated vs original video distance is\n",
      "15583.509906308014\n",
      "Original video is: videos/erupting_val/getty-eruption-on-mt-etna-13-october-98-sicily-italy-video-id157397349_2.mp4\n",
      "Generated video is: generated_TEST_videos/generated_CVAE_videos/CVAE_generated_0022.mp4\n",
      "Interpolated video written out into: videos_for_poster/eruption_test_22_interpolated.mp4\n",
      "Reduced video written out into: videos_for_poster/eruption_test_22_reduced.mp4\n",
      "Generated vs original video distance is\n",
      "21609.440390718126\n",
      "Interpolated vs original video distance is\n",
      "10854.495704545652\n",
      "Original video is: videos/erupting_val/getty-lava-from-a-volcanic-eruption-spews-into-the-night-sky-available-in-video-id3B2FBBA6_0005_67.mp4\n",
      "Generated video is: generated_TEST_videos/generated_CVAE_videos/CVAE_generated_0023.mp4\n",
      "Interpolated video written out into: videos_for_poster/eruption_test_23_interpolated.mp4\n",
      "Reduced video written out into: videos_for_poster/eruption_test_23_reduced.mp4\n",
      "Generated vs original video distance is\n",
      "33757.141614775384\n",
      "Interpolated vs original video distance is\n",
      "3369.2445740848198\n",
      "Original video is: videos/erupting_val/getty-aerials-active-volcano-shinmoedake-video-id459964798_41.mp4\n",
      "Generated video is: generated_TEST_videos/generated_CVAE_videos/CVAE_generated_0024.mp4\n",
      "Interpolated video written out into: videos_for_poster/eruption_test_24_interpolated.mp4\n",
      "Reduced video written out into: videos_for_poster/eruption_test_24_reduced.mp4\n",
      "Generated vs original video distance is\n",
      "7755.496631422129\n",
      "Interpolated vs original video distance is\n",
      "1482.6688773964333\n",
      "Original video is: videos/erupting_val/getty-eruzione-di-una-bocca-del-vulcano-stromboli-video-id847691400_13.mp4\n",
      "Generated video is: generated_TEST_videos/generated_CVAE_videos/CVAE_generated_0025.mp4\n",
      "Interpolated video written out into: videos_for_poster/eruption_test_25_interpolated.mp4\n",
      "Reduced video written out into: videos_for_poster/eruption_test_25_reduced.mp4\n",
      "Generated vs original video distance is\n",
      "11080.843334331552\n",
      "Interpolated vs original video distance is\n",
      "797.2590545111419\n",
      "Original video is: videos/erupting_val/giphy-ClG9uYb0hWzPq_0.mp4\n",
      "Generated video is: generated_TEST_videos/generated_CVAE_videos/CVAE_generated_0026.mp4\n",
      "Interpolated video written out into: videos_for_poster/eruption_test_26_interpolated.mp4\n",
      "Reduced video written out into: videos_for_poster/eruption_test_26_reduced.mp4\n",
      "Generated vs original video distance is\n",
      "24957.783595503828\n",
      "Interpolated vs original video distance is\n",
      "6567.039439503923\n",
      "Original video is: videos/erupting_val/getty-geyser-hole-filled-of-boiling-water-before-eruption-iceland-video-id456462830_6.mp4\n",
      "Generated video is: generated_TEST_videos/generated_CVAE_videos/CVAE_generated_0027.mp4\n",
      "Interpolated video written out into: videos_for_poster/eruption_test_27_interpolated.mp4\n",
      "Reduced video written out into: videos_for_poster/eruption_test_27_reduced.mp4\n",
      "Generated vs original video distance is\n",
      "11501.513291736876\n",
      "Interpolated vs original video distance is\n",
      "5679.840138595452\n",
      "Original video is: videos/erupting_val/getty-hot-water-spurting-from-geyser-yellowstone-national-park-wyoming-video-id141030434_2.mp4\n",
      "Generated video is: generated_TEST_videos/generated_CVAE_videos/CVAE_generated_0028.mp4\n",
      "Interpolated video written out into: videos_for_poster/eruption_test_28_interpolated.mp4\n",
      "Reduced video written out into: videos_for_poster/eruption_test_28_reduced.mp4\n",
      "Generated vs original video distance is\n",
      "20162.263662595033\n",
      "Interpolated vs original video distance is\n",
      "17164.44901533399\n",
      "Original video is: videos/erupting_val/getty-close-up-vigorously-erupting-lava-lake-in-marum-volcano-marum-volcano-video-id150962413_2.mp4\n",
      "Generated video is: generated_TEST_videos/generated_CVAE_videos/CVAE_generated_0029.mp4\n",
      "Interpolated video written out into: videos_for_poster/eruption_test_29_interpolated.mp4\n",
      "Reduced video written out into: videos_for_poster/eruption_test_29_reduced.mp4\n",
      "Generated vs original video distance is\n",
      "43900.44155814381\n",
      "Interpolated vs original video distance is\n",
      "3470.78651028841\n",
      "Original video is: videos/erupting_val/getty-flames-rise-from-a-volcanic-eruption-on-fernandina-island-available-video-id3B2FBBA3_0001_5.mp4\n",
      "Generated video is: generated_TEST_videos/generated_CVAE_videos/CVAE_generated_0030.mp4\n",
      "Interpolated video written out into: videos_for_poster/eruption_test_30_interpolated.mp4\n",
      "Reduced video written out into: videos_for_poster/eruption_test_30_reduced.mp4\n",
      "Generated vs original video distance is\n",
      "19089.895049475785\n",
      "Interpolated vs original video distance is\n",
      "846.6575458826313\n",
      "Original video is: videos/erupting_val/getty-aerial-track-towards-and-over-smoking-volcano-and-crater-video-id1B03393_0004_1.mp4\n",
      "Generated video is: generated_TEST_videos/generated_CVAE_videos/CVAE_generated_0031.mp4\n",
      "Interpolated video written out into: videos_for_poster/eruption_test_31_interpolated.mp4\n",
      "Reduced video written out into: videos_for_poster/eruption_test_31_reduced.mp4\n",
      "Generated vs original video distance is\n",
      "25552.780161853232\n",
      "Interpolated vs original video distance is\n",
      "4258.639806323141\n",
      "Original video is: videos/erupting_val/getty-big-ash-column-rises-from-shinmoedake-volcano-at-night-mount-in-of-video-id478689742_6.mp4\n",
      "Generated video is: generated_TEST_videos/generated_CVAE_videos/CVAE_generated_0032.mp4\n",
      "Interpolated video written out into: videos_for_poster/eruption_test_32_interpolated.mp4\n",
      "Reduced video written out into: videos_for_poster/eruption_test_32_reduced.mp4\n",
      "Generated vs original video distance is\n",
      "21991.889073019625\n",
      "Interpolated vs original video distance is\n",
      "1035.6809354236468\n",
      "Original video is: videos/erupting_val/getty-el-volcan-calbuco-registro-dos-violentas-y-sorpresivas-erupciones-en-video-id471199520_34.mp4\n",
      "Generated video is: generated_TEST_videos/generated_CVAE_videos/CVAE_generated_0033.mp4\n",
      "Interpolated video written out into: videos_for_poster/eruption_test_33_interpolated.mp4\n",
      "Reduced video written out into: videos_for_poster/eruption_test_33_reduced.mp4\n",
      "Generated vs original video distance is\n",
      "26933.271227238623\n",
      "Interpolated vs original video distance is\n",
      "4234.803301217189\n",
      "Original video is: videos/erupting_val/getty-timelapsed-of-sunrise-at-mount-bromo-volcano-the-magnificent-view-of-video-id545326216_3.mp4\n",
      "Generated video is: generated_TEST_videos/generated_CVAE_videos/CVAE_generated_0034.mp4\n"
     ]
    },
    {
     "name": "stdout",
     "output_type": "stream",
     "text": [
      "Interpolated video written out into: videos_for_poster/eruption_test_34_interpolated.mp4\n",
      "Reduced video written out into: videos_for_poster/eruption_test_34_reduced.mp4\n",
      "Generated vs original video distance is\n",
      "16005.213431879001\n",
      "Interpolated vs original video distance is\n",
      "1819.7101417533509\n",
      "Original video is: videos/erupting_val/getty-the-voskok-1-becomes-the-first-manned-spaceflight-video-id450027634_46.mp4\n",
      "Generated video is: generated_TEST_videos/generated_CVAE_videos/CVAE_generated_0035.mp4\n",
      "Interpolated video written out into: videos_for_poster/eruption_test_35_interpolated.mp4\n",
      "Reduced video written out into: videos_for_poster/eruption_test_35_reduced.mp4\n",
      "Generated vs original video distance is\n",
      "10172.499692799209\n",
      "Interpolated vs original video distance is\n",
      "8136.9485681058595\n",
      "Original video is: videos/erupting_val/flickr-1-3-3-7-8-6-3-3-18513378633_4.mp4\n",
      "Generated video is: generated_TEST_videos/generated_CVAE_videos/CVAE_generated_0036.mp4\n",
      "Interpolated video written out into: videos_for_poster/eruption_test_36_interpolated.mp4\n",
      "Reduced video written out into: videos_for_poster/eruption_test_36_reduced.mp4\n",
      "Generated vs original video distance is\n",
      "13181.57926805434\n",
      "Interpolated vs original video distance is\n",
      "3090.0954677808904\n",
      "Original video is: videos/erupting_val/getty-yasur-volcano-video-id465612842_2.mp4\n",
      "Generated video is: generated_TEST_videos/generated_CVAE_videos/CVAE_generated_0037.mp4\n",
      "Interpolated video written out into: videos_for_poster/eruption_test_37_interpolated.mp4\n",
      "Reduced video written out into: videos_for_poster/eruption_test_37_reduced.mp4\n",
      "Generated vs original video distance is\n",
      "14456.457761152971\n",
      "Interpolated vs original video distance is\n",
      "2394.550479735184\n",
      "Original video is: videos/erupting_val/getty-algal-mat-grows-at-edge-of-hot-geyser-pool-yellowstone-usa-video-id564828225_9.mp4\n",
      "Generated video is: generated_TEST_videos/generated_CVAE_videos/CVAE_generated_0038.mp4\n",
      "Interpolated video written out into: videos_for_poster/eruption_test_38_interpolated.mp4\n",
      "Reduced video written out into: videos_for_poster/eruption_test_38_reduced.mp4\n",
      "Generated vs original video distance is\n",
      "9957.696420357472\n",
      "Interpolated vs original video distance is\n",
      "1419.2099915093609\n",
      "Original video is: videos/erupting_val/getty-volcanic-ash-erupts-vigorously-from-the-crater-at-sakurajima-volcano-video-id695848030_12.mp4\n",
      "Generated video is: generated_TEST_videos/generated_CVAE_videos/CVAE_generated_0039.mp4\n",
      "Interpolated video written out into: videos_for_poster/eruption_test_39_interpolated.mp4\n",
      "Reduced video written out into: videos_for_poster/eruption_test_39_reduced.mp4\n",
      "Generated vs original video distance is\n",
      "12517.978790523652\n",
      "Interpolated vs original video distance is\n",
      "341.41763281939615\n",
      "Original video is: videos/erupting_val/getty-large-eruption-at-sakurajima-volcano-in-japan-sends-volcanic-ash-video-id464370844_11.mp4\n",
      "Generated video is: generated_TEST_videos/generated_CVAE_videos/CVAE_generated_0040.mp4\n",
      "Interpolated video written out into: videos_for_poster/eruption_test_40_interpolated.mp4\n",
      "Reduced video written out into: videos_for_poster/eruption_test_40_reduced.mp4\n",
      "Generated vs original video distance is\n",
      "18635.23278631099\n",
      "Interpolated vs original video distance is\n",
      "665.0323300411793\n",
      "Original video is: videos/erupting_val/getty-fighting-subsided-in-war-torn-gaza-monday-at-the-start-of-the-muslim-video-id453004362_19.mp4\n",
      "Generated video is: generated_TEST_videos/generated_CVAE_videos/CVAE_generated_0041.mp4\n",
      "Interpolated video written out into: videos_for_poster/eruption_test_41_interpolated.mp4\n",
      "Reduced video written out into: videos_for_poster/eruption_test_41_reduced.mp4\n",
      "Generated vs original video distance is\n",
      "22378.956812148328\n",
      "Interpolated vs original video distance is\n",
      "12209.152509490576\n",
      "Original video is: videos/erupting_val/getty--video-id104511618_18.mp4\n",
      "Generated video is: generated_TEST_videos/generated_CVAE_videos/CVAE_generated_0042.mp4\n",
      "Interpolated video written out into: videos_for_poster/eruption_test_42_interpolated.mp4\n",
      "Reduced video written out into: videos_for_poster/eruption_test_42_reduced.mp4\n",
      "Generated vs original video distance is\n",
      "7396.216870806318\n",
      "Interpolated vs original video distance is\n",
      "802.8997446755105\n",
      "Original video is: videos/erupting_val/getty-aerial-track-over-erupting-old-faithful-geyser-in-winter-yellowstone-video-id595896631_2.mp4\n",
      "Generated video is: generated_TEST_videos/generated_CVAE_videos/CVAE_generated_0043.mp4\n",
      "Interpolated video written out into: videos_for_poster/eruption_test_43_interpolated.mp4\n",
      "Reduced video written out into: videos_for_poster/eruption_test_43_reduced.mp4\n",
      "Generated vs original video distance is\n",
      "16137.539372531364\n",
      "Interpolated vs original video distance is\n",
      "6823.18877065555\n",
      "Original video is: videos/erupting_val/flickr-6-5-8-1-9-6-9-9-16365819699_53.mp4\n",
      "Generated video is: generated_TEST_videos/generated_CVAE_videos/CVAE_generated_0044.mp4\n",
      "Interpolated video written out into: videos_for_poster/eruption_test_44_interpolated.mp4\n",
      "Reduced video written out into: videos_for_poster/eruption_test_44_reduced.mp4\n",
      "Generated vs original video distance is\n",
      "20966.448244755236\n",
      "Interpolated vs original video distance is\n",
      "7006.145944811598\n",
      "Original video is: videos/erupting_val/getty-ash-explodes-from-crater-of-stromboli-volcano-close-up-shot-stromboli-video-id150962340_13.mp4\n",
      "Generated video is: generated_TEST_videos/generated_CVAE_videos/CVAE_generated_0045.mp4\n",
      "Interpolated video written out into: videos_for_poster/eruption_test_45_interpolated.mp4\n",
      "Reduced video written out into: videos_for_poster/eruption_test_45_reduced.mp4\n",
      "Generated vs original video distance is\n",
      "13101.150331173214\n",
      "Interpolated vs original video distance is\n",
      "5607.791989722871\n",
      "Original video is: videos/erupting_val/getty-medium-shot-girl-posing-with-blue-ribbon-next-to-model-of-erupting-video-id873-100_8.mp4\n",
      "Generated video is: generated_TEST_videos/generated_CVAE_videos/CVAE_generated_0046.mp4\n",
      "Interpolated video written out into: videos_for_poster/eruption_test_46_interpolated.mp4\n",
      "Reduced video written out into: videos_for_poster/eruption_test_46_reduced.mp4\n",
      "Generated vs original video distance is\n",
      "18706.470324462603\n",
      "Interpolated vs original video distance is\n",
      "5937.981222604194\n",
      "Original video is: videos/erupting_val/flickr-4-0-3-7-4-0-5-7-15940374057_128.mp4\n",
      "Generated video is: generated_TEST_videos/generated_CVAE_videos/CVAE_generated_0047.mp4\n",
      "Interpolated video written out into: videos_for_poster/eruption_test_47_interpolated.mp4\n",
      "Reduced video written out into: videos_for_poster/eruption_test_47_reduced.mp4\n",
      "Generated vs original video distance is\n",
      "18716.649807056816\n",
      "Interpolated vs original video distance is\n",
      "2303.6594800447397\n",
      "Original video is: videos/erupting_val/getty-bubbling-flowing-redhot-lava-after-the-eruption-of-kilauea-volcano-video-id85200270_11.mp4\n",
      "Generated video is: generated_TEST_videos/generated_CVAE_videos/CVAE_generated_0048.mp4\n",
      "Interpolated video written out into: videos_for_poster/eruption_test_48_interpolated.mp4\n",
      "Reduced video written out into: videos_for_poster/eruption_test_48_reduced.mp4\n",
      "Generated vs original video distance is\n",
      "61428.448906023994\n",
      "Interpolated vs original video distance is\n",
      "13590.78029400814\n",
      "Original video is: videos/erupting_val/getty-bright-moon-shining-behind-eruption-plume-of-geyser-video-id685739069_19.mp4\n",
      "Generated video is: generated_TEST_videos/generated_CVAE_videos/CVAE_generated_0049.mp4\n",
      "Interpolated video written out into: videos_for_poster/eruption_test_49_interpolated.mp4\n",
      "Reduced video written out into: videos_for_poster/eruption_test_49_reduced.mp4\n",
      "Generated vs original video distance is\n",
      "8982.821939680203\n",
      "Interpolated vs original video distance is\n",
      "1227.8379371887806\n",
      "Original video is: videos/erupting_val/an-erupting-volcano-sends-lava-spewing-into-the-sky-available-in-hd-video-id3B2FBBA6_0010.mp4\n",
      "Generated video is: generated_TEST_videos/generated_CVAE_videos/CVAE_generated_0050.mp4\n",
      "Interpolated video written out into: videos_for_poster/eruption_test_50_interpolated.mp4\n",
      "Reduced video written out into: videos_for_poster/eruption_test_50_reduced.mp4\n",
      "Generated vs original video distance is\n",
      "46951.65812833451\n",
      "Interpolated vs original video distance is\n",
      "4012.873534015245\n",
      "Original video is: videos/erupting_val/getty-sakurajima-volcano-erupts-violently-with-a-large-explosive-eruption-video-id464368814_13.mp4\n",
      "Generated video is: generated_TEST_videos/generated_CVAE_videos/CVAE_generated_0051.mp4\n"
     ]
    },
    {
     "name": "stdout",
     "output_type": "stream",
     "text": [
      "Interpolated video written out into: videos_for_poster/eruption_test_51_interpolated.mp4\n",
      "Reduced video written out into: videos_for_poster/eruption_test_51_reduced.mp4\n",
      "Generated vs original video distance is\n",
      "12909.864367993956\n",
      "Interpolated vs original video distance is\n",
      "5126.729756872309\n",
      "Original video is: videos/erupting_val/getty-hot-spring-video-id185675476_5.mp4\n",
      "Generated video is: generated_TEST_videos/generated_CVAE_videos/CVAE_generated_0052.mp4\n",
      "Interpolated video written out into: videos_for_poster/eruption_test_52_interpolated.mp4\n",
      "Reduced video written out into: videos_for_poster/eruption_test_52_reduced.mp4\n",
      "Generated vs original video distance is\n",
      "16484.569421128355\n",
      "Interpolated vs original video distance is\n",
      "3784.1836636188787\n",
      "Original video is: videos/erupting_val/getty-group-of-eoraptors-grazing-in-field-video-id1319-11_9.mp4\n",
      "Generated video is: generated_TEST_videos/generated_CVAE_videos/CVAE_generated_0053.mp4\n",
      "Interpolated video written out into: videos_for_poster/eruption_test_53_interpolated.mp4\n",
      "Reduced video written out into: videos_for_poster/eruption_test_53_reduced.mp4\n",
      "Generated vs original video distance is\n",
      "23498.161247212516\n",
      "Interpolated vs original video distance is\n",
      "8000.365054170966\n",
      "Original video is: videos/erupting_val/getty-boiling-water-ejects-from-erupting-castle-geyser-yellowstone-usa-video-id595897161_15.mp4\n",
      "Generated video is: generated_TEST_videos/generated_CVAE_videos/CVAE_generated_0054.mp4\n",
      "Interpolated video written out into: videos_for_poster/eruption_test_54_interpolated.mp4\n",
      "Reduced video written out into: videos_for_poster/eruption_test_54_reduced.mp4\n",
      "Generated vs original video distance is\n",
      "9341.742878071522\n",
      "Interpolated vs original video distance is\n",
      "3693.9913372935785\n",
      "Original video is: videos/erupting_val/getty-close-up-large-waves-of-lava-erupting-from-volcano-marum-volcano-video-id150962405_3.mp4\n",
      "Generated video is: generated_TEST_videos/generated_CVAE_videos/CVAE_generated_0055.mp4\n",
      "Interpolated video written out into: videos_for_poster/eruption_test_55_interpolated.mp4\n",
      "Reduced video written out into: videos_for_poster/eruption_test_55_reduced.mp4\n",
      "Generated vs original video distance is\n",
      "57656.03108955732\n",
      "Interpolated vs original video distance is\n",
      "6593.167220691434\n",
      "Original video is: videos/erupting_val/getty-camera-pans-right-to-geyser-erupting-spraying-white-water-and-grey-video-id1B02172_0004_13.mp4\n",
      "Generated video is: generated_TEST_videos/generated_CVAE_videos/CVAE_generated_0056.mp4\n",
      "Interpolated video written out into: videos_for_poster/eruption_test_56_interpolated.mp4\n",
      "Reduced video written out into: videos_for_poster/eruption_test_56_reduced.mp4\n",
      "Generated vs original video distance is\n",
      "11536.116504266069\n",
      "Interpolated vs original video distance is\n",
      "3904.4502814096636\n",
      "Original video is: videos/erupting_val/getty-grey-smoke-and-ash-cloud-rising-quickly-upwards-from-crater-zoom-out-video-id143541934_2.mp4\n",
      "Generated video is: generated_TEST_videos/generated_CVAE_videos/CVAE_generated_0057.mp4\n",
      "Interpolated video written out into: videos_for_poster/eruption_test_57_interpolated.mp4\n",
      "Reduced video written out into: videos_for_poster/eruption_test_57_reduced.mp4\n",
      "Generated vs original video distance is\n",
      "10520.948626430983\n",
      "Interpolated vs original video distance is\n",
      "562.6624209950403\n",
      "Original video is: videos/erupting_val/flickr-0-6-6-5-1-0-5-3-5906651053_10.mp4\n",
      "Generated video is: generated_TEST_videos/generated_CVAE_videos/CVAE_generated_0058.mp4\n",
      "Interpolated video written out into: videos_for_poster/eruption_test_58_interpolated.mp4\n",
      "Reduced video written out into: videos_for_poster/eruption_test_58_reduced.mp4\n",
      "Generated vs original video distance is\n",
      "38773.4964247487\n",
      "Interpolated vs original video distance is\n",
      "22557.65364571413\n",
      "Original video is: videos/erupting_val/giphy-Hssp6w4SfuOB2_10.mp4\n",
      "Generated video is: generated_TEST_videos/generated_CVAE_videos/CVAE_generated_0059.mp4\n",
      "Interpolated video written out into: videos_for_poster/eruption_test_59_interpolated.mp4\n",
      "Reduced video written out into: videos_for_poster/eruption_test_59_reduced.mp4\n",
      "Generated vs original video distance is\n",
      "39549.36372433822\n",
      "Interpolated vs original video distance is\n",
      "1978.4370093586504\n",
      "Original video is: videos/erupting_val/flickr-9-7-6-6-1-2-1-7-9497661217_62.mp4\n",
      "Generated video is: generated_TEST_videos/generated_CVAE_videos/CVAE_generated_0060.mp4\n",
      "Interpolated video written out into: videos_for_poster/eruption_test_60_interpolated.mp4\n",
      "Reduced video written out into: videos_for_poster/eruption_test_60_reduced.mp4\n",
      "Generated vs original video distance is\n",
      "21373.537727760464\n",
      "Interpolated vs original video distance is\n",
      "17799.419822005435\n",
      "Original video is: videos/erupting_val/getty-smoke-and-flames-rise-from-ship-after-explosion-at-gadani-yard-on-1-video-id620102418_83.mp4\n",
      "Generated video is: generated_TEST_videos/generated_CVAE_videos/CVAE_generated_0061.mp4\n",
      "Interpolated video written out into: videos_for_poster/eruption_test_61_interpolated.mp4\n",
      "Reduced video written out into: videos_for_poster/eruption_test_61_reduced.mp4\n",
      "Generated vs original video distance is\n",
      "21656.83949702726\n",
      "Interpolated vs original video distance is\n",
      "16980.816470358543\n",
      "Original video is: videos/erupting_val/getty-clouds-scud-over-clepsydra-geyser-erupting-in-yellowstone-national-video-id3B2FBBED_0155_3.mp4\n",
      "Generated video is: generated_TEST_videos/generated_CVAE_videos/CVAE_generated_0062.mp4\n",
      "Interpolated video written out into: videos_for_poster/eruption_test_62_interpolated.mp4\n",
      "Reduced video written out into: videos_for_poster/eruption_test_62_reduced.mp4\n",
      "Generated vs original video distance is\n",
      "12710.886239755275\n",
      "Interpolated vs original video distance is\n",
      "13647.800921760252\n",
      "Original video is: videos/erupting_val/getty-eruption-of-volcano-bromo-in-indonesia-video-id461618460_4.mp4\n",
      "Generated video is: generated_TEST_videos/generated_CVAE_videos/CVAE_generated_0063.mp4\n",
      "Interpolated video written out into: videos_for_poster/eruption_test_63_interpolated.mp4\n",
      "Reduced video written out into: videos_for_poster/eruption_test_63_reduced.mp4\n",
      "Generated vs original video distance is\n",
      "17594.808779864587\n",
      "Interpolated vs original video distance is\n",
      "291.91265817021366\n",
      "Original video is: videos/erupting_val/getty-from-encyclopaedia-britannica-films-documentary-depicting-the-study-video-id85200310_4.mp4\n",
      "Generated video is: generated_TEST_videos/generated_CVAE_videos/CVAE_generated_0064.mp4\n",
      "Interpolated video written out into: videos_for_poster/eruption_test_64_interpolated.mp4\n",
      "Reduced video written out into: videos_for_poster/eruption_test_64_reduced.mp4\n",
      "Generated vs original video distance is\n",
      "39988.951311581055\n",
      "Interpolated vs original video distance is\n",
      "13096.09121073918\n",
      "Original video is: videos/erupting_val/getty-krakatau-video-id493322240_4.mp4\n",
      "Generated video is: generated_TEST_videos/generated_CVAE_videos/CVAE_generated_0065.mp4\n",
      "Interpolated video written out into: videos_for_poster/eruption_test_65_interpolated.mp4\n",
      "Reduced video written out into: videos_for_poster/eruption_test_65_reduced.mp4\n",
      "Generated vs original video distance is\n",
      "13998.908814618373\n",
      "Interpolated vs original video distance is\n",
      "7272.671654900969\n",
      "Original video is: videos/erupting_val/giphy-V05ReDqkS1VCg_4.mp4\n",
      "Generated video is: generated_TEST_videos/generated_CVAE_videos/CVAE_generated_0066.mp4\n",
      "Interpolated video written out into: videos_for_poster/eruption_test_66_interpolated.mp4\n",
      "Reduced video written out into: videos_for_poster/eruption_test_66_reduced.mp4\n",
      "Generated vs original video distance is\n",
      "15177.211041558327\n",
      "Interpolated vs original video distance is\n",
      "6037.016564496075\n",
      "Original video is: videos/erupting_val/flickr-0-5-7-3-1-3-2-1-21105731321_9.mp4\n",
      "Generated video is: generated_TEST_videos/generated_CVAE_videos/CVAE_generated_0067.mp4\n",
      "Interpolated video written out into: videos_for_poster/eruption_test_67_interpolated.mp4\n",
      "Reduced video written out into: videos_for_poster/eruption_test_67_reduced.mp4\n",
      "Generated vs original video distance is\n",
      "14036.002137360909\n",
      "Interpolated vs original video distance is\n",
      "7965.112491358801\n",
      "Original video is: videos/erupting_val/getty-mount-bromo-volcano-in-east-java-indonesia-video-id649447834_3.mp4\n",
      "Generated video is: generated_TEST_videos/generated_CVAE_videos/CVAE_generated_0068.mp4\n"
     ]
    },
    {
     "name": "stdout",
     "output_type": "stream",
     "text": [
      "Interpolated video written out into: videos_for_poster/eruption_test_68_interpolated.mp4\n",
      "Reduced video written out into: videos_for_poster/eruption_test_68_reduced.mp4\n",
      "Generated vs original video distance is\n",
      "9634.967877476292\n",
      "Interpolated vs original video distance is\n",
      "1192.8952175275078\n",
      "Original video is: videos/erupting_val/getty-mount-aso-video-id483913210_8.mp4\n",
      "Generated video is: generated_TEST_videos/generated_CVAE_videos/CVAE_generated_0069.mp4\n",
      "Interpolated video written out into: videos_for_poster/eruption_test_69_interpolated.mp4\n",
      "Reduced video written out into: videos_for_poster/eruption_test_69_reduced.mp4\n",
      "Generated vs original video distance is\n",
      "12710.341734194246\n",
      "Interpolated vs original video distance is\n",
      "3436.012077976444\n",
      "Original video is: videos/erupting_val/getty-geyser-in-iceland-video-id523120502_9.mp4\n",
      "Generated video is: generated_TEST_videos/generated_CVAE_videos/CVAE_generated_0070.mp4\n",
      "Interpolated video written out into: videos_for_poster/eruption_test_70_interpolated.mp4\n",
      "Reduced video written out into: videos_for_poster/eruption_test_70_reduced.mp4\n",
      "Generated vs original video distance is\n",
      "13783.90390999589\n",
      "Interpolated vs original video distance is\n",
      "1736.3723678980843\n",
      "Original video is: videos/erupting_val/getty-sea-hell-in-beppu-japan-video-id473184667_1.mp4\n",
      "Generated video is: generated_TEST_videos/generated_CVAE_videos/CVAE_generated_0071.mp4\n",
      "Interpolated video written out into: videos_for_poster/eruption_test_71_interpolated.mp4\n",
      "Reduced video written out into: videos_for_poster/eruption_test_71_reduced.mp4\n",
      "Generated vs original video distance is\n",
      "19852.215317188155\n",
      "Interpolated vs original video distance is\n",
      "13984.189715532324\n",
      "Original video is: videos/erupting_val/getty-cliff-geyser-erupting-video-id685738891_4.mp4\n",
      "Generated video is: generated_TEST_videos/generated_CVAE_videos/CVAE_generated_0072.mp4\n",
      "Interpolated video written out into: videos_for_poster/eruption_test_72_interpolated.mp4\n",
      "Reduced video written out into: videos_for_poster/eruption_test_72_reduced.mp4\n",
      "Generated vs original video distance is\n",
      "11098.980088278382\n",
      "Interpolated vs original video distance is\n",
      "1744.3030126672372\n",
      "Original video is: videos/erupting_val/5-1-1-5-7-8-7-1-6151157871_5.mp4\n",
      "Generated video is: generated_TEST_videos/generated_CVAE_videos/CVAE_generated_0073.mp4\n",
      "Interpolated video written out into: videos_for_poster/eruption_test_73_interpolated.mp4\n",
      "Reduced video written out into: videos_for_poster/eruption_test_73_reduced.mp4\n",
      "Generated vs original video distance is\n",
      "17113.23557951564\n",
      "Interpolated vs original video distance is\n",
      "12084.562011094982\n",
      "Original video is: videos/erupting_val/getty-close-up-shot-of-steam-pouring-from-crater-of-sakurajima-volcano-at-video-id150962351_11.mp4\n",
      "Generated video is: generated_TEST_videos/generated_CVAE_videos/CVAE_generated_0074.mp4\n",
      "Interpolated video written out into: videos_for_poster/eruption_test_74_interpolated.mp4\n",
      "Reduced video written out into: videos_for_poster/eruption_test_74_reduced.mp4\n",
      "Generated vs original video distance is\n",
      "13587.809242111107\n",
      "Interpolated vs original video distance is\n",
      "579.8422199184878\n",
      "Original video is: videos/erupting_val/flickr-1-2-7-2-1-9-4-2-2912721942_9.mp4\n",
      "Generated video is: generated_TEST_videos/generated_CVAE_videos/CVAE_generated_0075.mp4\n",
      "Interpolated video written out into: videos_for_poster/eruption_test_75_interpolated.mp4\n",
      "Reduced video written out into: videos_for_poster/eruption_test_75_reduced.mp4\n",
      "Generated vs original video distance is\n",
      "15952.093091503697\n",
      "Interpolated vs original video distance is\n",
      "3259.1745887570983\n",
      "Original video is: videos/erupting_val/getty-mtbromo-time-lapse-video-id613371200_4.mp4\n",
      "Generated video is: generated_TEST_videos/generated_CVAE_videos/CVAE_generated_0076.mp4\n",
      "Interpolated video written out into: videos_for_poster/eruption_test_76_interpolated.mp4\n",
      "Reduced video written out into: videos_for_poster/eruption_test_76_reduced.mp4\n",
      "Generated vs original video distance is\n",
      "13586.732094216033\n",
      "Interpolated vs original video distance is\n",
      "8480.07482278311\n",
      "Original video is: videos/erupting_val/flickr-1-1-3-2-1-3-2-5-15911321325_26.mp4\n",
      "Generated video is: generated_TEST_videos/generated_CVAE_videos/CVAE_generated_0077.mp4\n",
      "Interpolated video written out into: videos_for_poster/eruption_test_77_interpolated.mp4\n",
      "Reduced video written out into: videos_for_poster/eruption_test_77_reduced.mp4\n",
      "Generated vs original video distance is\n",
      "11812.262145753455\n",
      "Interpolated vs original video distance is\n",
      "4210.769644613678\n",
      "Original video is: videos/erupting_val/getty-lava-flows-through-a-channel-available-in-hd-video-id3B2FBBA7_0002_4.mp4\n",
      "Generated video is: generated_TEST_videos/generated_CVAE_videos/CVAE_generated_0078.mp4\n",
      "Interpolated video written out into: videos_for_poster/eruption_test_78_interpolated.mp4\n",
      "Reduced video written out into: videos_for_poster/eruption_test_78_reduced.mp4\n",
      "Generated vs original video distance is\n",
      "34994.66470763794\n",
      "Interpolated vs original video distance is\n",
      "3286.829931712318\n",
      "Original video is: videos/erupting_val/getty-boardwalk-in-volcanic-wonderland-video-id472597513_7.mp4\n",
      "Generated video is: generated_TEST_videos/generated_CVAE_videos/CVAE_generated_0079.mp4\n",
      "Interpolated video written out into: videos_for_poster/eruption_test_79_interpolated.mp4\n",
      "Reduced video written out into: videos_for_poster/eruption_test_79_reduced.mp4\n",
      "Generated vs original video distance is\n",
      "16724.45281616113\n",
      "Interpolated vs original video distance is\n",
      "6931.876585745017\n",
      "Original video is: videos/erupting_val/getty-eruption-of-the-shinmoedake-crater-of-the-kirishima-volcano-japan-28-video-id150975548_14.mp4\n",
      "Generated video is: generated_TEST_videos/generated_CVAE_videos/CVAE_generated_0080.mp4\n",
      "Interpolated video written out into: videos_for_poster/eruption_test_80_interpolated.mp4\n",
      "Reduced video written out into: videos_for_poster/eruption_test_80_reduced.mp4\n",
      "Generated vs original video distance is\n",
      "11117.972297141238\n",
      "Interpolated vs original video distance is\n",
      "6920.425564949022\n",
      "Original video is: videos/erupting_val/getty-the-24story-monaco-tower-at-the-shuttered-riviera-hotel-casino-is-on-video-id591578470_2.mp4\n",
      "Generated video is: generated_TEST_videos/generated_CVAE_videos/CVAE_generated_0081.mp4\n",
      "Interpolated video written out into: videos_for_poster/eruption_test_81_interpolated.mp4\n",
      "Reduced video written out into: videos_for_poster/eruption_test_81_reduced.mp4\n",
      "Generated vs original video distance is\n",
      "5962.988093229769\n",
      "Interpolated vs original video distance is\n",
      "4060.958138173798\n",
      "Original video is: videos/erupting_val/flickr-4-6-7-8905106467_44.mp4\n",
      "Generated video is: generated_TEST_videos/generated_CVAE_videos/CVAE_generated_0082.mp4\n",
      "Interpolated video written out into: videos_for_poster/eruption_test_82_interpolated.mp4\n",
      "Reduced video written out into: videos_for_poster/eruption_test_82_reduced.mp4\n",
      "Generated vs original video distance is\n",
      "14801.065806218145\n",
      "Interpolated vs original video distance is\n",
      "4115.7505998298775\n",
      "Original video is: videos/erupting_val/getty-firework-display-in-tokyo-video-id629717708_16.mp4\n",
      "Generated video is: generated_TEST_videos/generated_CVAE_videos/CVAE_generated_0083.mp4\n",
      "Interpolated video written out into: videos_for_poster/eruption_test_83_interpolated.mp4\n",
      "Reduced video written out into: videos_for_poster/eruption_test_83_reduced.mp4\n",
      "Generated vs original video distance is\n",
      "2737.670359995885\n",
      "Interpolated vs original video distance is\n",
      "1507.2856398174833\n",
      "Original video is: videos/erupting_val/getty-close-up-of-steaming-lava-dome-at-merapi-volcano-central-java-29-video-id150962577_1.mp4\n",
      "Generated video is: generated_TEST_videos/generated_CVAE_videos/CVAE_generated_0084.mp4\n",
      "Interpolated video written out into: videos_for_poster/eruption_test_84_interpolated.mp4\n",
      "Reduced video written out into: videos_for_poster/eruption_test_84_reduced.mp4\n",
      "Generated vs original video distance is\n",
      "8440.261429600389\n",
      "Interpolated vs original video distance is\n",
      "998.0200398789596\n",
      "Original video is: videos/erupting_val/flickr-5-5-2-2-8-9-2-8-14255228928_19.mp4\n",
      "Generated video is: generated_TEST_videos/generated_CVAE_videos/CVAE_generated_0085.mp4\n",
      "Interpolated video written out into: videos_for_poster/eruption_test_85_interpolated.mp4\n",
      "Reduced video written out into: videos_for_poster/eruption_test_85_reduced.mp4\n",
      "Generated vs original video distance is\n",
      "18778.79239993882\n",
      "Interpolated vs original video distance is\n",
      "12674.42302434316\n",
      "Original video is: videos/erupting_val/getty-eruption-on-krakatau-video-id493455112_3.mp4\n",
      "Generated video is: generated_TEST_videos/generated_CVAE_videos/CVAE_generated_0086.mp4\n"
     ]
    },
    {
     "name": "stdout",
     "output_type": "stream",
     "text": [
      "Interpolated video written out into: videos_for_poster/eruption_test_86_interpolated.mp4\n",
      "Reduced video written out into: videos_for_poster/eruption_test_86_reduced.mp4\n",
      "Generated vs original video distance is\n",
      "7904.904933014691\n",
      "Interpolated vs original video distance is\n",
      "2622.591657120872\n",
      "Original video is: videos/erupting_val/yt-SUNwIm3o-64_19.mp4\n",
      "Generated video is: generated_TEST_videos/generated_CVAE_videos/CVAE_generated_0087.mp4\n",
      "Interpolated video written out into: videos_for_poster/eruption_test_87_interpolated.mp4\n",
      "Reduced video written out into: videos_for_poster/eruption_test_87_reduced.mp4\n",
      "Generated vs original video distance is\n",
      "25441.85030613929\n",
      "Interpolated vs original video distance is\n",
      "15562.786639930524\n",
      "Original video is: videos/erupting_val/getty-cotopaxi-volcano-ecuador-erupting-water-vapour-in-november-2015-video-id506205424_4.mp4\n",
      "Generated video is: generated_TEST_videos/generated_CVAE_videos/CVAE_generated_0088.mp4\n",
      "Interpolated video written out into: videos_for_poster/eruption_test_88_interpolated.mp4\n",
      "Reduced video written out into: videos_for_poster/eruption_test_88_reduced.mp4\n",
      "Generated vs original video distance is\n",
      "17562.693956224368\n",
      "Interpolated vs original video distance is\n",
      "5041.6803746370115\n",
      "Original video is: videos/erupting_val/getty-lava-surges-in-crater-at-dusk-marum-volcano-ambrym-island-vanuatu-video-id150962395_8.mp4\n",
      "Generated video is: generated_TEST_videos/generated_CVAE_videos/CVAE_generated_0089.mp4\n",
      "Interpolated video written out into: videos_for_poster/eruption_test_89_interpolated.mp4\n",
      "Reduced video written out into: videos_for_poster/eruption_test_89_reduced.mp4\n",
      "Generated vs original video distance is\n",
      "30870.76346642564\n",
      "Interpolated vs original video distance is\n",
      "2223.0659009575043\n",
      "Original video is: videos/erupting_val/giphy-xT4uQbhogM1sS5njXi_0.mp4\n",
      "Generated video is: generated_TEST_videos/generated_CVAE_videos/CVAE_generated_0090.mp4\n",
      "Interpolated video written out into: videos_for_poster/eruption_test_90_interpolated.mp4\n",
      "Reduced video written out into: videos_for_poster/eruption_test_90_reduced.mp4\n",
      "Generated vs original video distance is\n",
      "13748.710266785027\n",
      "Interpolated vs original video distance is\n",
      "5964.586406449319\n",
      "Original video is: videos/erupting_val/getty-bright-explosion-with-fairydust-aftereffect-video-iddv389020_1.mp4\n",
      "Generated video is: generated_TEST_videos/generated_CVAE_videos/CVAE_generated_0091.mp4\n",
      "Interpolated video written out into: videos_for_poster/eruption_test_91_interpolated.mp4\n",
      "Reduced video written out into: videos_for_poster/eruption_test_91_reduced.mp4\n",
      "Generated vs original video distance is\n",
      "14268.596952749069\n",
      "Interpolated vs original video distance is\n",
      "6444.875095764075\n",
      "Original video is: videos/erupting_val/getty-aerial-view-of-molten-lava-flow-on-the-island-of-hawaii-video-id640164583_1.mp4\n",
      "Generated video is: generated_TEST_videos/generated_CVAE_videos/CVAE_generated_0092.mp4\n",
      "Interpolated video written out into: videos_for_poster/eruption_test_92_interpolated.mp4\n",
      "Reduced video written out into: videos_for_poster/eruption_test_92_reduced.mp4\n",
      "Generated vs original video distance is\n",
      "12338.454765488263\n",
      "Interpolated vs original video distance is\n",
      "7150.169648337024\n",
      "Original video is: videos/erupting_val/giphy-sUeU52JKc8one_2.mp4\n",
      "Generated video is: generated_TEST_videos/generated_CVAE_videos/CVAE_generated_0093.mp4\n",
      "Interpolated video written out into: videos_for_poster/eruption_test_93_interpolated.mp4\n",
      "Reduced video written out into: videos_for_poster/eruption_test_93_reduced.mp4\n",
      "Generated vs original video distance is\n",
      "16880.486663600666\n",
      "Interpolated vs original video distance is\n",
      "6488.247375062082\n",
      "Original video is: videos/erupting_val/yt-Y_9vd4HWlVA_404.mp4\n",
      "Generated video is: generated_TEST_videos/generated_CVAE_videos/CVAE_generated_0094.mp4\n",
      "Interpolated video written out into: videos_for_poster/eruption_test_94_interpolated.mp4\n",
      "Reduced video written out into: videos_for_poster/eruption_test_94_reduced.mp4\n",
      "Generated vs original video distance is\n",
      "29686.276627425003\n",
      "Interpolated vs original video distance is\n",
      "9703.535953455317\n",
      "Original video is: videos/erupting_val/getty-aerial-view-of-hot-lava-in-hawaii-volcanoes-national-park-video-id640164559_1.mp4\n",
      "Generated video is: generated_TEST_videos/generated_CVAE_videos/CVAE_generated_0095.mp4\n",
      "Interpolated video written out into: videos_for_poster/eruption_test_95_interpolated.mp4\n",
      "Reduced video written out into: videos_for_poster/eruption_test_95_reduced.mp4\n",
      "Generated vs original video distance is\n",
      "7590.619869286039\n",
      "Interpolated vs original video distance is\n",
      "4615.998266897422\n",
      "Original video is: videos/erupting_val/getty-exterior-night-shots-of-baltimore-police-advancing-with-riot-shields-video-id471929516_45.mp4\n",
      "Generated video is: generated_TEST_videos/generated_CVAE_videos/CVAE_generated_0096.mp4\n",
      "Interpolated video written out into: videos_for_poster/eruption_test_96_interpolated.mp4\n",
      "Reduced video written out into: videos_for_poster/eruption_test_96_reduced.mp4\n",
      "Generated vs original video distance is\n",
      "14023.452356677368\n",
      "Interpolated vs original video distance is\n",
      "9475.19983958122\n",
      "Original video is: videos/erupting_val/getty-aerials-active-volcano-aso-video-id459967068_1.mp4\n",
      "Generated video is: generated_TEST_videos/generated_CVAE_videos/CVAE_generated_0097.mp4\n",
      "Interpolated video written out into: videos_for_poster/eruption_test_97_interpolated.mp4\n",
      "Reduced video written out into: videos_for_poster/eruption_test_97_reduced.mp4\n",
      "Generated vs original video distance is\n",
      "6918.483432082497\n",
      "Interpolated vs original video distance is\n",
      "2223.569652608166\n",
      "Original video is: videos/erupting_val/getty-grey-smoke-and-ash-cloud-billow-from-crater-into-sky-zoom-in-to-mount-video-id143541944_89.mp4\n",
      "Generated video is: generated_TEST_videos/generated_CVAE_videos/CVAE_generated_0098.mp4\n",
      "Interpolated video written out into: videos_for_poster/eruption_test_98_interpolated.mp4\n",
      "Reduced video written out into: videos_for_poster/eruption_test_98_reduced.mp4\n",
      "Generated vs original video distance is\n",
      "10140.775414138703\n",
      "Interpolated vs original video distance is\n",
      "394.357705642986\n",
      "Original video is: videos/erupting_val/getty-november-volcano-erupts-in-columbia-lib-columbia-extnight-nevada-del-video-id675358808_7.mp4\n",
      "Generated video is: generated_TEST_videos/generated_CVAE_videos/CVAE_generated_0099.mp4\n",
      "Interpolated video written out into: videos_for_poster/eruption_test_99_interpolated.mp4\n",
      "Reduced video written out into: videos_for_poster/eruption_test_99_reduced.mp4\n",
      "Generated vs original video distance is\n",
      "35676.796815297195\n",
      "Interpolated vs original video distance is\n",
      "12697.220010695255\n",
      "[10506.26060975 11072.36338818  8589.07049686 19890.59971444\n",
      " 10692.75787625  6253.18462865 26805.34151993 35355.03392729\n",
      "  8039.95223866  6826.66551107 32986.36491037  8342.64640267\n",
      " 10170.85684689 10278.5155543  16595.49878732 15148.56950342\n",
      " 18492.06962457  9393.10922964 23270.06009876 36112.70558958\n",
      " 14961.5263593  20375.66798905 21609.44039072 33757.14161478\n",
      "  7755.49663142 11080.84333433 24957.7835955  11501.51329174\n",
      " 20162.2636626  43900.44155814 19089.89504948 25552.78016185\n",
      " 21991.88907302 26933.27122724 16005.21343188 10172.4996928\n",
      " 13181.57926805 14456.45776115  9957.69642036 12517.97879052\n",
      " 18635.23278631 22378.95681215  7396.21687081 16137.53937253\n",
      " 20966.44824476 13101.15033117 18706.47032446 18716.64980706\n",
      " 61428.44890602  8982.82193968 46951.65812833 12909.86436799\n",
      " 16484.56942113 23498.16124721  9341.74287807 57656.03108956\n",
      " 11536.11650427 10520.94862643 38773.49642475 39549.36372434\n",
      " 21373.53772776 21656.83949703 12710.88623976 17594.80877986\n",
      " 39988.95131158 13998.90881462 15177.21104156 14036.00213736\n",
      "  9634.96787748 12710.34173419 13783.90391    19852.21531719\n",
      " 11098.98008828 17113.23557952 13587.80924211 15952.0930915\n",
      " 13586.73209422 11812.26214575 34994.66470764 16724.45281616\n",
      " 11117.97229714  5962.98809323 14801.06580622  2737.67036\n",
      "  8440.2614296  18778.79239994  7904.90493301 25441.85030614\n",
      " 17562.69395622 30870.76346643 13748.71026679 14268.59695275\n",
      " 12338.45476549 16880.4866636  29686.27662743  7590.61986929\n",
      " 14023.45235668  6918.48343208 10140.77541414 35676.7968153 ]\n",
      "[ 2203.35766502  5441.94156529  7840.01122448  6905.47507417\n",
      "  3521.06631576   861.93503235  9606.14673009 22876.64464033\n",
      "  4676.54413002  2333.48944716  4173.04493146  8851.8131476\n",
      "   835.84328675  3525.88967496 11769.66635041  7478.63724217\n",
      "  1985.17404779   307.74827376   768.22522739 34992.36255242\n",
      " 10052.1899604  15583.50990631 10854.49570455  3369.24457408\n",
      "  1482.6688774    797.25905451  6567.0394395   5679.8401386\n",
      " 17164.44901533  3470.78651029   846.65754588  4258.63980632\n",
      "  1035.68093542  4234.80330122  1819.71014175  8136.94856811\n",
      "  3090.09546778  2394.55047974  1419.20999151   341.41763282\n",
      "   665.03233004 12209.15250949   802.89974468  6823.18877066\n",
      "  7006.14594481  5607.79198972  5937.9812226   2303.65948004\n",
      " 13590.78029401  1227.83793719  4012.87353402  5126.72975687\n",
      "  3784.18366362  8000.36505417  3693.99133729  6593.16722069\n",
      "  3904.45028141   562.662421   22557.65364571  1978.43700936\n",
      " 17799.41982201 16980.81647036 13647.80092176   291.91265817\n",
      " 13096.09121074  7272.6716549   6037.0165645   7965.11249136\n",
      "  1192.89521753  3436.01207798  1736.3723679  13984.18971553\n",
      "  1744.30301267 12084.56201109   579.84221992  3259.17458876\n",
      "  8480.07482278  4210.76964461  3286.82993171  6931.87658575\n",
      "  6920.42556495  4060.95813817  4115.75059983  1507.28563982\n",
      "   998.02003988 12674.42302434  2622.59165712 15562.78663993\n",
      "  5041.68037464  2223.06590096  5964.58640645  6444.87509576\n",
      "  7150.16964834  6488.24737506  9703.53595346  4615.9982669\n",
      "  9475.19983958  2223.56965261   394.35770564 12697.2200107 ]\n"
     ]
    }
   ],
   "source": [
    "from shutil import copyfile\n",
    "\n",
    "\n",
    "L2generated = np.zeros([100])\n",
    "L2interpolated = np.zeros([100])\n",
    "\n",
    "for i in range(len(titlelist)):\n",
    "    L2generated[i], L2interpolated[i] = L2difference(\"videos/erupting_val/\"+titlelist[i], \n",
    "                                               \"videos_for_poster/eruption_test_{:02d}_reduced.mp4\".format(i), \n",
    "                                               \"videos_for_poster/eruption_test_{:02d}_interpolated.mp4\".format(i), \n",
    "                                               \"generated_TEST_videos/generated_CVAE_videos/CVAE_generated_00{:02d}.mp4\".format(i))\n",
    "    copyfile(\"generated_TEST_videos/generated_CVAE_videos/CVAE_generated_00{:02d}.mp4\".format(i), \"videos_for_poster/eruption_test_{:02d}_CVAE.mp4\".format(i))\n",
    "    \n",
    "print(L2generated)\n",
    "print(L2interpolated)\n",
    "\n",
    "\n"
   ]
  },
  {
   "cell_type": "code",
   "execution_count": 12,
   "metadata": {},
   "outputs": [
    {
     "name": "stdout",
     "output_type": "stream",
     "text": [
      "avg CVAE generated L2 dist = 18306.95313934595 \n",
      "SD of CVAE generated L2 dist = 10894.311713173593 \n"
     ]
    }
   ],
   "source": [
    "print(\"avg CVAE generated L2 dist = {} \".format(np.mean(L2generated)))\n",
    "print(\"SD of CVAE generated L2 dist = {} \".format(np.std(L2generated)))"
   ]
  },
  {
   "cell_type": "code",
   "execution_count": 11,
   "metadata": {},
   "outputs": [
    {
     "name": "stdout",
     "output_type": "stream",
     "text": [
      "avg interpolated L2 dist = 6248.456892824278 \n",
      "SD of interpolated L2 dist = 5764.934314328028 \n"
     ]
    }
   ],
   "source": [
    "print(\"avg interpolated L2 dist = {} \".format(np.mean(L2interpolated)))\n",
    "print(\"SD of interpolated L2 dist = {} \".format(np.std(L2interpolated)))"
   ]
  },
  {
   "cell_type": "code",
   "execution_count": 10,
   "metadata": {},
   "outputs": [
    {
     "name": "stdout",
     "output_type": "stream",
     "text": [
      "avg CVAE generated L2 dist = 10894.311713173593 \n"
     ]
    }
   ],
   "source": []
  },
  {
   "cell_type": "code",
   "execution_count": 16,
   "metadata": {},
   "outputs": [],
   "source": [
    "\"GAN generated\"\n",
    "\n",
    "gan_titles_raw = ['videos/erupting_val/getty-aerial-track-over-erupting-old-faithful-geyser-in-winter-yellowstone-video-id595896631_2.mp4', 'videos/erupting_val/yt-SUNwIm3o-64_19.mp4', 'videos/erupting_val/getty--video-id104511618_18.mp4', 'videos/erupting_val/flickr-1-2-7-2-1-9-4-2-2912721942_9.mp4', 'videos/erupting_val/getty-close-up-fireworks-video-id628285946_1.mp4', 'videos/erupting_val/giphy-xT4uQbhogM1sS5njXi_0.mp4', 'videos/erupting_val/getty-close-up-of-steaming-lava-dome-at-merapi-volcano-central-java-29-video-id150962577_1.mp4', 'videos/erupting_val/getty-close-up-vigorously-erupting-lava-lake-in-marum-volcano-marum-volcano-video-id150962413_2.mp4', 'videos/erupting_val/getty-large-eruption-at-sakurajima-volcano-in-japan-sends-volcanic-ash-video-id464370844_11.mp4', 'videos/erupting_val/yt-Y_9vd4HWlVA_404.mp4', 'videos/erupting_val/getty-geyser-hole-filled-of-boiling-water-before-eruption-iceland-video-id456462830_6.mp4', 'videos/erupting_val/getty-volcanic-eruptions-on-mt-etna-sicily-italy-video-id157397360_10.mp4', 'videos/erupting_val/getty-fighting-subsided-in-war-torn-gaza-monday-at-the-start-of-the-muslim-video-id453004362_19.mp4', 'videos/erupting_val/flickr-4-0-3-7-4-0-5-7-15940374057_128.mp4', 'videos/erupting_val/giphy-V05ReDqkS1VCg_4.mp4', 'videos/erupting_val/getty-geysers-at-yellowstone-national-park-wyoming-usa-video-id83264515_16.mp4', 'videos/erupting_val/giphy-sUeU52JKc8one_2.mp4', 'videos/erupting_val/flickr-5-5-2-2-8-9-2-8-14255228928_19.mp4', 'videos/erupting_val/flickr-7-7-9-1-3-6-9-6-19077913696_14.mp4', 'videos/erupting_val/getty-cotopaxi-volcano-ecuador-erupting-water-vapour-in-november-2015-video-id506205424_4.mp4', 'videos/erupting_val/getty-bardarbunga-volcano-eruption-and-lava-flow-video-id626439064_19.mp4', 'videos/erupting_val/getty-geysers-atacama-desert-video-id636281892_3.mp4', 'videos/erupting_val/flickr-4-6-7-8905106467_44.mp4', 'videos/erupting_val/getty-medium-shot-girl-posing-with-blue-ribbon-next-to-model-of-erupting-video-id873-100_8.mp4', 'videos/erupting_val/getty-grey-smoke-and-ash-cloud-billow-from-crater-into-sky-zoom-in-to-mount-video-id143541944_89.mp4', 'videos/erupting_val/getty-aerials-active-volcano-shinmoedake-video-id459964798_41.mp4', 'videos/erupting_val/flickr-1-1-3-2-1-3-2-5-15911321325_26.mp4', 'videos/erupting_val/getty-krakatau-video-id493322240_4.mp4', 'videos/erupting_val/getty-aerial-view-of-molten-lava-flow-on-the-island-of-hawaii-video-id640164583_1.mp4', 'videos/erupting_val/getty-sakurajima-volcano-erupts-violently-with-a-large-explosive-eruption-video-id464368814_13.mp4', 'videos/erupting_val/getty-large-and-dangerous-pyroclastic-flow-sweeps-down-the-side-of-sinabung-video-id478438408_4.mp4', 'videos/erupting_val/giphy-Hssp6w4SfuOB2_10.mp4', 'videos/erupting_val/getty-geyser-in-iceland-video-id523120502_9.mp4', 'videos/erupting_val/getty-lava-erupting-from-earth-in-smoking-lava-field-hawaii-video-id1B02924_0004_7.mp4', 'videos/erupting_val/getty-flames-rise-from-a-volcanic-eruption-on-fernandina-island-available-video-id3B2FBBA3_0001_5.mp4', 'videos/erupting_val/getty-cliff-geyser-erupting-video-id685738891_4.mp4', 'videos/erupting_val/getty-hot-spring-video-id185675476_5.mp4', 'videos/erupting_val/getty-mtbromo-time-lapse-video-id613371200_4.mp4', 'videos/erupting_val/5-1-1-5-7-8-7-1-6151157871_5.mp4', 'videos/erupting_val/getty-smoke-and-flames-rise-from-ship-after-explosion-at-gadani-yard-on-1-video-id620102418_83.mp4', 'videos/erupting_val/getty-film-can-the-birth-of-a-nation-clip-battle-field-lillian-gish-sitting-video-id509496583_9.mp4', 'videos/erupting_val/getty-man-sits-on-ledge-overlooking-erupting-lava-lake-marum-volcano-ambrym-video-id150962447_2.mp4', 'videos/erupting_val/getty-major-volcanic-eruption-and-ash-cloud-at-mount-sinabung-video-id498515125_7.mp4', 'videos/erupting_val/meta-1395624_51.mp4', 'videos/erupting_val/flickr-6-5-8-1-9-6-9-9-16365819699_53.mp4', 'videos/erupting_val/getty-eruption-of-the-shinmoedake-crater-of-the-kirishima-volcano-japan-28-video-id150975548_14.mp4', 'videos/erupting_val/getty-jaguar-crashes-through-a-concrete-barrier-video-id698871039_14.mp4', 'videos/erupting_val/getty-volcanic-ash-erupts-vigorously-from-the-crater-at-sakurajima-volcano-video-id695848030_12.mp4', 'videos/erupting_val/flickr-5-3-9-9-6-7-3-0-5553996730_22.mp4', 'videos/erupting_val/getty-close-up-shot-of-steam-pouring-from-crater-of-sakurajima-volcano-at-video-id150962351_11.mp4', 'videos/erupting_val/flickr-7-0-0-3-7-1-1-8-21470037118_126.mp4', 'videos/erupting_val/flickr-1-3-3-7-8-6-3-3-18513378633_4.mp4', 'videos/erupting_val/flickr-0-5-7-3-1-3-2-1-21105731321_9.mp4', 'videos/erupting_val/giphy-qufwQbBoDhNYc_12.mp4', 'videos/erupting_val/getty-el-volcan-calbuco-registro-dos-violentas-y-sorpresivas-erupciones-en-video-id471199520_34.mp4', 'videos/erupting_val/getty-bubbling-flowing-redhot-lava-after-the-eruption-of-kilauea-volcano-video-id85200270_11.mp4', 'videos/erupting_val/flickr-9-7-6-6-1-2-1-7-9497661217_62.mp4', 'videos/erupting_val/getty-timelapsed-of-sunrise-at-mount-bromo-volcano-the-magnificent-view-of-video-id545326216_3.mp4', 'videos/erupting_val/giphy-1cdrsxfhNHfAQ_2.mp4', 'videos/erupting_val/getty-yasur-volcano-video-id465612842_2.mp4', 'videos/erupting_val/getty-sea-hell-in-beppu-japan-video-id473184667_1.mp4', 'videos/erupting_val/getty-eruption-on-mt-etna-13-october-98-sicily-italy-video-id157397349_2.mp4', 'videos/erupting_val/getty-aerials-active-volcano-aso-video-id459967068_1.mp4', 'videos/erupting_val/getty-close-up-of-firey-explosion-video-id307-291_1.mp4', 'videos/erupting_val/getty-lava-surges-in-crater-at-dusk-marum-volcano-ambrym-island-vanuatu-video-id150962395_8.mp4', 'videos/erupting_val/getty-hot-water-spurting-from-geyser-yellowstone-national-park-wyoming-video-id141030434_2.mp4', 'videos/erupting_val/getty-lava-flows-through-a-channel-available-in-hd-video-id3B2FBBA7_0002_4.mp4', 'videos/erupting_val/getty-eruzione-di-una-bocca-del-vulcano-stromboli-video-id847691400_13.mp4', 'videos/erupting_val/getty-big-ash-column-rises-from-shinmoedake-volcano-at-night-mount-in-of-video-id478689742_6.mp4', 'videos/erupting_val/getty-algal-mat-grows-at-edge-of-hot-geyser-pool-yellowstone-usa-video-id564828225_9.mp4', 'videos/erupting_val/giphy-ClG9uYb0hWzPq_0.mp4', 'videos/erupting_val/getty-mount-bromo-volcano-in-east-java-indonesia-video-id649447834_3.mp4', 'videos/erupting_val/getty-eruption-of-volcano-bromo-in-indonesia-video-id461618460_4.mp4', 'videos/erupting_val/yt-Hj9wcztisDU_787.mp4', 'videos/erupting_val/getty-from-encyclopaedia-britannica-films-documentary-depicting-the-study-video-id85200310_4.mp4', 'videos/erupting_val/getty-the-voskok-1-becomes-the-first-manned-spaceflight-video-id450027634_46.mp4', 'videos/erupting_val/getty-eruption-on-krakatau-video-id493455112_3.mp4', 'videos/erupting_val/flickr-0-6-6-5-1-0-5-3-5906651053_10.mp4', 'videos/erupting_val/getty-clouds-scud-over-clepsydra-geyser-erupting-in-yellowstone-national-video-id3B2FBBED_0155_3.mp4', 'videos/erupting_val/getty-camera-pans-right-to-geyser-erupting-spraying-white-water-and-grey-video-id1B02172_0004_13.mp4', 'videos/erupting_val/getty-view-of-heavy-explosion-in-tropical-island-video-id105186610_10.mp4', 'videos/erupting_val/getty-boiling-water-ejects-from-erupting-castle-geyser-yellowstone-usa-video-id595897161_15.mp4', 'videos/erupting_val/getty-clouds-pass-over-the-summit-of-the-erupting-oldoinyo-lengai-volcano-video-id3B2FBBC6_0597_82.mp4', 'videos/erupting_val/getty-lava-from-a-volcanic-eruption-spews-into-the-night-sky-available-in-video-id3B2FBBA6_0005_67.mp4', 'videos/erupting_val/getty-exterior-night-shots-of-baltimore-police-advancing-with-riot-shields-video-id471929516_45.mp4', 'videos/erupting_val/getty-close-up-large-waves-of-lava-erupting-from-volcano-marum-volcano-video-id150962405_3.mp4', 'videos/erupting_val/getty-aerial-view-of-hot-lava-in-hawaii-volcanoes-national-park-video-id640164559_1.mp4', 'videos/erupting_val/getty-the-24story-monaco-tower-at-the-shuttered-riviera-hotel-casino-is-on-video-id591578470_2.mp4', 'videos/erupting_val/getty-firework-display-in-tokyo-video-id629717708_16.mp4', 'videos/erupting_val/getty-mount-aso-video-id483913210_8.mp4', 'videos/erupting_val/getty-ash-explodes-from-crater-of-stromboli-volcano-close-up-shot-stromboli-video-id150962340_13.mp4', 'videos/erupting_val/getty-boardwalk-in-volcanic-wonderland-video-id472597513_7.mp4', 'videos/erupting_val/getty-bright-moon-shining-behind-eruption-plume-of-geyser-video-id685739069_19.mp4', 'videos/erupting_val/getty-aerial-track-towards-and-over-smoking-volcano-and-crater-video-id1B03393_0004_1.mp4', 'videos/erupting_val/getty-bright-explosion-with-fairydust-aftereffect-video-iddv389020_1.mp4', 'videos/erupting_val/getty-november-volcano-erupts-in-columbia-lib-columbia-extnight-nevada-del-video-id675358808_7.mp4', 'videos/erupting_val/getty-group-of-eoraptors-grazing-in-field-video-id1319-11_9.mp4', 'videos/erupting_val/an-erupting-volcano-sends-lava-spewing-into-the-sky-available-in-hd-video-id3B2FBBA6_0010.mp4', 'videos/erupting_val/getty-geyser-erupts-and-splashes-video-id685738819_1.mp4', 'videos/erupting_val/getty-grey-smoke-and-ash-cloud-rising-quickly-upwards-from-crater-zoom-out-video-id143541934_2.mp4']"
   ]
  },
  {
   "cell_type": "code",
   "execution_count": 26,
   "metadata": {},
   "outputs": [
    {
     "name": "stdout",
     "output_type": "stream",
     "text": [
      "yt-SUNwIm3o-64_19.mp4\n",
      "giphy-qufwQbBoDhNYc_12.mp4\n"
     ]
    },
    {
     "data": {
      "text/plain": [
       "100"
      ]
     },
     "execution_count": 26,
     "metadata": {},
     "output_type": "execute_result"
    }
   ],
   "source": [
    "gan_titles = []\n",
    "for i in range(len(gan_titles_raw)):\n",
    "    title = gan_titles_raw[i].replace('videos/erupting_val/','')\n",
    "    gan_titles.append(title)\n",
    "    \n",
    "print(gan_titles[1])\n",
    "print(titlelist[1])\n",
    "\n",
    "\n",
    "len(list(set(gan_titles).intersection(titlelist)))"
   ]
  },
  {
   "cell_type": "code",
   "execution_count": 30,
   "metadata": {},
   "outputs": [],
   "source": [
    "\"generated_TEST_videos/GAN_erupting_100_600_generated_ordered/GAN_erupting_100_600\"\n",
    "\n",
    "gan_dict = {}\n",
    "for i in range(len(gan_titles)):\n",
    "    gan_dict[gan_titles[i]] = i\n",
    "    \n"
   ]
  },
  {
   "cell_type": "code",
   "execution_count": 35,
   "metadata": {},
   "outputs": [
    {
     "name": "stdout",
     "output_type": "stream",
     "text": [
      "33\n",
      "getty-lava-erupting-from-earth-in-smoking-lava-field-hawaii-video-id1B02924_0004_7.mp4\n",
      "53\n",
      "giphy-qufwQbBoDhNYc_12.mp4\n",
      "4\n",
      "getty-close-up-fireworks-video-id628285946_1.mp4\n",
      "48\n",
      "flickr-5-3-9-9-6-7-3-0-5553996730_22.mp4\n",
      "80\n",
      "getty-view-of-heavy-explosion-in-tropical-island-video-id105186610_10.mp4\n",
      "82\n",
      "getty-clouds-pass-over-the-summit-of-the-erupting-oldoinyo-lengai-volcano-video-id3B2FBBC6_0597_82.mp4\n",
      "43\n",
      "meta-1395624_51.mp4\n",
      "63\n",
      "getty-close-up-of-firey-explosion-video-id307-291_1.mp4\n",
      "21\n",
      "getty-geysers-atacama-desert-video-id636281892_3.mp4\n",
      "18\n",
      "flickr-7-7-9-1-3-6-9-6-19077913696_14.mp4\n",
      "41\n",
      "getty-man-sits-on-ledge-overlooking-erupting-lava-lake-marum-volcano-ambrym-video-id150962447_2.mp4\n",
      "46\n",
      "getty-jaguar-crashes-through-a-concrete-barrier-video-id698871039_14.mp4\n",
      "30\n",
      "getty-large-and-dangerous-pyroclastic-flow-sweeps-down-the-side-of-sinabung-video-id478438408_4.mp4\n",
      "20\n",
      "getty-bardarbunga-volcano-eruption-and-lava-flow-video-id626439064_19.mp4\n",
      "73\n",
      "yt-Hj9wcztisDU_787.mp4\n",
      "98\n",
      "getty-geyser-erupts-and-splashes-video-id685738819_1.mp4\n",
      "11\n",
      "getty-volcanic-eruptions-on-mt-etna-sicily-italy-video-id157397360_10.mp4\n",
      "42\n",
      "getty-major-volcanic-eruption-and-ash-cloud-at-mount-sinabung-video-id498515125_7.mp4\n",
      "58\n",
      "giphy-1cdrsxfhNHfAQ_2.mp4\n",
      "40\n",
      "getty-film-can-the-birth-of-a-nation-clip-battle-field-lillian-gish-sitting-video-id509496583_9.mp4\n",
      "15\n",
      "getty-geysers-at-yellowstone-national-park-wyoming-usa-video-id83264515_16.mp4\n",
      "50\n",
      "flickr-7-0-0-3-7-1-1-8-21470037118_126.mp4\n",
      "61\n",
      "getty-eruption-on-mt-etna-13-october-98-sicily-italy-video-id157397349_2.mp4\n",
      "83\n",
      "getty-lava-from-a-volcanic-eruption-spews-into-the-night-sky-available-in-video-id3B2FBBA6_0005_67.mp4\n",
      "25\n",
      "getty-aerials-active-volcano-shinmoedake-video-id459964798_41.mp4\n",
      "67\n",
      "getty-eruzione-di-una-bocca-del-vulcano-stromboli-video-id847691400_13.mp4\n",
      "70\n",
      "giphy-ClG9uYb0hWzPq_0.mp4\n",
      "10\n",
      "getty-geyser-hole-filled-of-boiling-water-before-eruption-iceland-video-id456462830_6.mp4\n",
      "65\n",
      "getty-hot-water-spurting-from-geyser-yellowstone-national-park-wyoming-video-id141030434_2.mp4\n",
      "7\n",
      "getty-close-up-vigorously-erupting-lava-lake-in-marum-volcano-marum-volcano-video-id150962413_2.mp4\n",
      "34\n",
      "getty-flames-rise-from-a-volcanic-eruption-on-fernandina-island-available-video-id3B2FBBA3_0001_5.mp4\n",
      "93\n",
      "getty-aerial-track-towards-and-over-smoking-volcano-and-crater-video-id1B03393_0004_1.mp4\n",
      "68\n",
      "getty-big-ash-column-rises-from-shinmoedake-volcano-at-night-mount-in-of-video-id478689742_6.mp4\n",
      "54\n",
      "getty-el-volcan-calbuco-registro-dos-violentas-y-sorpresivas-erupciones-en-video-id471199520_34.mp4\n",
      "57\n",
      "getty-timelapsed-of-sunrise-at-mount-bromo-volcano-the-magnificent-view-of-video-id545326216_3.mp4\n",
      "75\n",
      "getty-the-voskok-1-becomes-the-first-manned-spaceflight-video-id450027634_46.mp4\n",
      "51\n",
      "flickr-1-3-3-7-8-6-3-3-18513378633_4.mp4\n",
      "59\n",
      "getty-yasur-volcano-video-id465612842_2.mp4\n",
      "69\n",
      "getty-algal-mat-grows-at-edge-of-hot-geyser-pool-yellowstone-usa-video-id564828225_9.mp4\n",
      "47\n",
      "getty-volcanic-ash-erupts-vigorously-from-the-crater-at-sakurajima-volcano-video-id695848030_12.mp4\n",
      "8\n",
      "getty-large-eruption-at-sakurajima-volcano-in-japan-sends-volcanic-ash-video-id464370844_11.mp4\n",
      "12\n",
      "getty-fighting-subsided-in-war-torn-gaza-monday-at-the-start-of-the-muslim-video-id453004362_19.mp4\n",
      "2\n",
      "getty--video-id104511618_18.mp4\n",
      "0\n",
      "getty-aerial-track-over-erupting-old-faithful-geyser-in-winter-yellowstone-video-id595896631_2.mp4\n",
      "44\n",
      "flickr-6-5-8-1-9-6-9-9-16365819699_53.mp4\n",
      "90\n",
      "getty-ash-explodes-from-crater-of-stromboli-volcano-close-up-shot-stromboli-video-id150962340_13.mp4\n",
      "23\n",
      "getty-medium-shot-girl-posing-with-blue-ribbon-next-to-model-of-erupting-video-id873-100_8.mp4\n",
      "13\n",
      "flickr-4-0-3-7-4-0-5-7-15940374057_128.mp4\n",
      "55\n",
      "getty-bubbling-flowing-redhot-lava-after-the-eruption-of-kilauea-volcano-video-id85200270_11.mp4\n",
      "92\n",
      "getty-bright-moon-shining-behind-eruption-plume-of-geyser-video-id685739069_19.mp4\n",
      "97\n",
      "an-erupting-volcano-sends-lava-spewing-into-the-sky-available-in-hd-video-id3B2FBBA6_0010.mp4\n",
      "29\n",
      "getty-sakurajima-volcano-erupts-violently-with-a-large-explosive-eruption-video-id464368814_13.mp4\n",
      "36\n",
      "getty-hot-spring-video-id185675476_5.mp4\n",
      "96\n",
      "getty-group-of-eoraptors-grazing-in-field-video-id1319-11_9.mp4\n",
      "81\n",
      "getty-boiling-water-ejects-from-erupting-castle-geyser-yellowstone-usa-video-id595897161_15.mp4\n",
      "85\n",
      "getty-close-up-large-waves-of-lava-erupting-from-volcano-marum-volcano-video-id150962405_3.mp4\n",
      "79\n",
      "getty-camera-pans-right-to-geyser-erupting-spraying-white-water-and-grey-video-id1B02172_0004_13.mp4\n",
      "99\n",
      "getty-grey-smoke-and-ash-cloud-rising-quickly-upwards-from-crater-zoom-out-video-id143541934_2.mp4\n",
      "77\n",
      "flickr-0-6-6-5-1-0-5-3-5906651053_10.mp4\n",
      "31\n",
      "giphy-Hssp6w4SfuOB2_10.mp4\n",
      "56\n",
      "flickr-9-7-6-6-1-2-1-7-9497661217_62.mp4\n",
      "39\n",
      "getty-smoke-and-flames-rise-from-ship-after-explosion-at-gadani-yard-on-1-video-id620102418_83.mp4\n",
      "78\n",
      "getty-clouds-scud-over-clepsydra-geyser-erupting-in-yellowstone-national-video-id3B2FBBED_0155_3.mp4\n",
      "72\n",
      "getty-eruption-of-volcano-bromo-in-indonesia-video-id461618460_4.mp4\n",
      "74\n",
      "getty-from-encyclopaedia-britannica-films-documentary-depicting-the-study-video-id85200310_4.mp4\n",
      "27\n",
      "getty-krakatau-video-id493322240_4.mp4\n",
      "14\n",
      "giphy-V05ReDqkS1VCg_4.mp4\n",
      "52\n",
      "flickr-0-5-7-3-1-3-2-1-21105731321_9.mp4\n",
      "71\n",
      "getty-mount-bromo-volcano-in-east-java-indonesia-video-id649447834_3.mp4\n",
      "89\n",
      "getty-mount-aso-video-id483913210_8.mp4\n",
      "32\n",
      "getty-geyser-in-iceland-video-id523120502_9.mp4\n",
      "60\n",
      "getty-sea-hell-in-beppu-japan-video-id473184667_1.mp4\n",
      "35\n",
      "getty-cliff-geyser-erupting-video-id685738891_4.mp4\n",
      "38\n",
      "5-1-1-5-7-8-7-1-6151157871_5.mp4\n",
      "49\n",
      "getty-close-up-shot-of-steam-pouring-from-crater-of-sakurajima-volcano-at-video-id150962351_11.mp4\n",
      "3\n",
      "flickr-1-2-7-2-1-9-4-2-2912721942_9.mp4\n",
      "37\n",
      "getty-mtbromo-time-lapse-video-id613371200_4.mp4\n",
      "26\n",
      "flickr-1-1-3-2-1-3-2-5-15911321325_26.mp4\n",
      "66\n",
      "getty-lava-flows-through-a-channel-available-in-hd-video-id3B2FBBA7_0002_4.mp4\n",
      "91\n",
      "getty-boardwalk-in-volcanic-wonderland-video-id472597513_7.mp4\n",
      "45\n",
      "getty-eruption-of-the-shinmoedake-crater-of-the-kirishima-volcano-japan-28-video-id150975548_14.mp4\n",
      "87\n",
      "getty-the-24story-monaco-tower-at-the-shuttered-riviera-hotel-casino-is-on-video-id591578470_2.mp4\n",
      "22\n",
      "flickr-4-6-7-8905106467_44.mp4\n",
      "88\n",
      "getty-firework-display-in-tokyo-video-id629717708_16.mp4\n",
      "6\n",
      "getty-close-up-of-steaming-lava-dome-at-merapi-volcano-central-java-29-video-id150962577_1.mp4\n",
      "17\n",
      "flickr-5-5-2-2-8-9-2-8-14255228928_19.mp4\n",
      "76\n",
      "getty-eruption-on-krakatau-video-id493455112_3.mp4\n",
      "1\n",
      "yt-SUNwIm3o-64_19.mp4\n",
      "19\n",
      "getty-cotopaxi-volcano-ecuador-erupting-water-vapour-in-november-2015-video-id506205424_4.mp4\n",
      "64\n",
      "getty-lava-surges-in-crater-at-dusk-marum-volcano-ambrym-island-vanuatu-video-id150962395_8.mp4\n",
      "5\n",
      "giphy-xT4uQbhogM1sS5njXi_0.mp4\n",
      "94\n",
      "getty-bright-explosion-with-fairydust-aftereffect-video-iddv389020_1.mp4\n",
      "28\n",
      "getty-aerial-view-of-molten-lava-flow-on-the-island-of-hawaii-video-id640164583_1.mp4\n",
      "16\n",
      "giphy-sUeU52JKc8one_2.mp4\n",
      "9\n",
      "yt-Y_9vd4HWlVA_404.mp4\n",
      "86\n",
      "getty-aerial-view-of-hot-lava-in-hawaii-volcanoes-national-park-video-id640164559_1.mp4\n",
      "84\n",
      "getty-exterior-night-shots-of-baltimore-police-advancing-with-riot-shields-video-id471929516_45.mp4\n",
      "62\n",
      "getty-aerials-active-volcano-aso-video-id459967068_1.mp4\n",
      "24\n",
      "getty-grey-smoke-and-ash-cloud-billow-from-crater-into-sky-zoom-in-to-mount-video-id143541944_89.mp4\n",
      "95\n",
      "getty-november-volcano-erupts-in-columbia-lib-columbia-extnight-nevada-del-video-id675358808_7.mp4\n"
     ]
    }
   ],
   "source": [
    "#MAP GAN VIDEOS TO CORRECT CVAE, interpolated, original VIDEOS\n",
    "for i in range(len(titlelist)):\n",
    "    # find ith title\n",
    "    j = gan_dict[titlelist[i]]\n",
    "    #print(j)\n",
    "    #print(titlelist[i])\n",
    "    # jth gan video with that title should output ith gan video\n",
    "    copyfile(\"generated_TEST_videos/GAN_erupting_100_600_generated_ordered/GAN_erupting_100_600/GAN_generated_00{:02d}.mp4\".format(j), \"videos_for_poster_eruption/eruption_test_{:02d}_GAN.mp4\".format(i))\n",
    "    "
   ]
  },
  {
   "cell_type": "code",
   "execution_count": 43,
   "metadata": {},
   "outputs": [
    {
     "data": {
      "text/plain": [
       "['eruption_test_49_CVAE.mp4',\n",
       " 'eruption_test_48_CVAE.mp4',\n",
       " 'eruption_test_53_interpolated.mp4',\n",
       " 'eruption_test_53_reduced.mp4',\n",
       " 'eruption_test_23_reduced.mp4',\n",
       " 'eruption_test_80_reduced.mp4',\n",
       " 'eruption_test_00_CVAE.mp4',\n",
       " 'eruption_test_01_CVAE.mp4',\n",
       " 'eruption_test_92_CVAE.mp4',\n",
       " 'eruption_test_36_interpolated.mp4',\n",
       " 'eruption_test_93_CVAE.mp4',\n",
       " 'eruption_test_08_interpolated.mp4',\n",
       " 'eruption_test_33_GAN.mp4',\n",
       " 'eruption_test_23_GAN.mp4',\n",
       " 'eruption_test_77_CVAE.mp4',\n",
       " 'eruption_test_76_CVAE.mp4',\n",
       " 'eruption_test_29_interpolated.mp4',\n",
       " 'eruption_test_17_interpolated.mp4',\n",
       " 'eruption_test_11_reduced.mp4',\n",
       " 'eruption_test_61_reduced.mp4',\n",
       " 'eruption_test_51_GAN.mp4',\n",
       " 'eruption_test_41_GAN.mp4',\n",
       " 'eruption_test_94_interpolated.mp4',\n",
       " 'eruption_test_72_interpolated.mp4',\n",
       " 'eruption_test_77_GAN.mp4',\n",
       " 'eruption_test_98_CVAE.mp4',\n",
       " 'eruption_test_67_GAN.mp4',\n",
       " 'eruption_test_99_CVAE.mp4',\n",
       " 'eruption_test_03_interpolated.mp4',\n",
       " 'eruption_test_66_interpolated.mp4',\n",
       " 'eruption_test_58_interpolated.mp4',\n",
       " 'eruption_test_80_interpolated.mp4',\n",
       " 'eruption_test_04_reduced.mp4',\n",
       " 'eruption_test_15_GAN.mp4',\n",
       " 'eruption_test_89_reduced.mp4',\n",
       " 'eruption_test_05_GAN.mp4',\n",
       " 'eruption_test_43_CVAE.mp4',\n",
       " 'eruption_test_42_CVAE.mp4',\n",
       " 'eruption_test_74_reduced.mp4',\n",
       " 'eruption_test_68_reduced.mp4',\n",
       " 'eruption_test_95_reduced.mp4',\n",
       " 'eruption_test_18_reduced.mp4',\n",
       " 'eruption_test_48_GAN.mp4',\n",
       " 'eruption_test_58_GAN.mp4',\n",
       " 'eruption_test_79_interpolated.mp4',\n",
       " 'eruption_test_47_interpolated.mp4',\n",
       " 'eruption_test_34_CVAE.mp4',\n",
       " 'eruption_test_35_CVAE.mp4',\n",
       " 'eruption_test_22_interpolated.mp4',\n",
       " 'eruption_test_46_reduced.mp4',\n",
       " 'eruption_test_93_GAN.mp4',\n",
       " 'eruption_test_83_GAN.mp4',\n",
       " 'eruption_test_36_reduced.mp4',\n",
       " 'eruption_test_43_interpolated.mp4',\n",
       " 'eruption_test_85_CVAE.mp4',\n",
       " 'eruption_test_84_CVAE.mp4',\n",
       " 'eruption_test_71_reduced.mp4',\n",
       " 'eruption_test_01_reduced.mp4',\n",
       " 'eruption_test_66_GAN.mp4',\n",
       " 'eruption_test_17_CVAE.mp4',\n",
       " 'eruption_test_76_GAN.mp4',\n",
       " 'eruption_test_16_CVAE.mp4',\n",
       " 'eruption_test_04_GAN.mp4',\n",
       " 'eruption_test_14_GAN.mp4',\n",
       " 'eruption_test_18_interpolated.mp4',\n",
       " 'eruption_test_26_interpolated.mp4',\n",
       " 'eruption_test_59_GAN.mp4',\n",
       " 'eruption_test_49_GAN.mp4',\n",
       " 'eruption_test_33_reduced.mp4',\n",
       " 'eruption_test_07_interpolated.mp4',\n",
       " 'eruption_test_39_interpolated.mp4',\n",
       " 'eruption_test_43_reduced.mp4',\n",
       " 'eruption_test_29_CVAE.mp4',\n",
       " 'eruption_test_28_CVAE.mp4',\n",
       " 'eruption_test_82_GAN.mp4',\n",
       " 'eruption_test_92_GAN.mp4',\n",
       " 'eruption_test_90_reduced.mp4',\n",
       " 'eruption_test_60_CVAE.mp4',\n",
       " 'eruption_test_62_interpolated.mp4',\n",
       " 'eruption_test_61_CVAE.mp4',\n",
       " 'eruption_test_84_interpolated.mp4',\n",
       " 'eruption_test_08_reduced.mp4',\n",
       " 'eruption_test_54_CVAE.mp4',\n",
       " 'eruption_test_55_CVAE.mp4',\n",
       " 'eruption_test_85_reduced.mp4',\n",
       " 'eruption_test_13_interpolated.mp4',\n",
       " 'eruption_test_78_reduced.mp4',\n",
       " 'eruption_test_90_interpolated.mp4',\n",
       " 'eruption_test_48_interpolated.mp4',\n",
       " 'eruption_test_76_interpolated.mp4',\n",
       " 'eruption_test_26_reduced.mp4',\n",
       " 'eruption_test_56_reduced.mp4',\n",
       " 'eruption_test_22_GAN.mp4',\n",
       " 'eruption_test_57_interpolated.mp4',\n",
       " 'eruption_test_32_GAN.mp4',\n",
       " 'eruption_test_69_interpolated.mp4',\n",
       " 'eruption_test_40_GAN.mp4',\n",
       " 'eruption_test_50_GAN.mp4',\n",
       " 'eruption_test_64_reduced.mp4',\n",
       " 'eruption_test_99_reduced.mp4',\n",
       " 'eruption_test_23_CVAE.mp4',\n",
       " 'eruption_test_22_CVAE.mp4',\n",
       " 'eruption_test_32_interpolated.mp4',\n",
       " 'eruption_test_14_reduced.mp4',\n",
       " 'eruption_test_73_interpolated.mp4',\n",
       " 'eruption_test_16_GAN.mp4',\n",
       " 'eruption_test_10_CVAE.mp4',\n",
       " 'eruption_test_06_GAN.mp4',\n",
       " 'eruption_test_67_reduced.mp4',\n",
       " 'eruption_test_11_CVAE.mp4',\n",
       " 'eruption_test_95_interpolated.mp4',\n",
       " 'eruption_test_82_CVAE.mp4',\n",
       " 'eruption_test_83_CVAE.mp4',\n",
       " 'eruption_test_17_reduced.mp4',\n",
       " 'eruption_test_59_CVAE.mp4',\n",
       " 'eruption_test_49_reduced.mp4',\n",
       " 'eruption_test_58_CVAE.mp4',\n",
       " 'eruption_test_74_GAN.mp4',\n",
       " 'eruption_test_64_GAN.mp4',\n",
       " 'eruption_test_39_reduced.mp4',\n",
       " 'eruption_test_28_interpolated.mp4',\n",
       " 'eruption_test_16_interpolated.mp4',\n",
       " 'eruption_test_37_interpolated.mp4',\n",
       " 'eruption_test_09_interpolated.mp4',\n",
       " 'eruption_test_90_GAN.mp4',\n",
       " 'eruption_test_25_reduced.mp4',\n",
       " 'eruption_test_80_GAN.mp4',\n",
       " 'eruption_test_29_GAN.mp4',\n",
       " 'eruption_test_39_GAN.mp4',\n",
       " 'eruption_test_55_reduced.mp4',\n",
       " 'eruption_test_67_CVAE.mp4',\n",
       " 'eruption_test_66_CVAE.mp4',\n",
       " 'eruption_test_52_interpolated.mp4',\n",
       " 'eruption_test_86_reduced.mp4',\n",
       " 'eruption_test_93_reduced.mp4',\n",
       " 'eruption_test_53_CVAE.mp4',\n",
       " 'eruption_test_23_interpolated.mp4',\n",
       " 'eruption_test_52_CVAE.mp4',\n",
       " 'eruption_test_30_reduced.mp4',\n",
       " 'eruption_test_88_CVAE.mp4',\n",
       " 'eruption_test_89_CVAE.mp4',\n",
       " 'eruption_test_78_interpolated.mp4',\n",
       " 'eruption_test_46_interpolated.mp4',\n",
       " 'eruption_test_40_reduced.mp4',\n",
       " 'eruption_test_52_GAN.mp4',\n",
       " 'eruption_test_42_GAN.mp4',\n",
       " 'eruption_test_81_interpolated.mp4',\n",
       " 'eruption_test_67_interpolated.mp4',\n",
       " 'eruption_test_59_interpolated.mp4',\n",
       " 'eruption_test_02_interpolated.mp4',\n",
       " 'eruption_test_72_reduced.mp4',\n",
       " 'eruption_test_89_GAN.mp4',\n",
       " 'eruption_test_99_GAN.mp4',\n",
       " 'eruption_test_30_GAN.mp4',\n",
       " 'eruption_test_20_GAN.mp4',\n",
       " 'eruption_test_02_reduced.mp4',\n",
       " 'eruption_test_24_CVAE.mp4',\n",
       " 'eruption_test_25_CVAE.mp4',\n",
       " 'eruption_test_45_reduced.mp4',\n",
       " 'eruption_test_85_interpolated.mp4',\n",
       " 'eruption_test_63_interpolated.mp4',\n",
       " 'eruption_test_35_reduced.mp4',\n",
       " 'eruption_test_96_reduced.mp4',\n",
       " 'eruption_test_95_CVAE.mp4',\n",
       " 'eruption_test_94_CVAE.mp4',\n",
       " 'eruption_test_07_CVAE.mp4',\n",
       " 'eruption_test_06_interpolated.mp4',\n",
       " 'eruption_test_38_interpolated.mp4',\n",
       " 'eruption_test_06_CVAE.mp4',\n",
       " 'eruption_test_07_reduced.mp4',\n",
       " 'eruption_test_19_interpolated.mp4',\n",
       " 'eruption_test_27_interpolated.mp4',\n",
       " 'eruption_test_77_reduced.mp4',\n",
       " 'eruption_test_43_GAN.mp4',\n",
       " 'eruption_test_53_GAN.mp4',\n",
       " 'eruption_test_70_CVAE.mp4',\n",
       " 'eruption_test_71_CVAE.mp4',\n",
       " 'eruption_test_21_GAN.mp4',\n",
       " 'eruption_test_31_GAN.mp4',\n",
       " 'eruption_test_29_reduced.mp4',\n",
       " 'eruption_test_39_CVAE.mp4',\n",
       " 'eruption_test_38_CVAE.mp4',\n",
       " 'eruption_test_42_interpolated.mp4',\n",
       " 'eruption_test_98_GAN.mp4',\n",
       " 'eruption_test_59_reduced.mp4',\n",
       " 'eruption_test_88_GAN.mp4',\n",
       " 'eruption_test_33_interpolated.mp4',\n",
       " 'eruption_test_07_GAN.mp4',\n",
       " 'eruption_test_17_GAN.mp4',\n",
       " 'eruption_test_65_GAN.mp4',\n",
       " 'eruption_test_12_reduced.mp4',\n",
       " 'eruption_test_75_GAN.mp4',\n",
       " 'eruption_test_56_interpolated.mp4',\n",
       " 'eruption_test_44_CVAE.mp4',\n",
       " 'eruption_test_68_interpolated.mp4',\n",
       " 'eruption_test_45_CVAE.mp4',\n",
       " 'eruption_test_62_reduced.mp4',\n",
       " 'eruption_test_83_reduced.mp4',\n",
       " 'eruption_test_38_GAN.mp4',\n",
       " 'eruption_test_28_GAN.mp4',\n",
       " 'eruption_test_33_CVAE.mp4',\n",
       " 'eruption_test_32_CVAE.mp4',\n",
       " 'eruption_test_49_interpolated.mp4',\n",
       " 'eruption_test_77_interpolated.mp4',\n",
       " 'eruption_test_91_interpolated.mp4',\n",
       " 'eruption_test_81_GAN.mp4',\n",
       " 'eruption_test_91_GAN.mp4',\n",
       " 'eruption_test_12_interpolated.mp4',\n",
       " 'eruption_test_50_reduced.mp4',\n",
       " 'eruption_test_20_reduced.mp4',\n",
       " 'eruption_test_20_interpolated.mp4',\n",
       " 'eruption_test_57_CVAE.mp4',\n",
       " 'eruption_test_56_CVAE.mp4',\n",
       " 'eruption_test_94_GAN.mp4',\n",
       " 'eruption_test_84_GAN.mp4',\n",
       " 'eruption_test_15_reduced.mp4',\n",
       " 'eruption_test_45_interpolated.mp4',\n",
       " 'eruption_test_98_reduced.mp4',\n",
       " 'eruption_test_65_reduced.mp4',\n",
       " 'eruption_test_79_reduced.mp4',\n",
       " 'eruption_test_69_CVAE.mp4',\n",
       " 'eruption_test_82_interpolated.mp4',\n",
       " 'eruption_test_84_reduced.mp4',\n",
       " 'eruption_test_68_CVAE.mp4',\n",
       " 'eruption_test_64_interpolated.mp4',\n",
       " 'eruption_test_09_reduced.mp4',\n",
       " 'eruption_test_12_GAN.mp4',\n",
       " 'eruption_test_02_GAN.mp4',\n",
       " 'eruption_test_20_CVAE.mp4',\n",
       " 'eruption_test_21_CVAE.mp4',\n",
       " 'eruption_test_57_reduced.mp4',\n",
       " 'eruption_test_70_GAN.mp4',\n",
       " 'eruption_test_60_GAN.mp4',\n",
       " 'eruption_test_27_reduced.mp4',\n",
       " 'eruption_test_01_interpolated.mp4',\n",
       " 'eruption_test_86_CVAE.mp4',\n",
       " 'eruption_test_42_reduced.mp4',\n",
       " 'eruption_test_87_CVAE.mp4',\n",
       " 'eruption_test_14_CVAE.mp4',\n",
       " 'eruption_test_56_GAN.mp4',\n",
       " 'eruption_test_15_CVAE.mp4',\n",
       " 'eruption_test_70_interpolated.mp4',\n",
       " 'eruption_test_46_GAN.mp4',\n",
       " 'eruption_test_96_interpolated.mp4',\n",
       " 'eruption_test_32_reduced.mp4',\n",
       " 'eruption_test_15_interpolated.mp4',\n",
       " 'eruption_test_91_reduced.mp4',\n",
       " 'eruption_test_34_GAN.mp4',\n",
       " 'eruption_test_24_GAN.mp4',\n",
       " 'eruption_test_69_GAN.mp4',\n",
       " 'eruption_test_00_reduced.mp4',\n",
       " 'eruption_test_79_GAN.mp4',\n",
       " 'eruption_test_34_interpolated.mp4',\n",
       " 'eruption_test_70_reduced.mp4',\n",
       " 'eruption_test_51_interpolated.mp4',\n",
       " 'eruption_test_89_interpolated.mp4',\n",
       " 'eruption_test_63_CVAE.mp4',\n",
       " 'eruption_test_62_CVAE.mp4',\n",
       " 'eruption_test_30_interpolated.mp4',\n",
       " 'eruption_test_47_GAN.mp4',\n",
       " 'eruption_test_57_GAN.mp4',\n",
       " 'eruption_test_19_reduced.mp4',\n",
       " 'eruption_test_94_reduced.mp4',\n",
       " 'eruption_test_09_CVAE.mp4',\n",
       " 'eruption_test_08_CVAE.mp4',\n",
       " 'eruption_test_69_reduced.mp4',\n",
       " 'eruption_test_37_reduced.mp4',\n",
       " 'eruption_test_40_CVAE.mp4',\n",
       " 'eruption_test_55_interpolated.mp4',\n",
       " 'eruption_test_47_reduced.mp4',\n",
       " 'eruption_test_41_CVAE.mp4',\n",
       " 'eruption_test_25_GAN.mp4',\n",
       " 'eruption_test_35_GAN.mp4',\n",
       " 'eruption_test_74_interpolated.mp4',\n",
       " 'eruption_test_92_interpolated.mp4',\n",
       " 'eruption_test_37_CVAE.mp4',\n",
       " 'eruption_test_36_CVAE.mp4',\n",
       " 'eruption_test_78_GAN.mp4',\n",
       " 'eruption_test_68_GAN.mp4',\n",
       " 'eruption_test_75_reduced.mp4',\n",
       " 'eruption_test_88_reduced.mp4',\n",
       " 'eruption_test_05_reduced.mp4',\n",
       " 'eruption_test_11_interpolated.mp4',\n",
       " 'eruption_test_85_GAN.mp4',\n",
       " 'eruption_test_60_reduced.mp4',\n",
       " 'eruption_test_95_GAN.mp4',\n",
       " 'eruption_test_10_reduced.mp4',\n",
       " 'eruption_test_86_interpolated.mp4',\n",
       " 'eruption_test_60_interpolated.mp4',\n",
       " 'eruption_test_05_interpolated.mp4',\n",
       " 'eruption_test_03_CVAE.mp4',\n",
       " 'eruption_test_02_CVAE.mp4',\n",
       " 'eruption_test_91_CVAE.mp4',\n",
       " 'eruption_test_90_CVAE.mp4',\n",
       " 'eruption_test_03_GAN.mp4',\n",
       " 'eruption_test_22_reduced.mp4',\n",
       " 'eruption_test_13_GAN.mp4',\n",
       " 'eruption_test_74_CVAE.mp4',\n",
       " 'eruption_test_75_CVAE.mp4',\n",
       " 'eruption_test_52_reduced.mp4',\n",
       " 'eruption_test_24_interpolated.mp4',\n",
       " 'eruption_test_99_interpolated.mp4',\n",
       " 'eruption_test_41_interpolated.mp4',\n",
       " 'eruption_test_81_reduced.mp4',\n",
       " 'eruption_test_61_GAN.mp4',\n",
       " 'eruption_test_71_GAN.mp4',\n",
       " 'eruption_test_00_interpolated.mp4',\n",
       " 'eruption_test_37_GAN.mp4',\n",
       " 'eruption_test_27_GAN.mp4',\n",
       " 'eruption_test_82_reduced.mp4',\n",
       " 'eruption_test_47_CVAE.mp4',\n",
       " 'eruption_test_46_CVAE.mp4',\n",
       " 'eruption_test_55_GAN.mp4',\n",
       " 'eruption_test_45_GAN.mp4',\n",
       " 'eruption_test_21_reduced.mp4',\n",
       " 'eruption_test_65_interpolated.mp4',\n",
       " 'eruption_test_83_interpolated.mp4',\n",
       " 'eruption_test_51_reduced.mp4',\n",
       " 'eruption_test_30_CVAE.mp4',\n",
       " 'eruption_test_31_CVAE.mp4',\n",
       " 'eruption_test_44_interpolated.mp4',\n",
       " 'eruption_test_08_GAN.mp4',\n",
       " 'eruption_test_18_GAN.mp4',\n",
       " 'eruption_test_63_reduced.mp4',\n",
       " 'eruption_test_79_CVAE.mp4',\n",
       " 'eruption_test_78_CVAE.mp4',\n",
       " 'eruption_test_21_interpolated.mp4',\n",
       " 'eruption_test_13_reduced.mp4',\n",
       " 'eruption_test_76_reduced.mp4',\n",
       " 'eruption_test_88_interpolated.mp4',\n",
       " 'eruption_test_50_interpolated.mp4',\n",
       " 'eruption_test_06_reduced.mp4',\n",
       " 'eruption_test_58_reduced.mp4',\n",
       " 'eruption_test_97_GAN.mp4',\n",
       " 'eruption_test_35_interpolated.mp4',\n",
       " 'eruption_test_96_CVAE.mp4',\n",
       " 'eruption_test_87_GAN.mp4',\n",
       " 'eruption_test_97_CVAE.mp4',\n",
       " 'eruption_test_28_reduced.mp4',\n",
       " 'eruption_test_04_CVAE.mp4',\n",
       " 'eruption_test_05_CVAE.mp4',\n",
       " 'eruption_test_34_reduced.mp4',\n",
       " 'eruption_test_73_GAN.mp4',\n",
       " 'eruption_test_63_GAN.mp4',\n",
       " 'eruption_test_73_CVAE.mp4',\n",
       " 'eruption_test_14_interpolated.mp4',\n",
       " 'eruption_test_72_CVAE.mp4',\n",
       " 'eruption_test_44_reduced.mp4',\n",
       " 'eruption_test_97_interpolated.mp4',\n",
       " 'eruption_test_71_interpolated.mp4',\n",
       " 'eruption_test_11_GAN.mp4',\n",
       " 'eruption_test_01_GAN.mp4',\n",
       " 'eruption_test_97_reduced.mp4',\n",
       " 'eruption_test_10_interpolated.mp4',\n",
       " 'eruption_test_50_CVAE.mp4',\n",
       " 'eruption_test_51_CVAE.mp4',\n",
       " 'eruption_test_03_reduced.mp4',\n",
       " 'eruption_test_73_reduced.mp4',\n",
       " 'eruption_test_19_CVAE.mp4',\n",
       " 'eruption_test_86_GAN.mp4',\n",
       " 'eruption_test_18_CVAE.mp4',\n",
       " 'eruption_test_93_interpolated.mp4',\n",
       " 'eruption_test_96_GAN.mp4',\n",
       " 'eruption_test_75_interpolated.mp4',\n",
       " 'eruption_test_54_interpolated.mp4',\n",
       " 'eruption_test_92_reduced.mp4',\n",
       " 'eruption_test_62_GAN.mp4',\n",
       " 'eruption_test_72_GAN.mp4',\n",
       " 'eruption_test_41_reduced.mp4',\n",
       " 'eruption_test_27_CVAE.mp4',\n",
       " 'eruption_test_31_interpolated.mp4',\n",
       " 'eruption_test_31_reduced.mp4',\n",
       " 'eruption_test_26_CVAE.mp4',\n",
       " 'eruption_test_00_GAN.mp4',\n",
       " 'eruption_test_10_GAN.mp4',\n",
       " 'eruption_test_13_CVAE.mp4',\n",
       " 'eruption_test_26_GAN.mp4',\n",
       " 'eruption_test_12_CVAE.mp4',\n",
       " 'eruption_test_36_GAN.mp4',\n",
       " 'eruption_test_54_reduced.mp4',\n",
       " 'eruption_test_24_reduced.mp4',\n",
       " 'eruption_test_81_CVAE.mp4',\n",
       " 'eruption_test_80_CVAE.mp4',\n",
       " 'eruption_test_40_interpolated.mp4',\n",
       " 'eruption_test_98_interpolated.mp4',\n",
       " 'eruption_test_87_reduced.mp4',\n",
       " 'eruption_test_25_interpolated.mp4',\n",
       " 'eruption_test_44_GAN.mp4',\n",
       " 'eruption_test_54_GAN.mp4',\n",
       " 'eruption_test_16_reduced.mp4',\n",
       " 'eruption_test_04_interpolated.mp4',\n",
       " 'eruption_test_66_reduced.mp4',\n",
       " 'eruption_test_19_GAN.mp4',\n",
       " 'eruption_test_09_GAN.mp4',\n",
       " 'eruption_test_64_CVAE.mp4',\n",
       " 'eruption_test_65_CVAE.mp4',\n",
       " 'eruption_test_61_interpolated.mp4',\n",
       " 'eruption_test_87_interpolated.mp4',\n",
       " 'eruption_test_38_reduced.mp4',\n",
       " 'eruption_test_48_reduced.mp4']"
      ]
     },
     "execution_count": 43,
     "metadata": {},
     "output_type": "execute_result"
    }
   ],
   "source": [
    "#os.listdir(\"videos_for_poster/videos_for_poster_eruption\")"
   ]
  },
  {
   "cell_type": "code",
   "execution_count": 45,
   "metadata": {},
   "outputs": [
    {
     "name": "stderr",
     "output_type": "stream",
     "text": [
      "t:  50%|█████     | 15/30 [00:00<00:00, 143.02it/s, now=None]"
     ]
    },
    {
     "name": "stdout",
     "output_type": "stream",
     "text": [
      "MoviePy - Building file videos_for_poster/erupting_gifs/eruption_test_49_CVAE.gif with imageio.\n"
     ]
    },
    {
     "name": "stderr",
     "output_type": "stream",
     "text": [
      "t:  37%|███▋      | 11/30 [00:00<00:00, 102.20it/s, now=None]"
     ]
    },
    {
     "name": "stdout",
     "output_type": "stream",
     "text": [
      "MoviePy - Building file videos_for_poster/erupting_gifs/eruption_test_48_CVAE.gif with imageio.\n"
     ]
    },
    {
     "name": "stderr",
     "output_type": "stream",
     "text": [
      "t:  40%|████      | 12/30 [00:00<00:00, 119.08it/s, now=None]"
     ]
    },
    {
     "name": "stdout",
     "output_type": "stream",
     "text": [
      "MoviePy - Building file videos_for_poster/erupting_gifs/eruption_test_53_interpolated.gif with imageio.\n"
     ]
    },
    {
     "name": "stderr",
     "output_type": "stream",
     "text": [
      "t:  43%|████▎     | 13/30 [00:00<00:00, 126.82it/s, now=None]"
     ]
    },
    {
     "name": "stdout",
     "output_type": "stream",
     "text": [
      "MoviePy - Building file videos_for_poster/erupting_gifs/eruption_test_53_reduced.gif with imageio.\n"
     ]
    },
    {
     "name": "stderr",
     "output_type": "stream",
     "text": [
      "t:  47%|████▋     | 14/30 [00:00<00:00, 135.97it/s, now=None]"
     ]
    },
    {
     "name": "stdout",
     "output_type": "stream",
     "text": [
      "MoviePy - Building file videos_for_poster/erupting_gifs/eruption_test_23_reduced.gif with imageio.\n"
     ]
    },
    {
     "name": "stderr",
     "output_type": "stream",
     "text": [
      "t:  50%|█████     | 15/30 [00:00<00:00, 147.92it/s, now=None]"
     ]
    },
    {
     "name": "stdout",
     "output_type": "stream",
     "text": [
      "MoviePy - Building file videos_for_poster/erupting_gifs/eruption_test_80_reduced.gif with imageio.\n"
     ]
    },
    {
     "name": "stderr",
     "output_type": "stream",
     "text": [
      "t:  50%|█████     | 15/30 [00:00<00:00, 147.94it/s, now=None]"
     ]
    },
    {
     "name": "stdout",
     "output_type": "stream",
     "text": [
      "MoviePy - Building file videos_for_poster/erupting_gifs/eruption_test_00_CVAE.gif with imageio.\n"
     ]
    },
    {
     "name": "stderr",
     "output_type": "stream",
     "text": [
      "t:  47%|████▋     | 14/30 [00:00<00:00, 139.65it/s, now=None]"
     ]
    },
    {
     "name": "stdout",
     "output_type": "stream",
     "text": [
      "MoviePy - Building file videos_for_poster/erupting_gifs/eruption_test_01_CVAE.gif with imageio.\n"
     ]
    },
    {
     "name": "stderr",
     "output_type": "stream",
     "text": [
      "t:  50%|█████     | 15/30 [00:00<00:00, 148.13it/s, now=None]"
     ]
    },
    {
     "name": "stdout",
     "output_type": "stream",
     "text": [
      "MoviePy - Building file videos_for_poster/erupting_gifs/eruption_test_92_CVAE.gif with imageio.\n"
     ]
    },
    {
     "name": "stderr",
     "output_type": "stream",
     "text": [
      "t:  50%|█████     | 15/30 [00:00<00:00, 143.81it/s, now=None]"
     ]
    },
    {
     "name": "stdout",
     "output_type": "stream",
     "text": [
      "MoviePy - Building file videos_for_poster/erupting_gifs/eruption_test_36_interpolated.gif with imageio.\n"
     ]
    },
    {
     "name": "stderr",
     "output_type": "stream",
     "text": [
      "t:  47%|████▋     | 14/30 [00:00<00:00, 131.36it/s, now=None]"
     ]
    },
    {
     "name": "stdout",
     "output_type": "stream",
     "text": [
      "MoviePy - Building file videos_for_poster/erupting_gifs/eruption_test_93_CVAE.gif with imageio.\n"
     ]
    },
    {
     "name": "stderr",
     "output_type": "stream",
     "text": [
      "t:  40%|████      | 12/30 [00:00<00:00, 118.66it/s, now=None]"
     ]
    },
    {
     "name": "stdout",
     "output_type": "stream",
     "text": [
      "MoviePy - Building file videos_for_poster/erupting_gifs/eruption_test_08_interpolated.gif with imageio.\n"
     ]
    },
    {
     "name": "stderr",
     "output_type": "stream",
     "text": [
      "t:  33%|███▎      | 10/30 [00:00<00:00, 97.21it/s, now=None] "
     ]
    },
    {
     "name": "stdout",
     "output_type": "stream",
     "text": [
      "MoviePy - Building file videos_for_poster/erupting_gifs/eruption_test_33_GAN.gif with imageio.\n"
     ]
    },
    {
     "name": "stderr",
     "output_type": "stream",
     "text": [
      "t:  30%|███       | 9/30 [00:00<00:00, 80.89it/s, now=None] "
     ]
    },
    {
     "name": "stdout",
     "output_type": "stream",
     "text": [
      "MoviePy - Building file videos_for_poster/erupting_gifs/eruption_test_23_GAN.gif with imageio.\n"
     ]
    },
    {
     "name": "stderr",
     "output_type": "stream",
     "text": [
      "t:  43%|████▎     | 13/30 [00:00<00:00, 124.95it/s, now=None]"
     ]
    },
    {
     "name": "stdout",
     "output_type": "stream",
     "text": [
      "MoviePy - Building file videos_for_poster/erupting_gifs/eruption_test_77_CVAE.gif with imageio.\n"
     ]
    },
    {
     "name": "stderr",
     "output_type": "stream",
     "text": [
      "t:  37%|███▋      | 11/30 [00:00<00:00, 104.79it/s, now=None]"
     ]
    },
    {
     "name": "stdout",
     "output_type": "stream",
     "text": [
      "MoviePy - Building file videos_for_poster/erupting_gifs/eruption_test_76_CVAE.gif with imageio.\n"
     ]
    },
    {
     "name": "stderr",
     "output_type": "stream",
     "text": [
      "t:  47%|████▋     | 14/30 [00:00<00:00, 137.34it/s, now=None]"
     ]
    },
    {
     "name": "stdout",
     "output_type": "stream",
     "text": [
      "MoviePy - Building file videos_for_poster/erupting_gifs/eruption_test_29_interpolated.gif with imageio.\n"
     ]
    },
    {
     "name": "stderr",
     "output_type": "stream",
     "text": [
      "t:  53%|█████▎    | 16/30 [00:00<00:00, 156.29it/s, now=None]"
     ]
    },
    {
     "name": "stdout",
     "output_type": "stream",
     "text": [
      "MoviePy - Building file videos_for_poster/erupting_gifs/eruption_test_17_interpolated.gif with imageio.\n"
     ]
    },
    {
     "name": "stderr",
     "output_type": "stream",
     "text": [
      "                                                             "
     ]
    },
    {
     "name": "stdout",
     "output_type": "stream",
     "text": [
      "MoviePy - Building file videos_for_poster/erupting_gifs/eruption_test_11_reduced.gif with imageio.\n"
     ]
    },
    {
     "name": "stderr",
     "output_type": "stream",
     "text": [
      "t:  47%|████▋     | 14/30 [00:00<00:00, 133.73it/s, now=None]"
     ]
    },
    {
     "name": "stdout",
     "output_type": "stream",
     "text": [
      "MoviePy - Building file videos_for_poster/erupting_gifs/eruption_test_61_reduced.gif with imageio.\n"
     ]
    },
    {
     "name": "stderr",
     "output_type": "stream",
     "text": [
      "t:  43%|████▎     | 13/30 [00:00<00:00, 121.55it/s, now=None]"
     ]
    },
    {
     "name": "stdout",
     "output_type": "stream",
     "text": [
      "MoviePy - Building file videos_for_poster/erupting_gifs/eruption_test_51_GAN.gif with imageio.\n"
     ]
    },
    {
     "name": "stderr",
     "output_type": "stream",
     "text": [
      "t:  43%|████▎     | 13/30 [00:00<00:00, 123.54it/s, now=None]"
     ]
    },
    {
     "name": "stdout",
     "output_type": "stream",
     "text": [
      "MoviePy - Building file videos_for_poster/erupting_gifs/eruption_test_41_GAN.gif with imageio.\n"
     ]
    },
    {
     "name": "stderr",
     "output_type": "stream",
     "text": [
      "t:  30%|███       | 9/30 [00:00<00:00, 72.33it/s, now=None]  "
     ]
    },
    {
     "name": "stdout",
     "output_type": "stream",
     "text": [
      "MoviePy - Building file videos_for_poster/erupting_gifs/eruption_test_94_interpolated.gif with imageio.\n"
     ]
    },
    {
     "name": "stderr",
     "output_type": "stream",
     "text": [
      "t:  43%|████▎     | 13/30 [00:00<00:00, 121.72it/s, now=None]"
     ]
    },
    {
     "name": "stdout",
     "output_type": "stream",
     "text": [
      "MoviePy - Building file videos_for_poster/erupting_gifs/eruption_test_72_interpolated.gif with imageio.\n"
     ]
    },
    {
     "name": "stderr",
     "output_type": "stream",
     "text": [
      "t:  37%|███▋      | 11/30 [00:00<00:00, 103.43it/s, now=None]"
     ]
    },
    {
     "name": "stdout",
     "output_type": "stream",
     "text": [
      "MoviePy - Building file videos_for_poster/erupting_gifs/eruption_test_77_GAN.gif with imageio.\n"
     ]
    },
    {
     "name": "stderr",
     "output_type": "stream",
     "text": [
      "t:  20%|██        | 6/30 [00:00<00:00, 51.47it/s, now=None]  "
     ]
    },
    {
     "name": "stdout",
     "output_type": "stream",
     "text": [
      "MoviePy - Building file videos_for_poster/erupting_gifs/eruption_test_98_CVAE.gif with imageio.\n"
     ]
    },
    {
     "name": "stderr",
     "output_type": "stream",
     "text": [
      "t:  43%|████▎     | 13/30 [00:00<00:00, 122.82it/s, now=None]"
     ]
    },
    {
     "name": "stdout",
     "output_type": "stream",
     "text": [
      "MoviePy - Building file videos_for_poster/erupting_gifs/eruption_test_67_GAN.gif with imageio.\n"
     ]
    },
    {
     "name": "stderr",
     "output_type": "stream",
     "text": [
      "t:  43%|████▎     | 13/30 [00:00<00:00, 125.78it/s, now=None]"
     ]
    },
    {
     "name": "stdout",
     "output_type": "stream",
     "text": [
      "MoviePy - Building file videos_for_poster/erupting_gifs/eruption_test_99_CVAE.gif with imageio.\n"
     ]
    },
    {
     "name": "stderr",
     "output_type": "stream",
     "text": [
      "t:  43%|████▎     | 13/30 [00:00<00:00, 121.61it/s, now=None]"
     ]
    },
    {
     "name": "stdout",
     "output_type": "stream",
     "text": [
      "MoviePy - Building file videos_for_poster/erupting_gifs/eruption_test_03_interpolated.gif with imageio.\n"
     ]
    },
    {
     "name": "stderr",
     "output_type": "stream",
     "text": [
      "t:  47%|████▋     | 14/30 [00:00<00:00, 129.57it/s, now=None]"
     ]
    },
    {
     "name": "stdout",
     "output_type": "stream",
     "text": [
      "MoviePy - Building file videos_for_poster/erupting_gifs/eruption_test_66_interpolated.gif with imageio.\n"
     ]
    },
    {
     "name": "stderr",
     "output_type": "stream",
     "text": [
      "t:  43%|████▎     | 13/30 [00:00<00:00, 121.18it/s, now=None]"
     ]
    },
    {
     "name": "stdout",
     "output_type": "stream",
     "text": [
      "MoviePy - Building file videos_for_poster/erupting_gifs/eruption_test_58_interpolated.gif with imageio.\n"
     ]
    },
    {
     "name": "stderr",
     "output_type": "stream",
     "text": [
      "                                                             "
     ]
    },
    {
     "name": "stdout",
     "output_type": "stream",
     "text": [
      "MoviePy - Building file videos_for_poster/erupting_gifs/eruption_test_80_interpolated.gif with imageio.\n"
     ]
    },
    {
     "name": "stderr",
     "output_type": "stream",
     "text": [
      "t:  53%|█████▎    | 16/30 [00:00<00:00, 154.18it/s, now=None]"
     ]
    },
    {
     "name": "stdout",
     "output_type": "stream",
     "text": [
      "MoviePy - Building file videos_for_poster/erupting_gifs/eruption_test_04_reduced.gif with imageio.\n"
     ]
    },
    {
     "name": "stderr",
     "output_type": "stream",
     "text": [
      "t:  47%|████▋     | 14/30 [00:00<00:00, 130.11it/s, now=None]"
     ]
    },
    {
     "name": "stdout",
     "output_type": "stream",
     "text": [
      "MoviePy - Building file videos_for_poster/erupting_gifs/eruption_test_15_GAN.gif with imageio.\n"
     ]
    },
    {
     "name": "stderr",
     "output_type": "stream",
     "text": [
      "t:  37%|███▋      | 11/30 [00:00<00:00, 92.45it/s, now=None] "
     ]
    },
    {
     "name": "stdout",
     "output_type": "stream",
     "text": [
      "MoviePy - Building file videos_for_poster/erupting_gifs/eruption_test_89_reduced.gif with imageio.\n"
     ]
    },
    {
     "name": "stderr",
     "output_type": "stream",
     "text": [
      "t:  43%|████▎     | 13/30 [00:00<00:00, 122.08it/s, now=None]"
     ]
    },
    {
     "name": "stdout",
     "output_type": "stream",
     "text": [
      "MoviePy - Building file videos_for_poster/erupting_gifs/eruption_test_05_GAN.gif with imageio.\n"
     ]
    },
    {
     "name": "stderr",
     "output_type": "stream",
     "text": [
      "t:  43%|████▎     | 13/30 [00:00<00:00, 123.79it/s, now=None]"
     ]
    },
    {
     "name": "stdout",
     "output_type": "stream",
     "text": [
      "MoviePy - Building file videos_for_poster/erupting_gifs/eruption_test_43_CVAE.gif with imageio.\n"
     ]
    },
    {
     "name": "stderr",
     "output_type": "stream",
     "text": [
      "t:  43%|████▎     | 13/30 [00:00<00:00, 124.30it/s, now=None]"
     ]
    },
    {
     "name": "stdout",
     "output_type": "stream",
     "text": [
      "MoviePy - Building file videos_for_poster/erupting_gifs/eruption_test_42_CVAE.gif with imageio.\n"
     ]
    },
    {
     "name": "stderr",
     "output_type": "stream",
     "text": [
      "t:  30%|███       | 9/30 [00:00<00:00, 89.98it/s, now=None]  "
     ]
    },
    {
     "name": "stdout",
     "output_type": "stream",
     "text": [
      "MoviePy - Building file videos_for_poster/erupting_gifs/eruption_test_74_reduced.gif with imageio.\n"
     ]
    },
    {
     "name": "stderr",
     "output_type": "stream",
     "text": [
      "t:  27%|██▋       | 8/30 [00:00<00:00, 63.25it/s, now=None] "
     ]
    },
    {
     "name": "stdout",
     "output_type": "stream",
     "text": [
      "MoviePy - Building file videos_for_poster/erupting_gifs/eruption_test_68_reduced.gif with imageio.\n"
     ]
    },
    {
     "name": "stderr",
     "output_type": "stream",
     "text": [
      "t:  53%|█████▎    | 16/30 [00:00<00:00, 155.01it/s, now=None]"
     ]
    },
    {
     "name": "stdout",
     "output_type": "stream",
     "text": [
      "MoviePy - Building file videos_for_poster/erupting_gifs/eruption_test_95_reduced.gif with imageio.\n"
     ]
    },
    {
     "name": "stderr",
     "output_type": "stream",
     "text": [
      "t:  40%|████      | 12/30 [00:00<00:00, 114.69it/s, now=None]"
     ]
    },
    {
     "name": "stdout",
     "output_type": "stream",
     "text": [
      "MoviePy - Building file videos_for_poster/erupting_gifs/eruption_test_18_reduced.gif with imageio.\n"
     ]
    },
    {
     "name": "stderr",
     "output_type": "stream",
     "text": [
      "t:  37%|███▋      | 11/30 [00:00<00:00, 106.83it/s, now=None]"
     ]
    },
    {
     "name": "stdout",
     "output_type": "stream",
     "text": [
      "MoviePy - Building file videos_for_poster/erupting_gifs/eruption_test_48_GAN.gif with imageio.\n"
     ]
    },
    {
     "name": "stderr",
     "output_type": "stream",
     "text": [
      "t:  37%|███▋      | 11/30 [00:00<00:00, 107.62it/s, now=None]"
     ]
    },
    {
     "name": "stdout",
     "output_type": "stream",
     "text": [
      "MoviePy - Building file videos_for_poster/erupting_gifs/eruption_test_58_GAN.gif with imageio.\n"
     ]
    },
    {
     "name": "stderr",
     "output_type": "stream",
     "text": [
      "t:  47%|████▋     | 14/30 [00:00<00:00, 134.69it/s, now=None]"
     ]
    },
    {
     "name": "stdout",
     "output_type": "stream",
     "text": [
      "MoviePy - Building file videos_for_poster/erupting_gifs/eruption_test_79_interpolated.gif with imageio.\n"
     ]
    },
    {
     "name": "stderr",
     "output_type": "stream",
     "text": [
      "t:  47%|████▋     | 14/30 [00:00<00:00, 135.04it/s, now=None]"
     ]
    },
    {
     "name": "stdout",
     "output_type": "stream",
     "text": [
      "MoviePy - Building file videos_for_poster/erupting_gifs/eruption_test_47_interpolated.gif with imageio.\n"
     ]
    },
    {
     "name": "stderr",
     "output_type": "stream",
     "text": [
      "t:  40%|████      | 12/30 [00:00<00:00, 114.39it/s, now=None]"
     ]
    },
    {
     "name": "stdout",
     "output_type": "stream",
     "text": [
      "MoviePy - Building file videos_for_poster/erupting_gifs/eruption_test_34_CVAE.gif with imageio.\n"
     ]
    },
    {
     "name": "stderr",
     "output_type": "stream",
     "text": [
      "t:  53%|█████▎    | 16/30 [00:00<00:00, 153.72it/s, now=None]"
     ]
    },
    {
     "name": "stdout",
     "output_type": "stream",
     "text": [
      "MoviePy - Building file videos_for_poster/erupting_gifs/eruption_test_35_CVAE.gif with imageio.\n"
     ]
    },
    {
     "name": "stderr",
     "output_type": "stream",
     "text": [
      "t:  47%|████▋     | 14/30 [00:00<00:00, 135.25it/s, now=None]"
     ]
    },
    {
     "name": "stdout",
     "output_type": "stream",
     "text": [
      "MoviePy - Building file videos_for_poster/erupting_gifs/eruption_test_22_interpolated.gif with imageio.\n"
     ]
    },
    {
     "name": "stderr",
     "output_type": "stream",
     "text": [
      "t:  40%|████      | 12/30 [00:00<00:00, 118.59it/s, now=None]"
     ]
    },
    {
     "name": "stdout",
     "output_type": "stream",
     "text": [
      "MoviePy - Building file videos_for_poster/erupting_gifs/eruption_test_46_reduced.gif with imageio.\n"
     ]
    },
    {
     "name": "stderr",
     "output_type": "stream",
     "text": [
      "t:  43%|████▎     | 13/30 [00:00<00:00, 120.74it/s, now=None]"
     ]
    },
    {
     "name": "stdout",
     "output_type": "stream",
     "text": [
      "MoviePy - Building file videos_for_poster/erupting_gifs/eruption_test_93_GAN.gif with imageio.\n"
     ]
    },
    {
     "name": "stderr",
     "output_type": "stream",
     "text": [
      "t:  43%|████▎     | 13/30 [00:00<00:00, 128.00it/s, now=None]"
     ]
    },
    {
     "name": "stdout",
     "output_type": "stream",
     "text": [
      "MoviePy - Building file videos_for_poster/erupting_gifs/eruption_test_83_GAN.gif with imageio.\n"
     ]
    },
    {
     "name": "stderr",
     "output_type": "stream",
     "text": [
      "t:  53%|█████▎    | 16/30 [00:00<00:00, 157.64it/s, now=None]"
     ]
    },
    {
     "name": "stdout",
     "output_type": "stream",
     "text": [
      "MoviePy - Building file videos_for_poster/erupting_gifs/eruption_test_36_reduced.gif with imageio.\n"
     ]
    },
    {
     "name": "stderr",
     "output_type": "stream",
     "text": [
      "t:  47%|████▋     | 14/30 [00:00<00:00, 135.08it/s, now=None]"
     ]
    },
    {
     "name": "stdout",
     "output_type": "stream",
     "text": [
      "MoviePy - Building file videos_for_poster/erupting_gifs/eruption_test_43_interpolated.gif with imageio.\n"
     ]
    },
    {
     "name": "stderr",
     "output_type": "stream",
     "text": [
      "t:  40%|████      | 12/30 [00:00<00:00, 114.74it/s, now=None]"
     ]
    },
    {
     "name": "stdout",
     "output_type": "stream",
     "text": [
      "MoviePy - Building file videos_for_poster/erupting_gifs/eruption_test_85_CVAE.gif with imageio.\n"
     ]
    },
    {
     "name": "stderr",
     "output_type": "stream",
     "text": [
      "t:  53%|█████▎    | 16/30 [00:00<00:00, 158.63it/s, now=None]"
     ]
    },
    {
     "name": "stdout",
     "output_type": "stream",
     "text": [
      "MoviePy - Building file videos_for_poster/erupting_gifs/eruption_test_84_CVAE.gif with imageio.\n"
     ]
    },
    {
     "name": "stderr",
     "output_type": "stream",
     "text": [
      "t:  47%|████▋     | 14/30 [00:00<00:00, 138.31it/s, now=None]"
     ]
    },
    {
     "name": "stdout",
     "output_type": "stream",
     "text": [
      "MoviePy - Building file videos_for_poster/erupting_gifs/eruption_test_71_reduced.gif with imageio.\n"
     ]
    },
    {
     "name": "stderr",
     "output_type": "stream",
     "text": [
      "t:  43%|████▎     | 13/30 [00:00<00:00, 122.06it/s, now=None]"
     ]
    },
    {
     "name": "stdout",
     "output_type": "stream",
     "text": [
      "MoviePy - Building file videos_for_poster/erupting_gifs/eruption_test_01_reduced.gif with imageio.\n"
     ]
    },
    {
     "name": "stderr",
     "output_type": "stream",
     "text": [
      "t:  43%|████▎     | 13/30 [00:00<00:00, 101.40it/s, now=None]"
     ]
    },
    {
     "name": "stdout",
     "output_type": "stream",
     "text": [
      "MoviePy - Building file videos_for_poster/erupting_gifs/eruption_test_66_GAN.gif with imageio.\n"
     ]
    },
    {
     "name": "stderr",
     "output_type": "stream",
     "text": [
      "t:  50%|█████     | 15/30 [00:00<00:00, 146.43it/s, now=None]"
     ]
    },
    {
     "name": "stdout",
     "output_type": "stream",
     "text": [
      "MoviePy - Building file videos_for_poster/erupting_gifs/eruption_test_17_CVAE.gif with imageio.\n"
     ]
    },
    {
     "name": "stderr",
     "output_type": "stream",
     "text": [
      "t:  47%|████▋     | 14/30 [00:00<00:00, 130.56it/s, now=None]"
     ]
    },
    {
     "name": "stdout",
     "output_type": "stream",
     "text": [
      "MoviePy - Building file videos_for_poster/erupting_gifs/eruption_test_76_GAN.gif with imageio.\n"
     ]
    },
    {
     "name": "stderr",
     "output_type": "stream",
     "text": [
      "t:  50%|█████     | 15/30 [00:00<00:00, 142.75it/s, now=None]"
     ]
    },
    {
     "name": "stdout",
     "output_type": "stream",
     "text": [
      "MoviePy - Building file videos_for_poster/erupting_gifs/eruption_test_16_CVAE.gif with imageio.\n"
     ]
    },
    {
     "name": "stderr",
     "output_type": "stream",
     "text": [
      "t:  43%|████▎     | 13/30 [00:00<00:00, 128.98it/s, now=None]"
     ]
    },
    {
     "name": "stdout",
     "output_type": "stream",
     "text": [
      "MoviePy - Building file videos_for_poster/erupting_gifs/eruption_test_04_GAN.gif with imageio.\n"
     ]
    },
    {
     "name": "stderr",
     "output_type": "stream",
     "text": [
      "t:  40%|████      | 12/30 [00:00<00:00, 110.24it/s, now=None]"
     ]
    },
    {
     "name": "stdout",
     "output_type": "stream",
     "text": [
      "MoviePy - Building file videos_for_poster/erupting_gifs/eruption_test_14_GAN.gif with imageio.\n"
     ]
    },
    {
     "name": "stderr",
     "output_type": "stream",
     "text": [
      "t:  47%|████▋     | 14/30 [00:00<00:00, 132.56it/s, now=None]"
     ]
    },
    {
     "name": "stdout",
     "output_type": "stream",
     "text": [
      "MoviePy - Building file videos_for_poster/erupting_gifs/eruption_test_18_interpolated.gif with imageio.\n"
     ]
    },
    {
     "name": "stderr",
     "output_type": "stream",
     "text": [
      "t:  53%|█████▎    | 16/30 [00:00<00:00, 155.74it/s, now=None]"
     ]
    },
    {
     "name": "stdout",
     "output_type": "stream",
     "text": [
      "MoviePy - Building file videos_for_poster/erupting_gifs/eruption_test_26_interpolated.gif with imageio.\n"
     ]
    },
    {
     "name": "stderr",
     "output_type": "stream",
     "text": [
      "t:  20%|██        | 6/30 [00:00<00:00, 50.81it/s, now=None]  "
     ]
    },
    {
     "name": "stdout",
     "output_type": "stream",
     "text": [
      "MoviePy - Building file videos_for_poster/erupting_gifs/eruption_test_59_GAN.gif with imageio.\n"
     ]
    },
    {
     "name": "stderr",
     "output_type": "stream",
     "text": [
      "t:  43%|████▎     | 13/30 [00:00<00:00, 129.27it/s, now=None]"
     ]
    },
    {
     "name": "stdout",
     "output_type": "stream",
     "text": [
      "MoviePy - Building file videos_for_poster/erupting_gifs/eruption_test_49_GAN.gif with imageio.\n"
     ]
    },
    {
     "name": "stderr",
     "output_type": "stream",
     "text": [
      "t:  43%|████▎     | 13/30 [00:00<00:00, 128.95it/s, now=None]"
     ]
    },
    {
     "name": "stdout",
     "output_type": "stream",
     "text": [
      "MoviePy - Building file videos_for_poster/erupting_gifs/eruption_test_33_reduced.gif with imageio.\n"
     ]
    },
    {
     "name": "stderr",
     "output_type": "stream",
     "text": [
      "t:  40%|████      | 12/30 [00:00<00:00, 109.19it/s, now=None]"
     ]
    },
    {
     "name": "stdout",
     "output_type": "stream",
     "text": [
      "MoviePy - Building file videos_for_poster/erupting_gifs/eruption_test_07_interpolated.gif with imageio.\n"
     ]
    },
    {
     "name": "stderr",
     "output_type": "stream",
     "text": [
      "t:  53%|█████▎    | 16/30 [00:00<00:00, 158.50it/s, now=None]"
     ]
    },
    {
     "name": "stdout",
     "output_type": "stream",
     "text": [
      "MoviePy - Building file videos_for_poster/erupting_gifs/eruption_test_39_interpolated.gif with imageio.\n"
     ]
    },
    {
     "name": "stderr",
     "output_type": "stream",
     "text": [
      "                                                             "
     ]
    },
    {
     "name": "stdout",
     "output_type": "stream",
     "text": [
      "MoviePy - Building file videos_for_poster/erupting_gifs/eruption_test_43_reduced.gif with imageio.\n"
     ]
    },
    {
     "name": "stderr",
     "output_type": "stream",
     "text": [
      "t:  33%|███▎      | 10/30 [00:00<00:00, 96.25it/s, now=None]"
     ]
    },
    {
     "name": "stdout",
     "output_type": "stream",
     "text": [
      "MoviePy - Building file videos_for_poster/erupting_gifs/eruption_test_29_CVAE.gif with imageio.\n"
     ]
    },
    {
     "name": "stderr",
     "output_type": "stream",
     "text": [
      "t:  50%|█████     | 15/30 [00:00<00:00, 147.15it/s, now=None]"
     ]
    },
    {
     "name": "stdout",
     "output_type": "stream",
     "text": [
      "MoviePy - Building file videos_for_poster/erupting_gifs/eruption_test_28_CVAE.gif with imageio.\n"
     ]
    },
    {
     "name": "stderr",
     "output_type": "stream",
     "text": [
      "t:  50%|█████     | 15/30 [00:00<00:00, 146.66it/s, now=None]"
     ]
    },
    {
     "name": "stdout",
     "output_type": "stream",
     "text": [
      "MoviePy - Building file videos_for_poster/erupting_gifs/eruption_test_82_GAN.gif with imageio.\n"
     ]
    },
    {
     "name": "stderr",
     "output_type": "stream",
     "text": [
      "t:  30%|███       | 9/30 [00:00<00:00, 89.26it/s, now=None]  "
     ]
    },
    {
     "name": "stdout",
     "output_type": "stream",
     "text": [
      "MoviePy - Building file videos_for_poster/erupting_gifs/eruption_test_92_GAN.gif with imageio.\n"
     ]
    },
    {
     "name": "stderr",
     "output_type": "stream",
     "text": [
      "t:  53%|█████▎    | 16/30 [00:00<00:00, 155.73it/s, now=None]"
     ]
    },
    {
     "name": "stdout",
     "output_type": "stream",
     "text": [
      "MoviePy - Building file videos_for_poster/erupting_gifs/eruption_test_90_reduced.gif with imageio.\n"
     ]
    },
    {
     "name": "stderr",
     "output_type": "stream",
     "text": [
      "t:  47%|████▋     | 14/30 [00:00<00:00, 133.82it/s, now=None]"
     ]
    },
    {
     "name": "stdout",
     "output_type": "stream",
     "text": [
      "MoviePy - Building file videos_for_poster/erupting_gifs/eruption_test_60_CVAE.gif with imageio.\n"
     ]
    },
    {
     "name": "stderr",
     "output_type": "stream",
     "text": [
      "t:  40%|████      | 12/30 [00:00<00:00, 117.39it/s, now=None]"
     ]
    },
    {
     "name": "stdout",
     "output_type": "stream",
     "text": [
      "MoviePy - Building file videos_for_poster/erupting_gifs/eruption_test_62_interpolated.gif with imageio.\n"
     ]
    },
    {
     "name": "stderr",
     "output_type": "stream",
     "text": [
      "t:  47%|████▋     | 14/30 [00:00<00:00, 135.31it/s, now=None]"
     ]
    },
    {
     "name": "stdout",
     "output_type": "stream",
     "text": [
      "MoviePy - Building file videos_for_poster/erupting_gifs/eruption_test_61_CVAE.gif with imageio.\n"
     ]
    },
    {
     "name": "stderr",
     "output_type": "stream",
     "text": [
      "                                                             "
     ]
    },
    {
     "name": "stdout",
     "output_type": "stream",
     "text": [
      "MoviePy - Building file videos_for_poster/erupting_gifs/eruption_test_84_interpolated.gif with imageio.\n"
     ]
    },
    {
     "name": "stderr",
     "output_type": "stream",
     "text": [
      "t:  43%|████▎     | 13/30 [00:00<00:00, 120.87it/s, now=None]"
     ]
    },
    {
     "name": "stdout",
     "output_type": "stream",
     "text": [
      "MoviePy - Building file videos_for_poster/erupting_gifs/eruption_test_08_reduced.gif with imageio.\n"
     ]
    },
    {
     "name": "stderr",
     "output_type": "stream",
     "text": [
      "t:  53%|█████▎    | 16/30 [00:00<00:00, 151.17it/s, now=None]"
     ]
    },
    {
     "name": "stdout",
     "output_type": "stream",
     "text": [
      "MoviePy - Building file videos_for_poster/erupting_gifs/eruption_test_54_CVAE.gif with imageio.\n"
     ]
    },
    {
     "name": "stderr",
     "output_type": "stream",
     "text": [
      "t:  43%|████▎     | 13/30 [00:00<00:00, 127.81it/s, now=None]"
     ]
    },
    {
     "name": "stdout",
     "output_type": "stream",
     "text": [
      "MoviePy - Building file videos_for_poster/erupting_gifs/eruption_test_55_CVAE.gif with imageio.\n"
     ]
    },
    {
     "name": "stderr",
     "output_type": "stream",
     "text": [
      "t:  47%|████▋     | 14/30 [00:00<00:00, 132.63it/s, now=None]"
     ]
    },
    {
     "name": "stdout",
     "output_type": "stream",
     "text": [
      "MoviePy - Building file videos_for_poster/erupting_gifs/eruption_test_85_reduced.gif with imageio.\n"
     ]
    },
    {
     "name": "stderr",
     "output_type": "stream",
     "text": [
      "t:  50%|█████     | 15/30 [00:00<00:00, 143.53it/s, now=None]"
     ]
    },
    {
     "name": "stdout",
     "output_type": "stream",
     "text": [
      "MoviePy - Building file videos_for_poster/erupting_gifs/eruption_test_13_interpolated.gif with imageio.\n"
     ]
    },
    {
     "name": "stderr",
     "output_type": "stream",
     "text": [
      "t:  47%|████▋     | 14/30 [00:00<00:00, 136.81it/s, now=None]"
     ]
    },
    {
     "name": "stdout",
     "output_type": "stream",
     "text": [
      "MoviePy - Building file videos_for_poster/erupting_gifs/eruption_test_78_reduced.gif with imageio.\n"
     ]
    },
    {
     "name": "stderr",
     "output_type": "stream",
     "text": [
      "t:  50%|█████     | 15/30 [00:00<00:00, 147.84it/s, now=None]"
     ]
    },
    {
     "name": "stdout",
     "output_type": "stream",
     "text": [
      "MoviePy - Building file videos_for_poster/erupting_gifs/eruption_test_90_interpolated.gif with imageio.\n"
     ]
    },
    {
     "name": "stderr",
     "output_type": "stream",
     "text": [
      "t:  43%|████▎     | 13/30 [00:00<00:00, 128.78it/s, now=None]"
     ]
    },
    {
     "name": "stdout",
     "output_type": "stream",
     "text": [
      "MoviePy - Building file videos_for_poster/erupting_gifs/eruption_test_48_interpolated.gif with imageio.\n"
     ]
    },
    {
     "name": "stderr",
     "output_type": "stream",
     "text": [
      "t:  50%|█████     | 15/30 [00:00<00:00, 137.60it/s, now=None]"
     ]
    },
    {
     "name": "stdout",
     "output_type": "stream",
     "text": [
      "MoviePy - Building file videos_for_poster/erupting_gifs/eruption_test_76_interpolated.gif with imageio.\n"
     ]
    },
    {
     "name": "stderr",
     "output_type": "stream",
     "text": [
      "t:  53%|█████▎    | 16/30 [00:00<00:00, 154.81it/s, now=None]"
     ]
    },
    {
     "name": "stdout",
     "output_type": "stream",
     "text": [
      "MoviePy - Building file videos_for_poster/erupting_gifs/eruption_test_26_reduced.gif with imageio.\n"
     ]
    },
    {
     "name": "stderr",
     "output_type": "stream",
     "text": [
      "                                                             "
     ]
    },
    {
     "name": "stdout",
     "output_type": "stream",
     "text": [
      "MoviePy - Building file videos_for_poster/erupting_gifs/eruption_test_56_reduced.gif with imageio.\n"
     ]
    },
    {
     "name": "stderr",
     "output_type": "stream",
     "text": [
      "t:  30%|███       | 9/30 [00:00<00:00, 83.76it/s, now=None]"
     ]
    },
    {
     "name": "stdout",
     "output_type": "stream",
     "text": [
      "MoviePy - Building file videos_for_poster/erupting_gifs/eruption_test_22_GAN.gif with imageio.\n"
     ]
    },
    {
     "name": "stderr",
     "output_type": "stream",
     "text": [
      "t:  50%|█████     | 15/30 [00:00<00:00, 144.80it/s, now=None]"
     ]
    },
    {
     "name": "stdout",
     "output_type": "stream",
     "text": [
      "MoviePy - Building file videos_for_poster/erupting_gifs/eruption_test_57_interpolated.gif with imageio.\n"
     ]
    },
    {
     "name": "stderr",
     "output_type": "stream",
     "text": [
      "t:  47%|████▋     | 14/30 [00:00<00:00, 133.34it/s, now=None]"
     ]
    },
    {
     "name": "stdout",
     "output_type": "stream",
     "text": [
      "MoviePy - Building file videos_for_poster/erupting_gifs/eruption_test_32_GAN.gif with imageio.\n"
     ]
    },
    {
     "name": "stderr",
     "output_type": "stream",
     "text": [
      "t:  47%|████▋     | 14/30 [00:00<00:00, 137.26it/s, now=None]"
     ]
    },
    {
     "name": "stdout",
     "output_type": "stream",
     "text": [
      "MoviePy - Building file videos_for_poster/erupting_gifs/eruption_test_69_interpolated.gif with imageio.\n"
     ]
    },
    {
     "name": "stderr",
     "output_type": "stream",
     "text": [
      "t:  43%|████▎     | 13/30 [00:00<00:00, 124.26it/s, now=None]"
     ]
    },
    {
     "name": "stdout",
     "output_type": "stream",
     "text": [
      "MoviePy - Building file videos_for_poster/erupting_gifs/eruption_test_40_GAN.gif with imageio.\n"
     ]
    },
    {
     "name": "stderr",
     "output_type": "stream",
     "text": [
      "t:  40%|████      | 12/30 [00:00<00:00, 112.28it/s, now=None]"
     ]
    },
    {
     "name": "stdout",
     "output_type": "stream",
     "text": [
      "MoviePy - Building file videos_for_poster/erupting_gifs/eruption_test_50_GAN.gif with imageio.\n"
     ]
    },
    {
     "name": "stderr",
     "output_type": "stream",
     "text": [
      "t:  43%|████▎     | 13/30 [00:00<00:00, 128.23it/s, now=None]"
     ]
    },
    {
     "name": "stdout",
     "output_type": "stream",
     "text": [
      "MoviePy - Building file videos_for_poster/erupting_gifs/eruption_test_64_reduced.gif with imageio.\n"
     ]
    },
    {
     "name": "stderr",
     "output_type": "stream",
     "text": [
      "t:  47%|████▋     | 14/30 [00:00<00:00, 138.61it/s, now=None]"
     ]
    },
    {
     "name": "stdout",
     "output_type": "stream",
     "text": [
      "MoviePy - Building file videos_for_poster/erupting_gifs/eruption_test_99_reduced.gif with imageio.\n"
     ]
    },
    {
     "name": "stderr",
     "output_type": "stream",
     "text": [
      "t:  43%|████▎     | 13/30 [00:00<00:00, 127.64it/s, now=None]"
     ]
    },
    {
     "name": "stdout",
     "output_type": "stream",
     "text": [
      "MoviePy - Building file videos_for_poster/erupting_gifs/eruption_test_23_CVAE.gif with imageio.\n"
     ]
    },
    {
     "name": "stderr",
     "output_type": "stream",
     "text": [
      "t:  37%|███▋      | 11/30 [00:00<00:00, 104.55it/s, now=None]"
     ]
    },
    {
     "name": "stdout",
     "output_type": "stream",
     "text": [
      "MoviePy - Building file videos_for_poster/erupting_gifs/eruption_test_22_CVAE.gif with imageio.\n"
     ]
    },
    {
     "name": "stderr",
     "output_type": "stream",
     "text": [
      "t:  47%|████▋     | 14/30 [00:00<00:00, 129.03it/s, now=None]"
     ]
    },
    {
     "name": "stdout",
     "output_type": "stream",
     "text": [
      "MoviePy - Building file videos_for_poster/erupting_gifs/eruption_test_32_interpolated.gif with imageio.\n"
     ]
    },
    {
     "name": "stderr",
     "output_type": "stream",
     "text": [
      "t:  37%|███▋      | 11/30 [00:00<00:00, 101.01it/s, now=None]"
     ]
    },
    {
     "name": "stdout",
     "output_type": "stream",
     "text": [
      "MoviePy - Building file videos_for_poster/erupting_gifs/eruption_test_14_reduced.gif with imageio.\n"
     ]
    },
    {
     "name": "stderr",
     "output_type": "stream",
     "text": [
      "t:  47%|████▋     | 14/30 [00:00<00:00, 131.96it/s, now=None]"
     ]
    },
    {
     "name": "stdout",
     "output_type": "stream",
     "text": [
      "MoviePy - Building file videos_for_poster/erupting_gifs/eruption_test_73_interpolated.gif with imageio.\n"
     ]
    },
    {
     "name": "stderr",
     "output_type": "stream",
     "text": [
      "t:  40%|████      | 12/30 [00:00<00:00, 108.04it/s, now=None]"
     ]
    },
    {
     "name": "stdout",
     "output_type": "stream",
     "text": [
      "MoviePy - Building file videos_for_poster/erupting_gifs/eruption_test_16_GAN.gif with imageio.\n"
     ]
    },
    {
     "name": "stderr",
     "output_type": "stream",
     "text": [
      "t:  33%|███▎      | 10/30 [00:00<00:00, 94.31it/s, now=None] "
     ]
    },
    {
     "name": "stdout",
     "output_type": "stream",
     "text": [
      "MoviePy - Building file videos_for_poster/erupting_gifs/eruption_test_10_CVAE.gif with imageio.\n"
     ]
    },
    {
     "name": "stderr",
     "output_type": "stream",
     "text": [
      "t:  37%|███▋      | 11/30 [00:00<00:00, 108.95it/s, now=None]"
     ]
    },
    {
     "name": "stdout",
     "output_type": "stream",
     "text": [
      "MoviePy - Building file videos_for_poster/erupting_gifs/eruption_test_06_GAN.gif with imageio.\n"
     ]
    },
    {
     "name": "stderr",
     "output_type": "stream",
     "text": [
      "t:  50%|█████     | 15/30 [00:00<00:00, 143.42it/s, now=None]"
     ]
    },
    {
     "name": "stdout",
     "output_type": "stream",
     "text": [
      "MoviePy - Building file videos_for_poster/erupting_gifs/eruption_test_67_reduced.gif with imageio.\n"
     ]
    },
    {
     "name": "stderr",
     "output_type": "stream",
     "text": [
      "t:  50%|█████     | 15/30 [00:00<00:00, 141.20it/s, now=None]"
     ]
    },
    {
     "name": "stdout",
     "output_type": "stream",
     "text": [
      "MoviePy - Building file videos_for_poster/erupting_gifs/eruption_test_11_CVAE.gif with imageio.\n"
     ]
    },
    {
     "name": "stderr",
     "output_type": "stream",
     "text": [
      "t:  53%|█████▎    | 16/30 [00:00<00:00, 155.03it/s, now=None]"
     ]
    },
    {
     "name": "stdout",
     "output_type": "stream",
     "text": [
      "MoviePy - Building file videos_for_poster/erupting_gifs/eruption_test_95_interpolated.gif with imageio.\n"
     ]
    },
    {
     "name": "stderr",
     "output_type": "stream",
     "text": [
      "t:  53%|█████▎    | 16/30 [00:00<00:00, 153.60it/s, now=None]"
     ]
    },
    {
     "name": "stdout",
     "output_type": "stream",
     "text": [
      "MoviePy - Building file videos_for_poster/erupting_gifs/eruption_test_82_CVAE.gif with imageio.\n"
     ]
    },
    {
     "name": "stderr",
     "output_type": "stream",
     "text": [
      "t:   0%|          | 0/30 [00:00<?, ?it/s, now=None]          "
     ]
    },
    {
     "name": "stdout",
     "output_type": "stream",
     "text": [
      "MoviePy - Building file videos_for_poster/erupting_gifs/eruption_test_83_CVAE.gif with imageio.\n",
      "MoviePy - Building file videos_for_poster/erupting_gifs/eruption_test_17_reduced.gif with imageio.\n"
     ]
    },
    {
     "name": "stderr",
     "output_type": "stream",
     "text": [
      "t:  43%|████▎     | 13/30 [00:00<00:00, 128.47it/s, now=None]"
     ]
    },
    {
     "name": "stdout",
     "output_type": "stream",
     "text": [
      "MoviePy - Building file videos_for_poster/erupting_gifs/eruption_test_59_CVAE.gif with imageio.\n"
     ]
    },
    {
     "name": "stderr",
     "output_type": "stream",
     "text": [
      "                                                             "
     ]
    },
    {
     "name": "stdout",
     "output_type": "stream",
     "text": [
      "MoviePy - Building file videos_for_poster/erupting_gifs/eruption_test_49_reduced.gif with imageio.\n"
     ]
    },
    {
     "name": "stderr",
     "output_type": "stream",
     "text": [
      "t:  47%|████▋     | 14/30 [00:00<00:00, 132.97it/s, now=None]"
     ]
    },
    {
     "name": "stdout",
     "output_type": "stream",
     "text": [
      "MoviePy - Building file videos_for_poster/erupting_gifs/eruption_test_58_CVAE.gif with imageio.\n"
     ]
    },
    {
     "name": "stderr",
     "output_type": "stream",
     "text": [
      "t:  47%|████▋     | 14/30 [00:00<00:00, 138.74it/s, now=None]"
     ]
    },
    {
     "name": "stdout",
     "output_type": "stream",
     "text": [
      "MoviePy - Building file videos_for_poster/erupting_gifs/eruption_test_74_GAN.gif with imageio.\n"
     ]
    },
    {
     "name": "stderr",
     "output_type": "stream",
     "text": [
      "t:  40%|████      | 12/30 [00:00<00:00, 117.04it/s, now=None]"
     ]
    },
    {
     "name": "stdout",
     "output_type": "stream",
     "text": [
      "MoviePy - Building file videos_for_poster/erupting_gifs/eruption_test_64_GAN.gif with imageio.\n"
     ]
    },
    {
     "name": "stderr",
     "output_type": "stream",
     "text": [
      "t:  57%|█████▋    | 17/30 [00:00<00:00, 161.39it/s, now=None]"
     ]
    },
    {
     "name": "stdout",
     "output_type": "stream",
     "text": [
      "MoviePy - Building file videos_for_poster/erupting_gifs/eruption_test_39_reduced.gif with imageio.\n"
     ]
    },
    {
     "name": "stderr",
     "output_type": "stream",
     "text": [
      "t:  40%|████      | 12/30 [00:00<00:00, 117.99it/s, now=None]"
     ]
    },
    {
     "name": "stdout",
     "output_type": "stream",
     "text": [
      "MoviePy - Building file videos_for_poster/erupting_gifs/eruption_test_28_interpolated.gif with imageio.\n"
     ]
    },
    {
     "name": "stderr",
     "output_type": "stream",
     "text": [
      "t:  40%|████      | 12/30 [00:00<00:00, 115.55it/s, now=None]"
     ]
    },
    {
     "name": "stdout",
     "output_type": "stream",
     "text": [
      "MoviePy - Building file videos_for_poster/erupting_gifs/eruption_test_16_interpolated.gif with imageio.\n"
     ]
    },
    {
     "name": "stderr",
     "output_type": "stream",
     "text": [
      "t:  47%|████▋     | 14/30 [00:00<00:00, 133.74it/s, now=None]"
     ]
    },
    {
     "name": "stdout",
     "output_type": "stream",
     "text": [
      "MoviePy - Building file videos_for_poster/erupting_gifs/eruption_test_37_interpolated.gif with imageio.\n"
     ]
    },
    {
     "name": "stderr",
     "output_type": "stream",
     "text": [
      "                                                             "
     ]
    },
    {
     "name": "stdout",
     "output_type": "stream",
     "text": [
      "MoviePy - Building file videos_for_poster/erupting_gifs/eruption_test_09_interpolated.gif with imageio.\n"
     ]
    },
    {
     "name": "stderr",
     "output_type": "stream",
     "text": [
      "t:  40%|████      | 12/30 [00:00<00:00, 112.83it/s, now=None]"
     ]
    },
    {
     "name": "stdout",
     "output_type": "stream",
     "text": [
      "MoviePy - Building file videos_for_poster/erupting_gifs/eruption_test_90_GAN.gif with imageio.\n"
     ]
    },
    {
     "name": "stderr",
     "output_type": "stream",
     "text": [
      "t:  33%|███▎      | 10/30 [00:00<00:00, 90.03it/s, now=None] "
     ]
    },
    {
     "name": "stdout",
     "output_type": "stream",
     "text": [
      "MoviePy - Building file videos_for_poster/erupting_gifs/eruption_test_25_reduced.gif with imageio.\n"
     ]
    },
    {
     "name": "stderr",
     "output_type": "stream",
     "text": [
      "t:  47%|████▋     | 14/30 [00:00<00:00, 132.13it/s, now=None]"
     ]
    },
    {
     "name": "stdout",
     "output_type": "stream",
     "text": [
      "MoviePy - Building file videos_for_poster/erupting_gifs/eruption_test_80_GAN.gif with imageio.\n"
     ]
    },
    {
     "name": "stderr",
     "output_type": "stream",
     "text": [
      "t:  37%|███▋      | 11/30 [00:00<00:00, 105.02it/s, now=None]"
     ]
    },
    {
     "name": "stdout",
     "output_type": "stream",
     "text": [
      "MoviePy - Building file videos_for_poster/erupting_gifs/eruption_test_29_GAN.gif with imageio.\n"
     ]
    },
    {
     "name": "stderr",
     "output_type": "stream",
     "text": [
      "t:  37%|███▋      | 11/30 [00:00<00:00, 105.21it/s, now=None]"
     ]
    },
    {
     "name": "stdout",
     "output_type": "stream",
     "text": [
      "MoviePy - Building file videos_for_poster/erupting_gifs/eruption_test_39_GAN.gif with imageio.\n"
     ]
    },
    {
     "name": "stderr",
     "output_type": "stream",
     "text": [
      "t:  37%|███▋      | 11/30 [00:00<00:00, 105.06it/s, now=None]"
     ]
    },
    {
     "name": "stdout",
     "output_type": "stream",
     "text": [
      "MoviePy - Building file videos_for_poster/erupting_gifs/eruption_test_55_reduced.gif with imageio.\n"
     ]
    },
    {
     "name": "stderr",
     "output_type": "stream",
     "text": [
      "t:  43%|████▎     | 13/30 [00:00<00:00, 121.46it/s, now=None]"
     ]
    },
    {
     "name": "stdout",
     "output_type": "stream",
     "text": [
      "MoviePy - Building file videos_for_poster/erupting_gifs/eruption_test_67_CVAE.gif with imageio.\n"
     ]
    },
    {
     "name": "stderr",
     "output_type": "stream",
     "text": [
      "t:  40%|████      | 12/30 [00:00<00:00, 118.48it/s, now=None]"
     ]
    },
    {
     "name": "stdout",
     "output_type": "stream",
     "text": [
      "MoviePy - Building file videos_for_poster/erupting_gifs/eruption_test_66_CVAE.gif with imageio.\n"
     ]
    },
    {
     "name": "stderr",
     "output_type": "stream",
     "text": [
      "t:  43%|████▎     | 13/30 [00:00<00:00, 126.98it/s, now=None]"
     ]
    },
    {
     "name": "stdout",
     "output_type": "stream",
     "text": [
      "MoviePy - Building file videos_for_poster/erupting_gifs/eruption_test_52_interpolated.gif with imageio.\n"
     ]
    },
    {
     "name": "stderr",
     "output_type": "stream",
     "text": [
      "                                                             "
     ]
    },
    {
     "name": "stdout",
     "output_type": "stream",
     "text": [
      "MoviePy - Building file videos_for_poster/erupting_gifs/eruption_test_86_reduced.gif with imageio.\n"
     ]
    },
    {
     "name": "stderr",
     "output_type": "stream",
     "text": [
      "t:  47%|████▋     | 14/30 [00:00<00:00, 135.47it/s, now=None]"
     ]
    },
    {
     "name": "stdout",
     "output_type": "stream",
     "text": [
      "MoviePy - Building file videos_for_poster/erupting_gifs/eruption_test_93_reduced.gif with imageio.\n"
     ]
    },
    {
     "name": "stderr",
     "output_type": "stream",
     "text": [
      "t:  37%|███▋      | 11/30 [00:00<00:00, 101.31it/s, now=None]"
     ]
    },
    {
     "name": "stdout",
     "output_type": "stream",
     "text": [
      "MoviePy - Building file videos_for_poster/erupting_gifs/eruption_test_53_CVAE.gif with imageio.\n"
     ]
    },
    {
     "name": "stderr",
     "output_type": "stream",
     "text": [
      "t:  50%|█████     | 15/30 [00:00<00:00, 144.27it/s, now=None]"
     ]
    },
    {
     "name": "stdout",
     "output_type": "stream",
     "text": [
      "MoviePy - Building file videos_for_poster/erupting_gifs/eruption_test_23_interpolated.gif with imageio.\n"
     ]
    },
    {
     "name": "stderr",
     "output_type": "stream",
     "text": [
      "t:  47%|████▋     | 14/30 [00:00<00:00, 133.42it/s, now=None]"
     ]
    },
    {
     "name": "stdout",
     "output_type": "stream",
     "text": [
      "MoviePy - Building file videos_for_poster/erupting_gifs/eruption_test_52_CVAE.gif with imageio.\n"
     ]
    },
    {
     "name": "stderr",
     "output_type": "stream",
     "text": [
      "t:  50%|█████     | 15/30 [00:00<00:00, 142.57it/s, now=None]"
     ]
    },
    {
     "name": "stdout",
     "output_type": "stream",
     "text": [
      "MoviePy - Building file videos_for_poster/erupting_gifs/eruption_test_30_reduced.gif with imageio.\n"
     ]
    },
    {
     "name": "stderr",
     "output_type": "stream",
     "text": [
      "t:  37%|███▋      | 11/30 [00:00<00:00, 106.33it/s, now=None]"
     ]
    },
    {
     "name": "stdout",
     "output_type": "stream",
     "text": [
      "MoviePy - Building file videos_for_poster/erupting_gifs/eruption_test_88_CVAE.gif with imageio.\n"
     ]
    },
    {
     "name": "stderr",
     "output_type": "stream",
     "text": [
      "t:  47%|████▋     | 14/30 [00:00<00:00, 133.77it/s, now=None]"
     ]
    },
    {
     "name": "stdout",
     "output_type": "stream",
     "text": [
      "MoviePy - Building file videos_for_poster/erupting_gifs/eruption_test_89_CVAE.gif with imageio.\n"
     ]
    },
    {
     "name": "stderr",
     "output_type": "stream",
     "text": [
      "t:  43%|████▎     | 13/30 [00:00<00:00, 122.26it/s, now=None]"
     ]
    },
    {
     "name": "stdout",
     "output_type": "stream",
     "text": [
      "MoviePy - Building file videos_for_poster/erupting_gifs/eruption_test_78_interpolated.gif with imageio.\n"
     ]
    },
    {
     "name": "stderr",
     "output_type": "stream",
     "text": [
      "t:  37%|███▋      | 11/30 [00:00<00:00, 101.39it/s, now=None]"
     ]
    },
    {
     "name": "stdout",
     "output_type": "stream",
     "text": [
      "MoviePy - Building file videos_for_poster/erupting_gifs/eruption_test_46_interpolated.gif with imageio.\n"
     ]
    },
    {
     "name": "stderr",
     "output_type": "stream",
     "text": [
      "t:  47%|████▋     | 14/30 [00:00<00:00, 135.03it/s, now=None]"
     ]
    },
    {
     "name": "stdout",
     "output_type": "stream",
     "text": [
      "MoviePy - Building file videos_for_poster/erupting_gifs/eruption_test_40_reduced.gif with imageio.\n"
     ]
    },
    {
     "name": "stderr",
     "output_type": "stream",
     "text": [
      "t:  40%|████      | 12/30 [00:00<00:00, 118.75it/s, now=None]"
     ]
    },
    {
     "name": "stdout",
     "output_type": "stream",
     "text": [
      "MoviePy - Building file videos_for_poster/erupting_gifs/eruption_test_52_GAN.gif with imageio.\n"
     ]
    },
    {
     "name": "stderr",
     "output_type": "stream",
     "text": [
      "t:  47%|████▋     | 14/30 [00:00<00:00, 132.52it/s, now=None]"
     ]
    },
    {
     "name": "stdout",
     "output_type": "stream",
     "text": [
      "MoviePy - Building file videos_for_poster/erupting_gifs/eruption_test_42_GAN.gif with imageio.\n"
     ]
    },
    {
     "name": "stderr",
     "output_type": "stream",
     "text": [
      "                                                             "
     ]
    },
    {
     "name": "stdout",
     "output_type": "stream",
     "text": [
      "MoviePy - Building file videos_for_poster/erupting_gifs/eruption_test_81_interpolated.gif with imageio.\n"
     ]
    },
    {
     "name": "stderr",
     "output_type": "stream",
     "text": [
      "t:  53%|█████▎    | 16/30 [00:00<00:00, 151.65it/s, now=None]"
     ]
    },
    {
     "name": "stdout",
     "output_type": "stream",
     "text": [
      "MoviePy - Building file videos_for_poster/erupting_gifs/eruption_test_67_interpolated.gif with imageio.\n"
     ]
    },
    {
     "name": "stderr",
     "output_type": "stream",
     "text": [
      "t:  40%|████      | 12/30 [00:00<00:00, 115.57it/s, now=None]"
     ]
    },
    {
     "name": "stdout",
     "output_type": "stream",
     "text": [
      "MoviePy - Building file videos_for_poster/erupting_gifs/eruption_test_59_interpolated.gif with imageio.\n"
     ]
    },
    {
     "name": "stderr",
     "output_type": "stream",
     "text": [
      "t:   0%|          | 0/30 [00:00<?, ?it/s, now=None]          "
     ]
    },
    {
     "name": "stdout",
     "output_type": "stream",
     "text": [
      "MoviePy - Building file videos_for_poster/erupting_gifs/eruption_test_02_interpolated.gif with imageio.\n",
      "MoviePy - Building file videos_for_poster/erupting_gifs/eruption_test_72_reduced.gif with imageio.\n"
     ]
    },
    {
     "name": "stderr",
     "output_type": "stream",
     "text": [
      "t:  37%|███▋      | 11/30 [00:00<00:00, 109.85it/s, now=None]"
     ]
    },
    {
     "name": "stdout",
     "output_type": "stream",
     "text": [
      "MoviePy - Building file videos_for_poster/erupting_gifs/eruption_test_89_GAN.gif with imageio.\n"
     ]
    },
    {
     "name": "stderr",
     "output_type": "stream",
     "text": [
      "t:  40%|████      | 12/30 [00:00<00:00, 117.84it/s, now=None]"
     ]
    },
    {
     "name": "stdout",
     "output_type": "stream",
     "text": [
      "MoviePy - Building file videos_for_poster/erupting_gifs/eruption_test_99_GAN.gif with imageio.\n"
     ]
    },
    {
     "name": "stderr",
     "output_type": "stream",
     "text": [
      "t:  33%|███▎      | 10/30 [00:00<00:00, 99.12it/s, now=None] "
     ]
    },
    {
     "name": "stdout",
     "output_type": "stream",
     "text": [
      "MoviePy - Building file videos_for_poster/erupting_gifs/eruption_test_30_GAN.gif with imageio.\n"
     ]
    },
    {
     "name": "stderr",
     "output_type": "stream",
     "text": [
      "t:  37%|███▋      | 11/30 [00:00<00:00, 102.00it/s, now=None]"
     ]
    },
    {
     "name": "stdout",
     "output_type": "stream",
     "text": [
      "MoviePy - Building file videos_for_poster/erupting_gifs/eruption_test_20_GAN.gif with imageio.\n"
     ]
    },
    {
     "name": "stderr",
     "output_type": "stream",
     "text": [
      "                                                             "
     ]
    },
    {
     "name": "stdout",
     "output_type": "stream",
     "text": [
      "MoviePy - Building file videos_for_poster/erupting_gifs/eruption_test_02_reduced.gif with imageio.\n"
     ]
    },
    {
     "name": "stderr",
     "output_type": "stream",
     "text": [
      "t:  50%|█████     | 15/30 [00:00<00:00, 141.83it/s, now=None]"
     ]
    },
    {
     "name": "stdout",
     "output_type": "stream",
     "text": [
      "MoviePy - Building file videos_for_poster/erupting_gifs/eruption_test_24_CVAE.gif with imageio.\n"
     ]
    },
    {
     "name": "stderr",
     "output_type": "stream",
     "text": [
      "t:  53%|█████▎    | 16/30 [00:00<00:00, 152.69it/s, now=None]"
     ]
    },
    {
     "name": "stdout",
     "output_type": "stream",
     "text": [
      "MoviePy - Building file videos_for_poster/erupting_gifs/eruption_test_25_CVAE.gif with imageio.\n"
     ]
    },
    {
     "name": "stderr",
     "output_type": "stream",
     "text": [
      "t:  50%|█████     | 15/30 [00:00<00:00, 145.99it/s, now=None]"
     ]
    },
    {
     "name": "stdout",
     "output_type": "stream",
     "text": [
      "MoviePy - Building file videos_for_poster/erupting_gifs/eruption_test_45_reduced.gif with imageio.\n"
     ]
    },
    {
     "name": "stderr",
     "output_type": "stream",
     "text": [
      "t:  43%|████▎     | 13/30 [00:00<00:00, 124.98it/s, now=None]"
     ]
    },
    {
     "name": "stdout",
     "output_type": "stream",
     "text": [
      "MoviePy - Building file videos_for_poster/erupting_gifs/eruption_test_85_interpolated.gif with imageio.\n"
     ]
    },
    {
     "name": "stderr",
     "output_type": "stream",
     "text": [
      "t:  30%|███       | 9/30 [00:00<00:00, 85.66it/s, now=None]  "
     ]
    },
    {
     "name": "stdout",
     "output_type": "stream",
     "text": [
      "MoviePy - Building file videos_for_poster/erupting_gifs/eruption_test_63_interpolated.gif with imageio.\n"
     ]
    },
    {
     "name": "stderr",
     "output_type": "stream",
     "text": [
      "t:  53%|█████▎    | 16/30 [00:00<00:00, 153.82it/s, now=None]"
     ]
    },
    {
     "name": "stdout",
     "output_type": "stream",
     "text": [
      "MoviePy - Building file videos_for_poster/erupting_gifs/eruption_test_35_reduced.gif with imageio.\n"
     ]
    },
    {
     "name": "stderr",
     "output_type": "stream",
     "text": [
      "t:  43%|████▎     | 13/30 [00:00<00:00, 129.89it/s, now=None]"
     ]
    },
    {
     "name": "stdout",
     "output_type": "stream",
     "text": [
      "MoviePy - Building file videos_for_poster/erupting_gifs/eruption_test_96_reduced.gif with imageio.\n"
     ]
    },
    {
     "name": "stderr",
     "output_type": "stream",
     "text": [
      "t:  53%|█████▎    | 16/30 [00:00<00:00, 155.25it/s, now=None]"
     ]
    },
    {
     "name": "stdout",
     "output_type": "stream",
     "text": [
      "MoviePy - Building file videos_for_poster/erupting_gifs/eruption_test_95_CVAE.gif with imageio.\n"
     ]
    },
    {
     "name": "stderr",
     "output_type": "stream",
     "text": [
      "t:  37%|███▋      | 11/30 [00:00<00:00, 103.40it/s, now=None]"
     ]
    },
    {
     "name": "stdout",
     "output_type": "stream",
     "text": [
      "MoviePy - Building file videos_for_poster/erupting_gifs/eruption_test_94_CVAE.gif with imageio.\n"
     ]
    },
    {
     "name": "stderr",
     "output_type": "stream",
     "text": [
      "t:  43%|████▎     | 13/30 [00:00<00:00, 120.09it/s, now=None]"
     ]
    },
    {
     "name": "stdout",
     "output_type": "stream",
     "text": [
      "MoviePy - Building file videos_for_poster/erupting_gifs/eruption_test_07_CVAE.gif with imageio.\n"
     ]
    },
    {
     "name": "stderr",
     "output_type": "stream",
     "text": [
      "t:  43%|████▎     | 13/30 [00:00<00:00, 125.67it/s, now=None]"
     ]
    },
    {
     "name": "stdout",
     "output_type": "stream",
     "text": [
      "MoviePy - Building file videos_for_poster/erupting_gifs/eruption_test_06_interpolated.gif with imageio.\n"
     ]
    },
    {
     "name": "stderr",
     "output_type": "stream",
     "text": [
      "t:  47%|████▋     | 14/30 [00:00<00:00, 129.62it/s, now=None]"
     ]
    },
    {
     "name": "stdout",
     "output_type": "stream",
     "text": [
      "MoviePy - Building file videos_for_poster/erupting_gifs/eruption_test_38_interpolated.gif with imageio.\n"
     ]
    },
    {
     "name": "stderr",
     "output_type": "stream",
     "text": [
      "t:  33%|███▎      | 10/30 [00:00<00:00, 98.56it/s, now=None] "
     ]
    },
    {
     "name": "stdout",
     "output_type": "stream",
     "text": [
      "MoviePy - Building file videos_for_poster/erupting_gifs/eruption_test_06_CVAE.gif with imageio.\n"
     ]
    },
    {
     "name": "stderr",
     "output_type": "stream",
     "text": [
      "t:  37%|███▋      | 11/30 [00:00<00:00, 101.18it/s, now=None]"
     ]
    },
    {
     "name": "stdout",
     "output_type": "stream",
     "text": [
      "MoviePy - Building file videos_for_poster/erupting_gifs/eruption_test_07_reduced.gif with imageio.\n"
     ]
    },
    {
     "name": "stderr",
     "output_type": "stream",
     "text": [
      "t:  20%|██        | 6/30 [00:00<00:00, 56.05it/s, now=None]  "
     ]
    },
    {
     "name": "stdout",
     "output_type": "stream",
     "text": [
      "MoviePy - Building file videos_for_poster/erupting_gifs/eruption_test_19_interpolated.gif with imageio.\n"
     ]
    },
    {
     "name": "stderr",
     "output_type": "stream",
     "text": [
      "t:  33%|███▎      | 10/30 [00:00<00:00, 96.38it/s, now=None]"
     ]
    },
    {
     "name": "stdout",
     "output_type": "stream",
     "text": [
      "MoviePy - Building file videos_for_poster/erupting_gifs/eruption_test_27_interpolated.gif with imageio.\n"
     ]
    },
    {
     "name": "stderr",
     "output_type": "stream",
     "text": [
      "t:  40%|████      | 12/30 [00:00<00:00, 116.70it/s, now=None]"
     ]
    },
    {
     "name": "stdout",
     "output_type": "stream",
     "text": [
      "MoviePy - Building file videos_for_poster/erupting_gifs/eruption_test_77_reduced.gif with imageio.\n"
     ]
    },
    {
     "name": "stderr",
     "output_type": "stream",
     "text": [
      "t:  40%|████      | 12/30 [00:00<00:00, 116.89it/s, now=None]"
     ]
    },
    {
     "name": "stdout",
     "output_type": "stream",
     "text": [
      "MoviePy - Building file videos_for_poster/erupting_gifs/eruption_test_43_GAN.gif with imageio.\n"
     ]
    },
    {
     "name": "stderr",
     "output_type": "stream",
     "text": [
      "t:  40%|████      | 12/30 [00:00<00:00, 113.94it/s, now=None]"
     ]
    },
    {
     "name": "stdout",
     "output_type": "stream",
     "text": [
      "MoviePy - Building file videos_for_poster/erupting_gifs/eruption_test_53_GAN.gif with imageio.\n"
     ]
    },
    {
     "name": "stderr",
     "output_type": "stream",
     "text": [
      "t:  33%|███▎      | 10/30 [00:00<00:00, 93.54it/s, now=None] "
     ]
    },
    {
     "name": "stdout",
     "output_type": "stream",
     "text": [
      "MoviePy - Building file videos_for_poster/erupting_gifs/eruption_test_70_CVAE.gif with imageio.\n"
     ]
    },
    {
     "name": "stderr",
     "output_type": "stream",
     "text": [
      "t:  27%|██▋       | 8/30 [00:00<00:00, 79.02it/s, now=None]  "
     ]
    },
    {
     "name": "stdout",
     "output_type": "stream",
     "text": [
      "MoviePy - Building file videos_for_poster/erupting_gifs/eruption_test_71_CVAE.gif with imageio.\n"
     ]
    },
    {
     "name": "stderr",
     "output_type": "stream",
     "text": [
      "t:  23%|██▎       | 7/30 [00:00<00:00, 65.67it/s, now=None] "
     ]
    },
    {
     "name": "stdout",
     "output_type": "stream",
     "text": [
      "MoviePy - Building file videos_for_poster/erupting_gifs/eruption_test_21_GAN.gif with imageio.\n"
     ]
    },
    {
     "name": "stderr",
     "output_type": "stream",
     "text": [
      "t:  37%|███▋      | 11/30 [00:00<00:00, 105.56it/s, now=None]"
     ]
    },
    {
     "name": "stdout",
     "output_type": "stream",
     "text": [
      "MoviePy - Building file videos_for_poster/erupting_gifs/eruption_test_31_GAN.gif with imageio.\n"
     ]
    },
    {
     "name": "stderr",
     "output_type": "stream",
     "text": [
      "t:  43%|████▎     | 13/30 [00:00<00:00, 125.74it/s, now=None]"
     ]
    },
    {
     "name": "stdout",
     "output_type": "stream",
     "text": [
      "MoviePy - Building file videos_for_poster/erupting_gifs/eruption_test_29_reduced.gif with imageio.\n"
     ]
    },
    {
     "name": "stderr",
     "output_type": "stream",
     "text": [
      "t:  43%|████▎     | 13/30 [00:00<00:00, 128.15it/s, now=None]"
     ]
    },
    {
     "name": "stdout",
     "output_type": "stream",
     "text": [
      "MoviePy - Building file videos_for_poster/erupting_gifs/eruption_test_39_CVAE.gif with imageio.\n"
     ]
    },
    {
     "name": "stderr",
     "output_type": "stream",
     "text": [
      "t:  47%|████▋     | 14/30 [00:00<00:00, 137.57it/s, now=None]"
     ]
    },
    {
     "name": "stdout",
     "output_type": "stream",
     "text": [
      "MoviePy - Building file videos_for_poster/erupting_gifs/eruption_test_38_CVAE.gif with imageio.\n"
     ]
    },
    {
     "name": "stderr",
     "output_type": "stream",
     "text": [
      "t:  27%|██▋       | 8/30 [00:00<00:00, 68.07it/s, now=None]  "
     ]
    },
    {
     "name": "stdout",
     "output_type": "stream",
     "text": [
      "MoviePy - Building file videos_for_poster/erupting_gifs/eruption_test_42_interpolated.gif with imageio.\n"
     ]
    },
    {
     "name": "stderr",
     "output_type": "stream",
     "text": [
      "t:  17%|█▋        | 5/30 [00:00<00:00, 26.21it/s, now=None] "
     ]
    },
    {
     "name": "stdout",
     "output_type": "stream",
     "text": [
      "MoviePy - Building file videos_for_poster/erupting_gifs/eruption_test_98_GAN.gif with imageio.\n"
     ]
    },
    {
     "name": "stderr",
     "output_type": "stream",
     "text": [
      "t:  40%|████      | 12/30 [00:00<00:00, 118.08it/s, now=None]"
     ]
    },
    {
     "name": "stdout",
     "output_type": "stream",
     "text": [
      "MoviePy - Building file videos_for_poster/erupting_gifs/eruption_test_59_reduced.gif with imageio.\n"
     ]
    },
    {
     "name": "stderr",
     "output_type": "stream",
     "text": [
      "t:  27%|██▋       | 8/30 [00:00<00:00, 76.92it/s, now=None]  "
     ]
    },
    {
     "name": "stdout",
     "output_type": "stream",
     "text": [
      "MoviePy - Building file videos_for_poster/erupting_gifs/eruption_test_88_GAN.gif with imageio.\n"
     ]
    },
    {
     "name": "stderr",
     "output_type": "stream",
     "text": [
      "t:  43%|████▎     | 13/30 [00:00<00:00, 126.77it/s, now=None]"
     ]
    },
    {
     "name": "stdout",
     "output_type": "stream",
     "text": [
      "MoviePy - Building file videos_for_poster/erupting_gifs/eruption_test_33_interpolated.gif with imageio.\n"
     ]
    },
    {
     "name": "stderr",
     "output_type": "stream",
     "text": [
      "t:  33%|███▎      | 10/30 [00:00<00:00, 99.90it/s, now=None] "
     ]
    },
    {
     "name": "stdout",
     "output_type": "stream",
     "text": [
      "MoviePy - Building file videos_for_poster/erupting_gifs/eruption_test_07_GAN.gif with imageio.\n"
     ]
    },
    {
     "name": "stderr",
     "output_type": "stream",
     "text": [
      "t:  33%|███▎      | 10/30 [00:00<00:00, 97.85it/s, now=None]"
     ]
    },
    {
     "name": "stdout",
     "output_type": "stream",
     "text": [
      "MoviePy - Building file videos_for_poster/erupting_gifs/eruption_test_17_GAN.gif with imageio.\n"
     ]
    },
    {
     "name": "stderr",
     "output_type": "stream",
     "text": [
      "t:  40%|████      | 12/30 [00:00<00:00, 116.89it/s, now=None]"
     ]
    },
    {
     "name": "stdout",
     "output_type": "stream",
     "text": [
      "MoviePy - Building file videos_for_poster/erupting_gifs/eruption_test_65_GAN.gif with imageio.\n"
     ]
    },
    {
     "name": "stderr",
     "output_type": "stream",
     "text": [
      "t:  43%|████▎     | 13/30 [00:00<00:00, 124.08it/s, now=None]"
     ]
    },
    {
     "name": "stdout",
     "output_type": "stream",
     "text": [
      "MoviePy - Building file videos_for_poster/erupting_gifs/eruption_test_12_reduced.gif with imageio.\n"
     ]
    },
    {
     "name": "stderr",
     "output_type": "stream",
     "text": [
      "t:  37%|███▋      | 11/30 [00:00<00:00, 101.44it/s, now=None]"
     ]
    },
    {
     "name": "stdout",
     "output_type": "stream",
     "text": [
      "MoviePy - Building file videos_for_poster/erupting_gifs/eruption_test_75_GAN.gif with imageio.\n"
     ]
    },
    {
     "name": "stderr",
     "output_type": "stream",
     "text": [
      "t:  33%|███▎      | 10/30 [00:00<00:00, 99.25it/s, now=None] "
     ]
    },
    {
     "name": "stdout",
     "output_type": "stream",
     "text": [
      "MoviePy - Building file videos_for_poster/erupting_gifs/eruption_test_56_interpolated.gif with imageio.\n"
     ]
    },
    {
     "name": "stderr",
     "output_type": "stream",
     "text": [
      "t:  37%|███▋      | 11/30 [00:00<00:00, 107.30it/s, now=None]"
     ]
    },
    {
     "name": "stdout",
     "output_type": "stream",
     "text": [
      "MoviePy - Building file videos_for_poster/erupting_gifs/eruption_test_44_CVAE.gif with imageio.\n"
     ]
    },
    {
     "name": "stderr",
     "output_type": "stream",
     "text": [
      "t:  37%|███▋      | 11/30 [00:00<00:00, 107.88it/s, now=None]"
     ]
    },
    {
     "name": "stdout",
     "output_type": "stream",
     "text": [
      "MoviePy - Building file videos_for_poster/erupting_gifs/eruption_test_68_interpolated.gif with imageio.\n"
     ]
    },
    {
     "name": "stderr",
     "output_type": "stream",
     "text": [
      "t:  43%|████▎     | 13/30 [00:00<00:00, 123.24it/s, now=None]"
     ]
    },
    {
     "name": "stdout",
     "output_type": "stream",
     "text": [
      "MoviePy - Building file videos_for_poster/erupting_gifs/eruption_test_45_CVAE.gif with imageio.\n"
     ]
    },
    {
     "name": "stderr",
     "output_type": "stream",
     "text": [
      "t:  17%|█▋        | 5/30 [00:00<00:00, 35.01it/s, now=None]  "
     ]
    },
    {
     "name": "stdout",
     "output_type": "stream",
     "text": [
      "MoviePy - Building file videos_for_poster/erupting_gifs/eruption_test_62_reduced.gif with imageio.\n"
     ]
    },
    {
     "name": "stderr",
     "output_type": "stream",
     "text": [
      "t:  30%|███       | 9/30 [00:00<00:00, 86.28it/s, now=None] "
     ]
    },
    {
     "name": "stdout",
     "output_type": "stream",
     "text": [
      "MoviePy - Building file videos_for_poster/erupting_gifs/eruption_test_83_reduced.gif with imageio.\n"
     ]
    },
    {
     "name": "stderr",
     "output_type": "stream",
     "text": [
      "t:  27%|██▋       | 8/30 [00:00<00:00, 79.97it/s, now=None] "
     ]
    },
    {
     "name": "stdout",
     "output_type": "stream",
     "text": [
      "MoviePy - Building file videos_for_poster/erupting_gifs/eruption_test_38_GAN.gif with imageio.\n"
     ]
    },
    {
     "name": "stderr",
     "output_type": "stream",
     "text": [
      "t:  37%|███▋      | 11/30 [00:00<00:00, 101.36it/s, now=None]"
     ]
    },
    {
     "name": "stdout",
     "output_type": "stream",
     "text": [
      "MoviePy - Building file videos_for_poster/erupting_gifs/eruption_test_28_GAN.gif with imageio.\n"
     ]
    },
    {
     "name": "stderr",
     "output_type": "stream",
     "text": [
      "t:  30%|███       | 9/30 [00:00<00:00, 88.71it/s, now=None]  "
     ]
    },
    {
     "name": "stdout",
     "output_type": "stream",
     "text": [
      "MoviePy - Building file videos_for_poster/erupting_gifs/eruption_test_33_CVAE.gif with imageio.\n"
     ]
    },
    {
     "name": "stderr",
     "output_type": "stream",
     "text": [
      "t:  37%|███▋      | 11/30 [00:00<00:00, 109.46it/s, now=None]"
     ]
    },
    {
     "name": "stdout",
     "output_type": "stream",
     "text": [
      "MoviePy - Building file videos_for_poster/erupting_gifs/eruption_test_32_CVAE.gif with imageio.\n"
     ]
    },
    {
     "name": "stderr",
     "output_type": "stream",
     "text": [
      "t:  47%|████▋     | 14/30 [00:00<00:00, 133.64it/s, now=None]"
     ]
    },
    {
     "name": "stdout",
     "output_type": "stream",
     "text": [
      "MoviePy - Building file videos_for_poster/erupting_gifs/eruption_test_49_interpolated.gif with imageio.\n"
     ]
    },
    {
     "name": "stderr",
     "output_type": "stream",
     "text": [
      "t:  47%|████▋     | 14/30 [00:00<00:00, 138.53it/s, now=None]"
     ]
    },
    {
     "name": "stdout",
     "output_type": "stream",
     "text": [
      "MoviePy - Building file videos_for_poster/erupting_gifs/eruption_test_77_interpolated.gif with imageio.\n"
     ]
    },
    {
     "name": "stderr",
     "output_type": "stream",
     "text": [
      "t:  50%|█████     | 15/30 [00:00<00:00, 146.17it/s, now=None]"
     ]
    },
    {
     "name": "stdout",
     "output_type": "stream",
     "text": [
      "MoviePy - Building file videos_for_poster/erupting_gifs/eruption_test_91_interpolated.gif with imageio.\n"
     ]
    },
    {
     "name": "stderr",
     "output_type": "stream",
     "text": [
      "t:  50%|█████     | 15/30 [00:00<00:00, 145.51it/s, now=None]"
     ]
    },
    {
     "name": "stdout",
     "output_type": "stream",
     "text": [
      "MoviePy - Building file videos_for_poster/erupting_gifs/eruption_test_81_GAN.gif with imageio.\n"
     ]
    },
    {
     "name": "stderr",
     "output_type": "stream",
     "text": [
      "t:  43%|████▎     | 13/30 [00:00<00:00, 127.49it/s, now=None]"
     ]
    },
    {
     "name": "stdout",
     "output_type": "stream",
     "text": [
      "MoviePy - Building file videos_for_poster/erupting_gifs/eruption_test_91_GAN.gif with imageio.\n"
     ]
    },
    {
     "name": "stderr",
     "output_type": "stream",
     "text": [
      "t:  43%|████▎     | 13/30 [00:00<00:00, 129.75it/s, now=None]"
     ]
    },
    {
     "name": "stdout",
     "output_type": "stream",
     "text": [
      "MoviePy - Building file videos_for_poster/erupting_gifs/eruption_test_12_interpolated.gif with imageio.\n"
     ]
    },
    {
     "name": "stderr",
     "output_type": "stream",
     "text": [
      "t:  77%|███████▋  | 23/30 [00:00<00:00, 116.40it/s, now=None]"
     ]
    },
    {
     "name": "stdout",
     "output_type": "stream",
     "text": [
      "MoviePy - Building file videos_for_poster/erupting_gifs/eruption_test_50_reduced.gif with imageio.\n"
     ]
    },
    {
     "name": "stderr",
     "output_type": "stream",
     "text": [
      "t:  47%|████▋     | 14/30 [00:00<00:00, 136.02it/s, now=None]"
     ]
    },
    {
     "name": "stdout",
     "output_type": "stream",
     "text": [
      "MoviePy - Building file videos_for_poster/erupting_gifs/eruption_test_20_reduced.gif with imageio.\n"
     ]
    },
    {
     "name": "stderr",
     "output_type": "stream",
     "text": [
      "t:  50%|█████     | 15/30 [00:00<00:00, 149.52it/s, now=None]"
     ]
    },
    {
     "name": "stdout",
     "output_type": "stream",
     "text": [
      "MoviePy - Building file videos_for_poster/erupting_gifs/eruption_test_20_interpolated.gif with imageio.\n"
     ]
    },
    {
     "name": "stderr",
     "output_type": "stream",
     "text": [
      "t:  47%|████▋     | 14/30 [00:00<00:00, 133.64it/s, now=None]"
     ]
    },
    {
     "name": "stdout",
     "output_type": "stream",
     "text": [
      "MoviePy - Building file videos_for_poster/erupting_gifs/eruption_test_57_CVAE.gif with imageio.\n"
     ]
    },
    {
     "name": "stderr",
     "output_type": "stream",
     "text": [
      "t:  50%|█████     | 15/30 [00:00<00:00, 146.01it/s, now=None]"
     ]
    },
    {
     "name": "stdout",
     "output_type": "stream",
     "text": [
      "MoviePy - Building file videos_for_poster/erupting_gifs/eruption_test_56_CVAE.gif with imageio.\n"
     ]
    },
    {
     "name": "stderr",
     "output_type": "stream",
     "text": [
      "t:  33%|███▎      | 10/30 [00:00<00:00, 94.40it/s, now=None] "
     ]
    },
    {
     "name": "stdout",
     "output_type": "stream",
     "text": [
      "MoviePy - Building file videos_for_poster/erupting_gifs/eruption_test_94_GAN.gif with imageio.\n"
     ]
    },
    {
     "name": "stderr",
     "output_type": "stream",
     "text": [
      "t:  40%|████      | 12/30 [00:00<00:00, 116.17it/s, now=None]"
     ]
    },
    {
     "name": "stdout",
     "output_type": "stream",
     "text": [
      "MoviePy - Building file videos_for_poster/erupting_gifs/eruption_test_84_GAN.gif with imageio.\n"
     ]
    },
    {
     "name": "stderr",
     "output_type": "stream",
     "text": [
      "t:  53%|█████▎    | 16/30 [00:00<00:00, 151.69it/s, now=None]"
     ]
    },
    {
     "name": "stdout",
     "output_type": "stream",
     "text": [
      "MoviePy - Building file videos_for_poster/erupting_gifs/eruption_test_15_reduced.gif with imageio.\n"
     ]
    },
    {
     "name": "stderr",
     "output_type": "stream",
     "text": [
      "t:  47%|████▋     | 14/30 [00:00<00:00, 138.38it/s, now=None]"
     ]
    },
    {
     "name": "stdout",
     "output_type": "stream",
     "text": [
      "MoviePy - Building file videos_for_poster/erupting_gifs/eruption_test_45_interpolated.gif with imageio.\n"
     ]
    },
    {
     "name": "stderr",
     "output_type": "stream",
     "text": [
      "t:  43%|████▎     | 13/30 [00:00<00:00, 128.17it/s, now=None]"
     ]
    },
    {
     "name": "stdout",
     "output_type": "stream",
     "text": [
      "MoviePy - Building file videos_for_poster/erupting_gifs/eruption_test_98_reduced.gif with imageio.\n"
     ]
    },
    {
     "name": "stderr",
     "output_type": "stream",
     "text": [
      "t:  47%|████▋     | 14/30 [00:00<00:00, 135.94it/s, now=None]"
     ]
    },
    {
     "name": "stdout",
     "output_type": "stream",
     "text": [
      "MoviePy - Building file videos_for_poster/erupting_gifs/eruption_test_65_reduced.gif with imageio.\n"
     ]
    },
    {
     "name": "stderr",
     "output_type": "stream",
     "text": [
      "t:  43%|████▎     | 13/30 [00:00<00:00, 129.62it/s, now=None]"
     ]
    },
    {
     "name": "stdout",
     "output_type": "stream",
     "text": [
      "MoviePy - Building file videos_for_poster/erupting_gifs/eruption_test_79_reduced.gif with imageio.\n"
     ]
    },
    {
     "name": "stderr",
     "output_type": "stream",
     "text": [
      "t:  43%|████▎     | 13/30 [00:00<00:00, 128.55it/s, now=None]"
     ]
    },
    {
     "name": "stdout",
     "output_type": "stream",
     "text": [
      "MoviePy - Building file videos_for_poster/erupting_gifs/eruption_test_69_CVAE.gif with imageio.\n"
     ]
    },
    {
     "name": "stderr",
     "output_type": "stream",
     "text": [
      "t:  50%|█████     | 15/30 [00:00<00:00, 142.34it/s, now=None]"
     ]
    },
    {
     "name": "stdout",
     "output_type": "stream",
     "text": [
      "MoviePy - Building file videos_for_poster/erupting_gifs/eruption_test_82_interpolated.gif with imageio.\n"
     ]
    },
    {
     "name": "stderr",
     "output_type": "stream",
     "text": [
      "                                                             "
     ]
    },
    {
     "name": "stdout",
     "output_type": "stream",
     "text": [
      "MoviePy - Building file videos_for_poster/erupting_gifs/eruption_test_84_reduced.gif with imageio.\n"
     ]
    },
    {
     "name": "stderr",
     "output_type": "stream",
     "text": [
      "t:  43%|████▎     | 13/30 [00:00<00:00, 129.96it/s, now=None]"
     ]
    },
    {
     "name": "stdout",
     "output_type": "stream",
     "text": [
      "MoviePy - Building file videos_for_poster/erupting_gifs/eruption_test_68_CVAE.gif with imageio.\n"
     ]
    },
    {
     "name": "stderr",
     "output_type": "stream",
     "text": [
      "t:  40%|████      | 12/30 [00:00<00:00, 116.51it/s, now=None]"
     ]
    },
    {
     "name": "stdout",
     "output_type": "stream",
     "text": [
      "MoviePy - Building file videos_for_poster/erupting_gifs/eruption_test_64_interpolated.gif with imageio.\n"
     ]
    },
    {
     "name": "stderr",
     "output_type": "stream",
     "text": [
      "t:  53%|█████▎    | 16/30 [00:00<00:00, 154.72it/s, now=None]"
     ]
    },
    {
     "name": "stdout",
     "output_type": "stream",
     "text": [
      "MoviePy - Building file videos_for_poster/erupting_gifs/eruption_test_09_reduced.gif with imageio.\n"
     ]
    },
    {
     "name": "stderr",
     "output_type": "stream",
     "text": [
      "t:  47%|████▋     | 14/30 [00:00<00:00, 135.00it/s, now=None]"
     ]
    },
    {
     "name": "stdout",
     "output_type": "stream",
     "text": [
      "MoviePy - Building file videos_for_poster/erupting_gifs/eruption_test_12_GAN.gif with imageio.\n"
     ]
    },
    {
     "name": "stderr",
     "output_type": "stream",
     "text": [
      "                                                             "
     ]
    },
    {
     "name": "stdout",
     "output_type": "stream",
     "text": [
      "MoviePy - Building file videos_for_poster/erupting_gifs/eruption_test_02_GAN.gif with imageio.\n"
     ]
    },
    {
     "name": "stderr",
     "output_type": "stream",
     "text": [
      "t:  37%|███▋      | 11/30 [00:00<00:00, 108.57it/s, now=None]"
     ]
    },
    {
     "name": "stdout",
     "output_type": "stream",
     "text": [
      "MoviePy - Building file videos_for_poster/erupting_gifs/eruption_test_20_CVAE.gif with imageio.\n"
     ]
    },
    {
     "name": "stderr",
     "output_type": "stream",
     "text": [
      "t:  47%|████▋     | 14/30 [00:00<00:00, 130.52it/s, now=None]"
     ]
    },
    {
     "name": "stdout",
     "output_type": "stream",
     "text": [
      "MoviePy - Building file videos_for_poster/erupting_gifs/eruption_test_21_CVAE.gif with imageio.\n"
     ]
    },
    {
     "name": "stderr",
     "output_type": "stream",
     "text": [
      "t:  30%|███       | 9/30 [00:00<00:00, 85.77it/s, now=None]  "
     ]
    },
    {
     "name": "stdout",
     "output_type": "stream",
     "text": [
      "MoviePy - Building file videos_for_poster/erupting_gifs/eruption_test_57_reduced.gif with imageio.\n"
     ]
    },
    {
     "name": "stderr",
     "output_type": "stream",
     "text": [
      "t:  47%|████▋     | 14/30 [00:00<00:00, 135.58it/s, now=None]"
     ]
    },
    {
     "name": "stdout",
     "output_type": "stream",
     "text": [
      "MoviePy - Building file videos_for_poster/erupting_gifs/eruption_test_70_GAN.gif with imageio.\n"
     ]
    },
    {
     "name": "stderr",
     "output_type": "stream",
     "text": [
      "t:  37%|███▋      | 11/30 [00:00<00:00, 109.09it/s, now=None]"
     ]
    },
    {
     "name": "stdout",
     "output_type": "stream",
     "text": [
      "MoviePy - Building file videos_for_poster/erupting_gifs/eruption_test_60_GAN.gif with imageio.\n"
     ]
    },
    {
     "name": "stderr",
     "output_type": "stream",
     "text": [
      "t:  37%|███▋      | 11/30 [00:00<00:00, 104.69it/s, now=None]"
     ]
    },
    {
     "name": "stdout",
     "output_type": "stream",
     "text": [
      "MoviePy - Building file videos_for_poster/erupting_gifs/eruption_test_27_reduced.gif with imageio.\n"
     ]
    },
    {
     "name": "stderr",
     "output_type": "stream",
     "text": [
      "t:  30%|███       | 9/30 [00:00<00:00, 86.53it/s, now=None]  "
     ]
    },
    {
     "name": "stdout",
     "output_type": "stream",
     "text": [
      "MoviePy - Building file videos_for_poster/erupting_gifs/eruption_test_01_interpolated.gif with imageio.\n"
     ]
    },
    {
     "name": "stderr",
     "output_type": "stream",
     "text": [
      "t:  43%|████▎     | 13/30 [00:00<00:00, 125.51it/s, now=None]"
     ]
    },
    {
     "name": "stdout",
     "output_type": "stream",
     "text": [
      "MoviePy - Building file videos_for_poster/erupting_gifs/eruption_test_86_CVAE.gif with imageio.\n"
     ]
    },
    {
     "name": "stderr",
     "output_type": "stream",
     "text": [
      "t:  47%|████▋     | 14/30 [00:00<00:00, 137.96it/s, now=None]"
     ]
    },
    {
     "name": "stdout",
     "output_type": "stream",
     "text": [
      "MoviePy - Building file videos_for_poster/erupting_gifs/eruption_test_42_reduced.gif with imageio.\n"
     ]
    },
    {
     "name": "stderr",
     "output_type": "stream",
     "text": [
      "t:  43%|████▎     | 13/30 [00:00<00:00, 120.57it/s, now=None]"
     ]
    },
    {
     "name": "stdout",
     "output_type": "stream",
     "text": [
      "MoviePy - Building file videos_for_poster/erupting_gifs/eruption_test_87_CVAE.gif with imageio.\n"
     ]
    },
    {
     "name": "stderr",
     "output_type": "stream",
     "text": [
      "t:  40%|████      | 12/30 [00:00<00:00, 114.69it/s, now=None]"
     ]
    },
    {
     "name": "stdout",
     "output_type": "stream",
     "text": [
      "MoviePy - Building file videos_for_poster/erupting_gifs/eruption_test_14_CVAE.gif with imageio.\n"
     ]
    },
    {
     "name": "stderr",
     "output_type": "stream",
     "text": [
      "t:  40%|████      | 12/30 [00:00<00:00, 114.87it/s, now=None]"
     ]
    },
    {
     "name": "stdout",
     "output_type": "stream",
     "text": [
      "MoviePy - Building file videos_for_poster/erupting_gifs/eruption_test_56_GAN.gif with imageio.\n"
     ]
    },
    {
     "name": "stderr",
     "output_type": "stream",
     "text": [
      "t:  47%|████▋     | 14/30 [00:00<00:00, 132.84it/s, now=None]"
     ]
    },
    {
     "name": "stdout",
     "output_type": "stream",
     "text": [
      "MoviePy - Building file videos_for_poster/erupting_gifs/eruption_test_15_CVAE.gif with imageio.\n"
     ]
    },
    {
     "name": "stderr",
     "output_type": "stream",
     "text": [
      "t:  43%|████▎     | 13/30 [00:00<00:00, 129.90it/s, now=None]"
     ]
    },
    {
     "name": "stdout",
     "output_type": "stream",
     "text": [
      "MoviePy - Building file videos_for_poster/erupting_gifs/eruption_test_70_interpolated.gif with imageio.\n"
     ]
    },
    {
     "name": "stderr",
     "output_type": "stream",
     "text": [
      "t:  37%|███▋      | 11/30 [00:00<00:00, 106.90it/s, now=None]"
     ]
    },
    {
     "name": "stdout",
     "output_type": "stream",
     "text": [
      "MoviePy - Building file videos_for_poster/erupting_gifs/eruption_test_46_GAN.gif with imageio.\n"
     ]
    },
    {
     "name": "stderr",
     "output_type": "stream",
     "text": [
      "t:  43%|████▎     | 13/30 [00:00<00:00, 119.04it/s, now=None]"
     ]
    },
    {
     "name": "stdout",
     "output_type": "stream",
     "text": [
      "MoviePy - Building file videos_for_poster/erupting_gifs/eruption_test_96_interpolated.gif with imageio.\n"
     ]
    },
    {
     "name": "stderr",
     "output_type": "stream",
     "text": [
      "t:  43%|████▎     | 13/30 [00:00<00:00, 126.17it/s, now=None]"
     ]
    },
    {
     "name": "stdout",
     "output_type": "stream",
     "text": [
      "MoviePy - Building file videos_for_poster/erupting_gifs/eruption_test_32_reduced.gif with imageio.\n"
     ]
    },
    {
     "name": "stderr",
     "output_type": "stream",
     "text": [
      "t:  47%|████▋     | 14/30 [00:00<00:00, 139.88it/s, now=None]"
     ]
    },
    {
     "name": "stdout",
     "output_type": "stream",
     "text": [
      "MoviePy - Building file videos_for_poster/erupting_gifs/eruption_test_15_interpolated.gif with imageio.\n"
     ]
    },
    {
     "name": "stderr",
     "output_type": "stream",
     "text": [
      "t:  50%|█████     | 15/30 [00:00<00:00, 145.62it/s, now=None]"
     ]
    },
    {
     "name": "stdout",
     "output_type": "stream",
     "text": [
      "MoviePy - Building file videos_for_poster/erupting_gifs/eruption_test_91_reduced.gif with imageio.\n"
     ]
    },
    {
     "name": "stderr",
     "output_type": "stream",
     "text": [
      "t:  30%|███       | 9/30 [00:00<00:00, 81.27it/s, now=None]  "
     ]
    },
    {
     "name": "stdout",
     "output_type": "stream",
     "text": [
      "MoviePy - Building file videos_for_poster/erupting_gifs/eruption_test_34_GAN.gif with imageio.\n"
     ]
    },
    {
     "name": "stderr",
     "output_type": "stream",
     "text": [
      "t:  40%|████      | 12/30 [00:00<00:00, 113.51it/s, now=None]"
     ]
    },
    {
     "name": "stdout",
     "output_type": "stream",
     "text": [
      "MoviePy - Building file videos_for_poster/erupting_gifs/eruption_test_24_GAN.gif with imageio.\n"
     ]
    },
    {
     "name": "stderr",
     "output_type": "stream",
     "text": [
      "t:  40%|████      | 12/30 [00:00<00:00, 118.68it/s, now=None]"
     ]
    },
    {
     "name": "stdout",
     "output_type": "stream",
     "text": [
      "MoviePy - Building file videos_for_poster/erupting_gifs/eruption_test_69_GAN.gif with imageio.\n"
     ]
    },
    {
     "name": "stderr",
     "output_type": "stream",
     "text": [
      "t:  47%|████▋     | 14/30 [00:00<00:00, 136.95it/s, now=None]"
     ]
    },
    {
     "name": "stdout",
     "output_type": "stream",
     "text": [
      "MoviePy - Building file videos_for_poster/erupting_gifs/eruption_test_00_reduced.gif with imageio.\n"
     ]
    },
    {
     "name": "stderr",
     "output_type": "stream",
     "text": [
      "t:  37%|███▋      | 11/30 [00:00<00:00, 102.19it/s, now=None]"
     ]
    },
    {
     "name": "stdout",
     "output_type": "stream",
     "text": [
      "MoviePy - Building file videos_for_poster/erupting_gifs/eruption_test_79_GAN.gif with imageio.\n"
     ]
    },
    {
     "name": "stderr",
     "output_type": "stream",
     "text": [
      "t:  37%|███▋      | 11/30 [00:00<00:00, 103.84it/s, now=None]"
     ]
    },
    {
     "name": "stdout",
     "output_type": "stream",
     "text": [
      "MoviePy - Building file videos_for_poster/erupting_gifs/eruption_test_34_interpolated.gif with imageio.\n"
     ]
    },
    {
     "name": "stderr",
     "output_type": "stream",
     "text": [
      "t:  50%|█████     | 15/30 [00:00<00:00, 141.46it/s, now=None]"
     ]
    },
    {
     "name": "stdout",
     "output_type": "stream",
     "text": [
      "MoviePy - Building file videos_for_poster/erupting_gifs/eruption_test_70_reduced.gif with imageio.\n"
     ]
    },
    {
     "name": "stderr",
     "output_type": "stream",
     "text": [
      "t:  50%|█████     | 15/30 [00:00<00:00, 141.53it/s, now=None]"
     ]
    },
    {
     "name": "stdout",
     "output_type": "stream",
     "text": [
      "MoviePy - Building file videos_for_poster/erupting_gifs/eruption_test_51_interpolated.gif with imageio.\n"
     ]
    },
    {
     "name": "stderr",
     "output_type": "stream",
     "text": [
      "t:  47%|████▋     | 14/30 [00:00<00:00, 137.12it/s, now=None]"
     ]
    },
    {
     "name": "stdout",
     "output_type": "stream",
     "text": [
      "MoviePy - Building file videos_for_poster/erupting_gifs/eruption_test_89_interpolated.gif with imageio.\n"
     ]
    },
    {
     "name": "stderr",
     "output_type": "stream",
     "text": [
      "t:  33%|███▎      | 10/30 [00:00<00:00, 95.68it/s, now=None] "
     ]
    },
    {
     "name": "stdout",
     "output_type": "stream",
     "text": [
      "MoviePy - Building file videos_for_poster/erupting_gifs/eruption_test_63_CVAE.gif with imageio.\n"
     ]
    },
    {
     "name": "stderr",
     "output_type": "stream",
     "text": [
      "t:  47%|████▋     | 14/30 [00:00<00:00, 132.03it/s, now=None]"
     ]
    },
    {
     "name": "stdout",
     "output_type": "stream",
     "text": [
      "MoviePy - Building file videos_for_poster/erupting_gifs/eruption_test_62_CVAE.gif with imageio.\n"
     ]
    },
    {
     "name": "stderr",
     "output_type": "stream",
     "text": [
      "t:  47%|████▋     | 14/30 [00:00<00:00, 136.42it/s, now=None]"
     ]
    },
    {
     "name": "stdout",
     "output_type": "stream",
     "text": [
      "MoviePy - Building file videos_for_poster/erupting_gifs/eruption_test_30_interpolated.gif with imageio.\n"
     ]
    },
    {
     "name": "stderr",
     "output_type": "stream",
     "text": [
      "t:  43%|████▎     | 13/30 [00:00<00:00, 121.48it/s, now=None]"
     ]
    },
    {
     "name": "stdout",
     "output_type": "stream",
     "text": [
      "MoviePy - Building file videos_for_poster/erupting_gifs/eruption_test_47_GAN.gif with imageio.\n"
     ]
    },
    {
     "name": "stderr",
     "output_type": "stream",
     "text": [
      "t:  40%|████      | 12/30 [00:00<00:00, 113.29it/s, now=None]"
     ]
    },
    {
     "name": "stdout",
     "output_type": "stream",
     "text": [
      "MoviePy - Building file videos_for_poster/erupting_gifs/eruption_test_57_GAN.gif with imageio.\n"
     ]
    },
    {
     "name": "stderr",
     "output_type": "stream",
     "text": [
      "t:  50%|█████     | 15/30 [00:00<00:00, 146.52it/s, now=None]"
     ]
    },
    {
     "name": "stdout",
     "output_type": "stream",
     "text": [
      "MoviePy - Building file videos_for_poster/erupting_gifs/eruption_test_19_reduced.gif with imageio.\n"
     ]
    },
    {
     "name": "stderr",
     "output_type": "stream",
     "text": [
      "t:  43%|████▎     | 13/30 [00:00<00:00, 121.28it/s, now=None]"
     ]
    },
    {
     "name": "stdout",
     "output_type": "stream",
     "text": [
      "MoviePy - Building file videos_for_poster/erupting_gifs/eruption_test_94_reduced.gif with imageio.\n"
     ]
    },
    {
     "name": "stderr",
     "output_type": "stream",
     "text": [
      "                                                             "
     ]
    },
    {
     "name": "stdout",
     "output_type": "stream",
     "text": [
      "MoviePy - Building file videos_for_poster/erupting_gifs/eruption_test_09_CVAE.gif with imageio.\n"
     ]
    },
    {
     "name": "stderr",
     "output_type": "stream",
     "text": [
      "t:  50%|█████     | 15/30 [00:00<00:00, 144.12it/s, now=None]"
     ]
    },
    {
     "name": "stdout",
     "output_type": "stream",
     "text": [
      "MoviePy - Building file videos_for_poster/erupting_gifs/eruption_test_08_CVAE.gif with imageio.\n"
     ]
    },
    {
     "name": "stderr",
     "output_type": "stream",
     "text": [
      "t:  47%|████▋     | 14/30 [00:00<00:00, 129.52it/s, now=None]"
     ]
    },
    {
     "name": "stdout",
     "output_type": "stream",
     "text": [
      "MoviePy - Building file videos_for_poster/erupting_gifs/eruption_test_69_reduced.gif with imageio.\n"
     ]
    },
    {
     "name": "stderr",
     "output_type": "stream",
     "text": [
      "t:  37%|███▋      | 11/30 [00:00<00:00, 107.62it/s, now=None]"
     ]
    },
    {
     "name": "stdout",
     "output_type": "stream",
     "text": [
      "MoviePy - Building file videos_for_poster/erupting_gifs/eruption_test_37_reduced.gif with imageio.\n"
     ]
    },
    {
     "name": "stderr",
     "output_type": "stream",
     "text": [
      "t:  40%|████      | 12/30 [00:00<00:00, 114.43it/s, now=None]"
     ]
    },
    {
     "name": "stdout",
     "output_type": "stream",
     "text": [
      "MoviePy - Building file videos_for_poster/erupting_gifs/eruption_test_40_CVAE.gif with imageio.\n"
     ]
    },
    {
     "name": "stderr",
     "output_type": "stream",
     "text": [
      "t:  40%|████      | 12/30 [00:00<00:00, 117.32it/s, now=None]"
     ]
    },
    {
     "name": "stdout",
     "output_type": "stream",
     "text": [
      "MoviePy - Building file videos_for_poster/erupting_gifs/eruption_test_55_interpolated.gif with imageio.\n"
     ]
    },
    {
     "name": "stderr",
     "output_type": "stream",
     "text": [
      "t:  47%|████▋     | 14/30 [00:00<00:00, 134.80it/s, now=None]"
     ]
    },
    {
     "name": "stdout",
     "output_type": "stream",
     "text": [
      "MoviePy - Building file videos_for_poster/erupting_gifs/eruption_test_47_reduced.gif with imageio.\n"
     ]
    },
    {
     "name": "stderr",
     "output_type": "stream",
     "text": [
      "t:  33%|███▎      | 10/30 [00:00<00:00, 94.90it/s, now=None] "
     ]
    },
    {
     "name": "stdout",
     "output_type": "stream",
     "text": [
      "MoviePy - Building file videos_for_poster/erupting_gifs/eruption_test_41_CVAE.gif with imageio.\n"
     ]
    },
    {
     "name": "stderr",
     "output_type": "stream",
     "text": [
      "t:  40%|████      | 12/30 [00:00<00:00, 112.08it/s, now=None]"
     ]
    },
    {
     "name": "stdout",
     "output_type": "stream",
     "text": [
      "MoviePy - Building file videos_for_poster/erupting_gifs/eruption_test_25_GAN.gif with imageio.\n"
     ]
    },
    {
     "name": "stderr",
     "output_type": "stream",
     "text": [
      "t:  33%|███▎      | 10/30 [00:00<00:00, 98.85it/s, now=None] "
     ]
    },
    {
     "name": "stdout",
     "output_type": "stream",
     "text": [
      "MoviePy - Building file videos_for_poster/erupting_gifs/eruption_test_35_GAN.gif with imageio.\n"
     ]
    },
    {
     "name": "stderr",
     "output_type": "stream",
     "text": [
      "t:  47%|████▋     | 14/30 [00:00<00:00, 135.79it/s, now=None]"
     ]
    },
    {
     "name": "stdout",
     "output_type": "stream",
     "text": [
      "MoviePy - Building file videos_for_poster/erupting_gifs/eruption_test_74_interpolated.gif with imageio.\n"
     ]
    },
    {
     "name": "stderr",
     "output_type": "stream",
     "text": [
      "t:  40%|████      | 12/30 [00:00<00:00, 119.38it/s, now=None]"
     ]
    },
    {
     "name": "stdout",
     "output_type": "stream",
     "text": [
      "MoviePy - Building file videos_for_poster/erupting_gifs/eruption_test_92_interpolated.gif with imageio.\n"
     ]
    },
    {
     "name": "stderr",
     "output_type": "stream",
     "text": [
      "t:  37%|███▋      | 11/30 [00:00<00:00, 102.54it/s, now=None]"
     ]
    },
    {
     "name": "stdout",
     "output_type": "stream",
     "text": [
      "MoviePy - Building file videos_for_poster/erupting_gifs/eruption_test_37_CVAE.gif with imageio.\n"
     ]
    },
    {
     "name": "stderr",
     "output_type": "stream",
     "text": [
      "t:  37%|███▋      | 11/30 [00:00<00:00, 102.14it/s, now=None]"
     ]
    },
    {
     "name": "stdout",
     "output_type": "stream",
     "text": [
      "MoviePy - Building file videos_for_poster/erupting_gifs/eruption_test_36_CVAE.gif with imageio.\n"
     ]
    },
    {
     "name": "stderr",
     "output_type": "stream",
     "text": [
      "t:  27%|██▋       | 8/30 [00:00<00:00, 71.61it/s, now=None]  "
     ]
    },
    {
     "name": "stdout",
     "output_type": "stream",
     "text": [
      "MoviePy - Building file videos_for_poster/erupting_gifs/eruption_test_78_GAN.gif with imageio.\n"
     ]
    },
    {
     "name": "stderr",
     "output_type": "stream",
     "text": [
      "t:  40%|████      | 12/30 [00:00<00:00, 112.05it/s, now=None]"
     ]
    },
    {
     "name": "stdout",
     "output_type": "stream",
     "text": [
      "MoviePy - Building file videos_for_poster/erupting_gifs/eruption_test_68_GAN.gif with imageio.\n"
     ]
    },
    {
     "name": "stderr",
     "output_type": "stream",
     "text": [
      "t:  33%|███▎      | 10/30 [00:00<00:00, 96.52it/s, now=None] "
     ]
    },
    {
     "name": "stdout",
     "output_type": "stream",
     "text": [
      "MoviePy - Building file videos_for_poster/erupting_gifs/eruption_test_75_reduced.gif with imageio.\n"
     ]
    },
    {
     "name": "stderr",
     "output_type": "stream",
     "text": [
      "t:  40%|████      | 12/30 [00:00<00:00, 113.64it/s, now=None]"
     ]
    },
    {
     "name": "stdout",
     "output_type": "stream",
     "text": [
      "MoviePy - Building file videos_for_poster/erupting_gifs/eruption_test_88_reduced.gif with imageio.\n"
     ]
    },
    {
     "name": "stderr",
     "output_type": "stream",
     "text": [
      "t:  50%|█████     | 15/30 [00:00<00:00, 143.69it/s, now=None]"
     ]
    },
    {
     "name": "stdout",
     "output_type": "stream",
     "text": [
      "MoviePy - Building file videos_for_poster/erupting_gifs/eruption_test_05_reduced.gif with imageio.\n"
     ]
    },
    {
     "name": "stderr",
     "output_type": "stream",
     "text": [
      "t:  50%|█████     | 15/30 [00:00<00:00, 146.21it/s, now=None]"
     ]
    },
    {
     "name": "stdout",
     "output_type": "stream",
     "text": [
      "MoviePy - Building file videos_for_poster/erupting_gifs/eruption_test_11_interpolated.gif with imageio.\n"
     ]
    },
    {
     "name": "stderr",
     "output_type": "stream",
     "text": [
      "t:  33%|███▎      | 10/30 [00:00<00:00, 87.75it/s, now=None] "
     ]
    },
    {
     "name": "stdout",
     "output_type": "stream",
     "text": [
      "MoviePy - Building file videos_for_poster/erupting_gifs/eruption_test_85_GAN.gif with imageio.\n"
     ]
    },
    {
     "name": "stderr",
     "output_type": "stream",
     "text": [
      "t:  23%|██▎       | 7/30 [00:00<00:00, 67.29it/s, now=None] "
     ]
    },
    {
     "name": "stdout",
     "output_type": "stream",
     "text": [
      "MoviePy - Building file videos_for_poster/erupting_gifs/eruption_test_60_reduced.gif with imageio.\n"
     ]
    },
    {
     "name": "stderr",
     "output_type": "stream",
     "text": [
      "t:  33%|███▎      | 10/30 [00:00<00:00, 94.37it/s, now=None]"
     ]
    },
    {
     "name": "stdout",
     "output_type": "stream",
     "text": [
      "MoviePy - Building file videos_for_poster/erupting_gifs/eruption_test_95_GAN.gif with imageio.\n"
     ]
    },
    {
     "name": "stderr",
     "output_type": "stream",
     "text": [
      "t:  37%|███▋      | 11/30 [00:00<00:00, 103.79it/s, now=None]"
     ]
    },
    {
     "name": "stdout",
     "output_type": "stream",
     "text": [
      "MoviePy - Building file videos_for_poster/erupting_gifs/eruption_test_10_reduced.gif with imageio.\n"
     ]
    },
    {
     "name": "stderr",
     "output_type": "stream",
     "text": [
      "t:  50%|█████     | 15/30 [00:00<00:00, 148.51it/s, now=None]"
     ]
    },
    {
     "name": "stdout",
     "output_type": "stream",
     "text": [
      "MoviePy - Building file videos_for_poster/erupting_gifs/eruption_test_86_interpolated.gif with imageio.\n"
     ]
    },
    {
     "name": "stderr",
     "output_type": "stream",
     "text": [
      "t:  23%|██▎       | 7/30 [00:00<00:00, 63.43it/s, now=None]  "
     ]
    },
    {
     "name": "stdout",
     "output_type": "stream",
     "text": [
      "MoviePy - Building file videos_for_poster/erupting_gifs/eruption_test_60_interpolated.gif with imageio.\n"
     ]
    },
    {
     "name": "stderr",
     "output_type": "stream",
     "text": [
      "                                                             "
     ]
    },
    {
     "name": "stdout",
     "output_type": "stream",
     "text": [
      "MoviePy - Building file videos_for_poster/erupting_gifs/eruption_test_05_interpolated.gif with imageio.\n"
     ]
    },
    {
     "name": "stderr",
     "output_type": "stream",
     "text": [
      "t:  40%|████      | 12/30 [00:00<00:00, 118.68it/s, now=None]"
     ]
    },
    {
     "name": "stdout",
     "output_type": "stream",
     "text": [
      "MoviePy - Building file videos_for_poster/erupting_gifs/eruption_test_03_CVAE.gif with imageio.\n"
     ]
    },
    {
     "name": "stderr",
     "output_type": "stream",
     "text": [
      "                                                             "
     ]
    },
    {
     "name": "stdout",
     "output_type": "stream",
     "text": [
      "MoviePy - Building file videos_for_poster/erupting_gifs/eruption_test_02_CVAE.gif with imageio.\n",
      "MoviePy - Building file videos_for_poster/erupting_gifs/eruption_test_91_CVAE.gif with imageio."
     ]
    },
    {
     "name": "stderr",
     "output_type": "stream",
     "text": [
      "t:  40%|████      | 12/30 [00:00<00:00, 114.19it/s, now=None]"
     ]
    },
    {
     "name": "stdout",
     "output_type": "stream",
     "text": [
      "\n"
     ]
    },
    {
     "name": "stderr",
     "output_type": "stream",
     "text": [
      "t:  40%|████      | 12/30 [00:00<00:00, 119.97it/s, now=None]"
     ]
    },
    {
     "name": "stdout",
     "output_type": "stream",
     "text": [
      "MoviePy - Building file videos_for_poster/erupting_gifs/eruption_test_90_CVAE.gif with imageio.\n"
     ]
    },
    {
     "name": "stderr",
     "output_type": "stream",
     "text": [
      "t:  40%|████      | 12/30 [00:00<00:00, 115.78it/s, now=None]"
     ]
    },
    {
     "name": "stdout",
     "output_type": "stream",
     "text": [
      "MoviePy - Building file videos_for_poster/erupting_gifs/eruption_test_03_GAN.gif with imageio.\n"
     ]
    },
    {
     "name": "stderr",
     "output_type": "stream",
     "text": [
      "t:  43%|████▎     | 13/30 [00:00<00:00, 121.64it/s, now=None]"
     ]
    },
    {
     "name": "stdout",
     "output_type": "stream",
     "text": [
      "MoviePy - Building file videos_for_poster/erupting_gifs/eruption_test_22_reduced.gif with imageio.\n"
     ]
    },
    {
     "name": "stderr",
     "output_type": "stream",
     "text": [
      "t:  43%|████▎     | 13/30 [00:00<00:00, 127.37it/s, now=None]"
     ]
    },
    {
     "name": "stdout",
     "output_type": "stream",
     "text": [
      "MoviePy - Building file videos_for_poster/erupting_gifs/eruption_test_13_GAN.gif with imageio.\n"
     ]
    },
    {
     "name": "stderr",
     "output_type": "stream",
     "text": [
      "t:  37%|███▋      | 11/30 [00:00<00:00, 88.69it/s, now=None] "
     ]
    },
    {
     "name": "stdout",
     "output_type": "stream",
     "text": [
      "MoviePy - Building file videos_for_poster/erupting_gifs/eruption_test_74_CVAE.gif with imageio.\n"
     ]
    },
    {
     "name": "stderr",
     "output_type": "stream",
     "text": [
      "t:  27%|██▋       | 8/30 [00:00<00:00, 77.82it/s, now=None] "
     ]
    },
    {
     "name": "stdout",
     "output_type": "stream",
     "text": [
      "MoviePy - Building file videos_for_poster/erupting_gifs/eruption_test_75_CVAE.gif with imageio.\n"
     ]
    },
    {
     "name": "stderr",
     "output_type": "stream",
     "text": [
      "t:  37%|███▋      | 11/30 [00:00<00:00, 103.18it/s, now=None]"
     ]
    },
    {
     "name": "stdout",
     "output_type": "stream",
     "text": [
      "MoviePy - Building file videos_for_poster/erupting_gifs/eruption_test_52_reduced.gif with imageio.\n"
     ]
    },
    {
     "name": "stderr",
     "output_type": "stream",
     "text": [
      "t:  47%|████▋     | 14/30 [00:00<00:00, 135.81it/s, now=None]"
     ]
    },
    {
     "name": "stdout",
     "output_type": "stream",
     "text": [
      "MoviePy - Building file videos_for_poster/erupting_gifs/eruption_test_24_interpolated.gif with imageio.\n"
     ]
    },
    {
     "name": "stderr",
     "output_type": "stream",
     "text": [
      "t:  33%|███▎      | 10/30 [00:00<00:00, 98.20it/s, now=None] "
     ]
    },
    {
     "name": "stdout",
     "output_type": "stream",
     "text": [
      "MoviePy - Building file videos_for_poster/erupting_gifs/eruption_test_99_interpolated.gif with imageio.\n"
     ]
    },
    {
     "name": "stderr",
     "output_type": "stream",
     "text": [
      "t:  37%|███▋      | 11/30 [00:00<00:00, 109.49it/s, now=None]"
     ]
    },
    {
     "name": "stdout",
     "output_type": "stream",
     "text": [
      "MoviePy - Building file videos_for_poster/erupting_gifs/eruption_test_41_interpolated.gif with imageio.\n"
     ]
    },
    {
     "name": "stderr",
     "output_type": "stream",
     "text": [
      "t:  57%|█████▋    | 17/30 [00:00<00:00, 165.31it/s, now=None]"
     ]
    },
    {
     "name": "stdout",
     "output_type": "stream",
     "text": [
      "MoviePy - Building file videos_for_poster/erupting_gifs/eruption_test_81_reduced.gif with imageio.\n"
     ]
    },
    {
     "name": "stderr",
     "output_type": "stream",
     "text": [
      "t:  37%|███▋      | 11/30 [00:00<00:00, 100.85it/s, now=None]"
     ]
    },
    {
     "name": "stdout",
     "output_type": "stream",
     "text": [
      "MoviePy - Building file videos_for_poster/erupting_gifs/eruption_test_61_GAN.gif with imageio.\n"
     ]
    },
    {
     "name": "stderr",
     "output_type": "stream",
     "text": [
      "t:  43%|████▎     | 13/30 [00:00<00:00, 121.13it/s, now=None]"
     ]
    },
    {
     "name": "stdout",
     "output_type": "stream",
     "text": [
      "MoviePy - Building file videos_for_poster/erupting_gifs/eruption_test_71_GAN.gif with imageio.\n"
     ]
    },
    {
     "name": "stderr",
     "output_type": "stream",
     "text": [
      "t:  47%|████▋     | 14/30 [00:00<00:00, 138.82it/s, now=None]"
     ]
    },
    {
     "name": "stdout",
     "output_type": "stream",
     "text": [
      "MoviePy - Building file videos_for_poster/erupting_gifs/eruption_test_00_interpolated.gif with imageio.\n"
     ]
    },
    {
     "name": "stderr",
     "output_type": "stream",
     "text": [
      "t:  27%|██▋       | 8/30 [00:00<00:00, 74.85it/s, now=None]  "
     ]
    },
    {
     "name": "stdout",
     "output_type": "stream",
     "text": [
      "MoviePy - Building file videos_for_poster/erupting_gifs/eruption_test_37_GAN.gif with imageio.\n"
     ]
    },
    {
     "name": "stderr",
     "output_type": "stream",
     "text": [
      "t:  43%|████▎     | 13/30 [00:00<00:00, 121.68it/s, now=None]"
     ]
    },
    {
     "name": "stdout",
     "output_type": "stream",
     "text": [
      "MoviePy - Building file videos_for_poster/erupting_gifs/eruption_test_27_GAN.gif with imageio.\n"
     ]
    },
    {
     "name": "stderr",
     "output_type": "stream",
     "text": [
      "t:  57%|█████▋    | 17/30 [00:00<00:00, 161.63it/s, now=None]"
     ]
    },
    {
     "name": "stdout",
     "output_type": "stream",
     "text": [
      "MoviePy - Building file videos_for_poster/erupting_gifs/eruption_test_82_reduced.gif with imageio.\n"
     ]
    },
    {
     "name": "stderr",
     "output_type": "stream",
     "text": [
      "t:  37%|███▋      | 11/30 [00:00<00:00, 106.27it/s, now=None]"
     ]
    },
    {
     "name": "stdout",
     "output_type": "stream",
     "text": [
      "MoviePy - Building file videos_for_poster/erupting_gifs/eruption_test_47_CVAE.gif with imageio.\n"
     ]
    },
    {
     "name": "stderr",
     "output_type": "stream",
     "text": [
      "t:  47%|████▋     | 14/30 [00:00<00:00, 137.57it/s, now=None]"
     ]
    },
    {
     "name": "stdout",
     "output_type": "stream",
     "text": [
      "MoviePy - Building file videos_for_poster/erupting_gifs/eruption_test_46_CVAE.gif with imageio.\n"
     ]
    },
    {
     "name": "stderr",
     "output_type": "stream",
     "text": [
      "t:  30%|███       | 9/30 [00:00<00:00, 82.58it/s, now=None]  "
     ]
    },
    {
     "name": "stdout",
     "output_type": "stream",
     "text": [
      "MoviePy - Building file videos_for_poster/erupting_gifs/eruption_test_55_GAN.gif with imageio.\n"
     ]
    },
    {
     "name": "stderr",
     "output_type": "stream",
     "text": [
      "t:  40%|████      | 12/30 [00:00<00:00, 117.94it/s, now=None]"
     ]
    },
    {
     "name": "stdout",
     "output_type": "stream",
     "text": [
      "MoviePy - Building file videos_for_poster/erupting_gifs/eruption_test_45_GAN.gif with imageio.\n"
     ]
    },
    {
     "name": "stderr",
     "output_type": "stream",
     "text": [
      "t:  43%|████▎     | 13/30 [00:00<00:00, 123.32it/s, now=None]"
     ]
    },
    {
     "name": "stdout",
     "output_type": "stream",
     "text": [
      "MoviePy - Building file videos_for_poster/erupting_gifs/eruption_test_21_reduced.gif with imageio.\n"
     ]
    },
    {
     "name": "stderr",
     "output_type": "stream",
     "text": [
      "t:  50%|█████     | 15/30 [00:00<00:00, 144.27it/s, now=None]"
     ]
    },
    {
     "name": "stdout",
     "output_type": "stream",
     "text": [
      "MoviePy - Building file videos_for_poster/erupting_gifs/eruption_test_65_interpolated.gif with imageio.\n"
     ]
    },
    {
     "name": "stderr",
     "output_type": "stream",
     "text": [
      "t:  40%|████      | 12/30 [00:00<00:00, 110.87it/s, now=None]"
     ]
    },
    {
     "name": "stdout",
     "output_type": "stream",
     "text": [
      "MoviePy - Building file videos_for_poster/erupting_gifs/eruption_test_83_interpolated.gif with imageio.\n"
     ]
    },
    {
     "name": "stderr",
     "output_type": "stream",
     "text": [
      "t:  47%|████▋     | 14/30 [00:00<00:00, 136.86it/s, now=None]"
     ]
    },
    {
     "name": "stdout",
     "output_type": "stream",
     "text": [
      "MoviePy - Building file videos_for_poster/erupting_gifs/eruption_test_51_reduced.gif with imageio.\n"
     ]
    },
    {
     "name": "stderr",
     "output_type": "stream",
     "text": [
      "t:  37%|███▋      | 11/30 [00:00<00:00, 92.65it/s, now=None] "
     ]
    },
    {
     "name": "stdout",
     "output_type": "stream",
     "text": [
      "MoviePy - Building file videos_for_poster/erupting_gifs/eruption_test_30_CVAE.gif with imageio.\n"
     ]
    },
    {
     "name": "stderr",
     "output_type": "stream",
     "text": [
      "t:  40%|████      | 12/30 [00:00<00:00, 113.11it/s, now=None]"
     ]
    },
    {
     "name": "stdout",
     "output_type": "stream",
     "text": [
      "MoviePy - Building file videos_for_poster/erupting_gifs/eruption_test_31_CVAE.gif with imageio.\n"
     ]
    },
    {
     "name": "stderr",
     "output_type": "stream",
     "text": [
      "t:  47%|████▋     | 14/30 [00:00<00:00, 135.37it/s, now=None]"
     ]
    },
    {
     "name": "stdout",
     "output_type": "stream",
     "text": [
      "MoviePy - Building file videos_for_poster/erupting_gifs/eruption_test_44_interpolated.gif with imageio.\n"
     ]
    },
    {
     "name": "stderr",
     "output_type": "stream",
     "text": [
      "t:  37%|███▋      | 11/30 [00:00<00:00, 101.06it/s, now=None]"
     ]
    },
    {
     "name": "stdout",
     "output_type": "stream",
     "text": [
      "MoviePy - Building file videos_for_poster/erupting_gifs/eruption_test_08_GAN.gif with imageio.\n"
     ]
    },
    {
     "name": "stderr",
     "output_type": "stream",
     "text": [
      "t:  37%|███▋      | 11/30 [00:00<00:00, 102.36it/s, now=None]"
     ]
    },
    {
     "name": "stdout",
     "output_type": "stream",
     "text": [
      "MoviePy - Building file videos_for_poster/erupting_gifs/eruption_test_18_GAN.gif with imageio.\n"
     ]
    },
    {
     "name": "stderr",
     "output_type": "stream",
     "text": [
      "t:  43%|████▎     | 13/30 [00:00<00:00, 129.34it/s, now=None]"
     ]
    },
    {
     "name": "stdout",
     "output_type": "stream",
     "text": [
      "MoviePy - Building file videos_for_poster/erupting_gifs/eruption_test_63_reduced.gif with imageio.\n"
     ]
    },
    {
     "name": "stderr",
     "output_type": "stream",
     "text": [
      "t:  47%|████▋     | 14/30 [00:00<00:00, 138.15it/s, now=None]"
     ]
    },
    {
     "name": "stdout",
     "output_type": "stream",
     "text": [
      "MoviePy - Building file videos_for_poster/erupting_gifs/eruption_test_79_CVAE.gif with imageio.\n"
     ]
    },
    {
     "name": "stderr",
     "output_type": "stream",
     "text": [
      "t:  40%|████      | 12/30 [00:00<00:00, 116.09it/s, now=None]"
     ]
    },
    {
     "name": "stdout",
     "output_type": "stream",
     "text": [
      "MoviePy - Building file videos_for_poster/erupting_gifs/eruption_test_78_CVAE.gif with imageio.\n"
     ]
    },
    {
     "name": "stderr",
     "output_type": "stream",
     "text": [
      "t:  47%|████▋     | 14/30 [00:00<00:00, 130.71it/s, now=None]"
     ]
    },
    {
     "name": "stdout",
     "output_type": "stream",
     "text": [
      "MoviePy - Building file videos_for_poster/erupting_gifs/eruption_test_21_interpolated.gif with imageio.\n"
     ]
    },
    {
     "name": "stderr",
     "output_type": "stream",
     "text": [
      "t:  40%|████      | 12/30 [00:00<00:00, 111.38it/s, now=None]"
     ]
    },
    {
     "name": "stdout",
     "output_type": "stream",
     "text": [
      "MoviePy - Building file videos_for_poster/erupting_gifs/eruption_test_13_reduced.gif with imageio.\n"
     ]
    },
    {
     "name": "stderr",
     "output_type": "stream",
     "text": [
      "t:  33%|███▎      | 10/30 [00:00<00:00, 94.36it/s, now=None] "
     ]
    },
    {
     "name": "stdout",
     "output_type": "stream",
     "text": [
      "MoviePy - Building file videos_for_poster/erupting_gifs/eruption_test_76_reduced.gif with imageio.\n"
     ]
    },
    {
     "name": "stderr",
     "output_type": "stream",
     "text": [
      "t:  37%|███▋      | 11/30 [00:00<00:00, 108.26it/s, now=None]"
     ]
    },
    {
     "name": "stdout",
     "output_type": "stream",
     "text": [
      "MoviePy - Building file videos_for_poster/erupting_gifs/eruption_test_88_interpolated.gif with imageio.\n"
     ]
    },
    {
     "name": "stderr",
     "output_type": "stream",
     "text": [
      "t:  43%|████▎     | 13/30 [00:00<00:00, 123.94it/s, now=None]"
     ]
    },
    {
     "name": "stdout",
     "output_type": "stream",
     "text": [
      "MoviePy - Building file videos_for_poster/erupting_gifs/eruption_test_50_interpolated.gif with imageio.\n"
     ]
    },
    {
     "name": "stderr",
     "output_type": "stream",
     "text": [
      "t:  30%|███       | 9/30 [00:00<00:00, 86.23it/s, now=None]  "
     ]
    },
    {
     "name": "stdout",
     "output_type": "stream",
     "text": [
      "MoviePy - Building file videos_for_poster/erupting_gifs/eruption_test_06_reduced.gif with imageio.\n"
     ]
    },
    {
     "name": "stderr",
     "output_type": "stream",
     "text": [
      "t:  33%|███▎      | 10/30 [00:00<00:00, 90.82it/s, now=None]"
     ]
    },
    {
     "name": "stdout",
     "output_type": "stream",
     "text": [
      "MoviePy - Building file videos_for_poster/erupting_gifs/eruption_test_58_reduced.gif with imageio.\n"
     ]
    },
    {
     "name": "stderr",
     "output_type": "stream",
     "text": [
      "t:  40%|████      | 12/30 [00:00<00:00, 112.95it/s, now=None]"
     ]
    },
    {
     "name": "stdout",
     "output_type": "stream",
     "text": [
      "MoviePy - Building file videos_for_poster/erupting_gifs/eruption_test_97_GAN.gif with imageio.\n"
     ]
    },
    {
     "name": "stderr",
     "output_type": "stream",
     "text": [
      "t:  57%|█████▋    | 17/30 [00:00<00:00, 160.99it/s, now=None]"
     ]
    },
    {
     "name": "stdout",
     "output_type": "stream",
     "text": [
      "MoviePy - Building file videos_for_poster/erupting_gifs/eruption_test_35_interpolated.gif with imageio.\n"
     ]
    },
    {
     "name": "stderr",
     "output_type": "stream",
     "text": [
      "t:  33%|███▎      | 10/30 [00:00<00:00, 95.99it/s, now=None] "
     ]
    },
    {
     "name": "stdout",
     "output_type": "stream",
     "text": [
      "MoviePy - Building file videos_for_poster/erupting_gifs/eruption_test_96_CVAE.gif with imageio.\n"
     ]
    },
    {
     "name": "stderr",
     "output_type": "stream",
     "text": [
      "t:  37%|███▋      | 11/30 [00:00<00:00, 107.59it/s, now=None]"
     ]
    },
    {
     "name": "stdout",
     "output_type": "stream",
     "text": [
      "MoviePy - Building file videos_for_poster/erupting_gifs/eruption_test_87_GAN.gif with imageio.\n"
     ]
    },
    {
     "name": "stderr",
     "output_type": "stream",
     "text": [
      "                                                             "
     ]
    },
    {
     "name": "stdout",
     "output_type": "stream",
     "text": [
      "MoviePy - Building file videos_for_poster/erupting_gifs/eruption_test_97_CVAE.gif with imageio.\n"
     ]
    },
    {
     "name": "stderr",
     "output_type": "stream",
     "text": [
      "t:  50%|█████     | 15/30 [00:00<00:00, 149.30it/s, now=None]"
     ]
    },
    {
     "name": "stdout",
     "output_type": "stream",
     "text": [
      "MoviePy - Building file videos_for_poster/erupting_gifs/eruption_test_28_reduced.gif with imageio.\n"
     ]
    },
    {
     "name": "stderr",
     "output_type": "stream",
     "text": [
      "t:  50%|█████     | 15/30 [00:00<00:00, 142.19it/s, now=None]"
     ]
    },
    {
     "name": "stdout",
     "output_type": "stream",
     "text": [
      "MoviePy - Building file videos_for_poster/erupting_gifs/eruption_test_04_CVAE.gif with imageio.\n"
     ]
    },
    {
     "name": "stderr",
     "output_type": "stream",
     "text": [
      "t:  57%|█████▋    | 17/30 [00:00<00:00, 165.61it/s, now=None]"
     ]
    },
    {
     "name": "stdout",
     "output_type": "stream",
     "text": [
      "MoviePy - Building file videos_for_poster/erupting_gifs/eruption_test_05_CVAE.gif with imageio.\n"
     ]
    },
    {
     "name": "stderr",
     "output_type": "stream",
     "text": [
      "t:  37%|███▋      | 11/30 [00:00<00:00, 102.56it/s, now=None]"
     ]
    },
    {
     "name": "stdout",
     "output_type": "stream",
     "text": [
      "MoviePy - Building file videos_for_poster/erupting_gifs/eruption_test_34_reduced.gif with imageio.\n"
     ]
    },
    {
     "name": "stderr",
     "output_type": "stream",
     "text": [
      "t:  37%|███▋      | 11/30 [00:00<00:00, 104.14it/s, now=None]"
     ]
    },
    {
     "name": "stdout",
     "output_type": "stream",
     "text": [
      "MoviePy - Building file videos_for_poster/erupting_gifs/eruption_test_73_GAN.gif with imageio.\n"
     ]
    },
    {
     "name": "stderr",
     "output_type": "stream",
     "text": [
      "t:  43%|████▎     | 13/30 [00:00<00:00, 128.85it/s, now=None]"
     ]
    },
    {
     "name": "stdout",
     "output_type": "stream",
     "text": [
      "MoviePy - Building file videos_for_poster/erupting_gifs/eruption_test_63_GAN.gif with imageio.\n"
     ]
    },
    {
     "name": "stderr",
     "output_type": "stream",
     "text": [
      "t:  50%|█████     | 15/30 [00:00<00:00, 147.09it/s, now=None]"
     ]
    },
    {
     "name": "stdout",
     "output_type": "stream",
     "text": [
      "MoviePy - Building file videos_for_poster/erupting_gifs/eruption_test_73_CVAE.gif with imageio.\n"
     ]
    },
    {
     "name": "stderr",
     "output_type": "stream",
     "text": [
      "t:  43%|████▎     | 13/30 [00:00<00:00, 127.18it/s, now=None]"
     ]
    },
    {
     "name": "stdout",
     "output_type": "stream",
     "text": [
      "MoviePy - Building file videos_for_poster/erupting_gifs/eruption_test_14_interpolated.gif with imageio.\n"
     ]
    },
    {
     "name": "stderr",
     "output_type": "stream",
     "text": [
      "t:  50%|█████     | 15/30 [00:00<00:00, 140.67it/s, now=None]"
     ]
    },
    {
     "name": "stdout",
     "output_type": "stream",
     "text": [
      "MoviePy - Building file videos_for_poster/erupting_gifs/eruption_test_72_CVAE.gif with imageio.\n"
     ]
    },
    {
     "name": "stderr",
     "output_type": "stream",
     "text": [
      "t:  50%|█████     | 15/30 [00:00<00:00, 140.56it/s, now=None]"
     ]
    },
    {
     "name": "stdout",
     "output_type": "stream",
     "text": [
      "MoviePy - Building file videos_for_poster/erupting_gifs/eruption_test_44_reduced.gif with imageio.\n"
     ]
    },
    {
     "name": "stderr",
     "output_type": "stream",
     "text": [
      "t:  47%|████▋     | 14/30 [00:00<00:00, 134.13it/s, now=None]"
     ]
    },
    {
     "name": "stdout",
     "output_type": "stream",
     "text": [
      "MoviePy - Building file videos_for_poster/erupting_gifs/eruption_test_97_interpolated.gif with imageio.\n"
     ]
    },
    {
     "name": "stderr",
     "output_type": "stream",
     "text": [
      "t:  43%|████▎     | 13/30 [00:00<00:00, 122.57it/s, now=None]"
     ]
    },
    {
     "name": "stdout",
     "output_type": "stream",
     "text": [
      "MoviePy - Building file videos_for_poster/erupting_gifs/eruption_test_71_interpolated.gif with imageio.\n"
     ]
    },
    {
     "name": "stderr",
     "output_type": "stream",
     "text": [
      "t:  40%|████      | 12/30 [00:00<00:00, 110.84it/s, now=None]"
     ]
    },
    {
     "name": "stdout",
     "output_type": "stream",
     "text": [
      "MoviePy - Building file videos_for_poster/erupting_gifs/eruption_test_11_GAN.gif with imageio.\n"
     ]
    },
    {
     "name": "stderr",
     "output_type": "stream",
     "text": [
      "t:  37%|███▋      | 11/30 [00:00<00:00, 102.15it/s, now=None]"
     ]
    },
    {
     "name": "stdout",
     "output_type": "stream",
     "text": [
      "MoviePy - Building file videos_for_poster/erupting_gifs/eruption_test_01_GAN.gif with imageio.\n"
     ]
    },
    {
     "name": "stderr",
     "output_type": "stream",
     "text": [
      "                                                             "
     ]
    },
    {
     "name": "stdout",
     "output_type": "stream",
     "text": [
      "MoviePy - Building file videos_for_poster/erupting_gifs/eruption_test_97_reduced.gif with imageio.\n"
     ]
    },
    {
     "name": "stderr",
     "output_type": "stream",
     "text": [
      "t:  47%|████▋     | 14/30 [00:00<00:00, 129.48it/s, now=None]"
     ]
    },
    {
     "name": "stdout",
     "output_type": "stream",
     "text": [
      "MoviePy - Building file videos_for_poster/erupting_gifs/eruption_test_10_interpolated.gif with imageio.\n"
     ]
    },
    {
     "name": "stderr",
     "output_type": "stream",
     "text": [
      "t:  30%|███       | 9/30 [00:00<00:00, 81.37it/s, now=None]  "
     ]
    },
    {
     "name": "stdout",
     "output_type": "stream",
     "text": [
      "MoviePy - Building file videos_for_poster/erupting_gifs/eruption_test_50_CVAE.gif with imageio.\n"
     ]
    },
    {
     "name": "stderr",
     "output_type": "stream",
     "text": [
      "t:  37%|███▋      | 11/30 [00:00<00:00, 104.71it/s, now=None]"
     ]
    },
    {
     "name": "stdout",
     "output_type": "stream",
     "text": [
      "MoviePy - Building file videos_for_poster/erupting_gifs/eruption_test_51_CVAE.gif with imageio.\n"
     ]
    },
    {
     "name": "stderr",
     "output_type": "stream",
     "text": [
      "t:  47%|████▋     | 14/30 [00:00<00:00, 137.14it/s, now=None]"
     ]
    },
    {
     "name": "stdout",
     "output_type": "stream",
     "text": [
      "MoviePy - Building file videos_for_poster/erupting_gifs/eruption_test_03_reduced.gif with imageio.\n"
     ]
    },
    {
     "name": "stderr",
     "output_type": "stream",
     "text": [
      "t:  47%|████▋     | 14/30 [00:00<00:00, 124.36it/s, now=None]"
     ]
    },
    {
     "name": "stdout",
     "output_type": "stream",
     "text": [
      "MoviePy - Building file videos_for_poster/erupting_gifs/eruption_test_73_reduced.gif with imageio.\n"
     ]
    },
    {
     "name": "stderr",
     "output_type": "stream",
     "text": [
      "t:  37%|███▋      | 11/30 [00:00<00:00, 104.13it/s, now=None]"
     ]
    },
    {
     "name": "stdout",
     "output_type": "stream",
     "text": [
      "MoviePy - Building file videos_for_poster/erupting_gifs/eruption_test_19_CVAE.gif with imageio.\n"
     ]
    },
    {
     "name": "stderr",
     "output_type": "stream",
     "text": [
      "t:  40%|████      | 12/30 [00:00<00:00, 112.38it/s, now=None]"
     ]
    },
    {
     "name": "stdout",
     "output_type": "stream",
     "text": [
      "MoviePy - Building file videos_for_poster/erupting_gifs/eruption_test_86_GAN.gif with imageio.\n"
     ]
    },
    {
     "name": "stderr",
     "output_type": "stream",
     "text": [
      "t:  43%|████▎     | 13/30 [00:00<00:00, 126.23it/s, now=None]"
     ]
    },
    {
     "name": "stdout",
     "output_type": "stream",
     "text": [
      "MoviePy - Building file videos_for_poster/erupting_gifs/eruption_test_18_CVAE.gif with imageio.\n"
     ]
    },
    {
     "name": "stderr",
     "output_type": "stream",
     "text": [
      "t:  33%|███▎      | 10/30 [00:00<00:00, 94.26it/s, now=None] "
     ]
    },
    {
     "name": "stdout",
     "output_type": "stream",
     "text": [
      "MoviePy - Building file videos_for_poster/erupting_gifs/eruption_test_93_interpolated.gif with imageio.\n"
     ]
    },
    {
     "name": "stderr",
     "output_type": "stream",
     "text": [
      "t:  40%|████      | 12/30 [00:00<00:00, 113.52it/s, now=None]"
     ]
    },
    {
     "name": "stdout",
     "output_type": "stream",
     "text": [
      "MoviePy - Building file videos_for_poster/erupting_gifs/eruption_test_96_GAN.gif with imageio.\n"
     ]
    },
    {
     "name": "stderr",
     "output_type": "stream",
     "text": [
      "t:  43%|████▎     | 13/30 [00:00<00:00, 123.43it/s, now=None]"
     ]
    },
    {
     "name": "stdout",
     "output_type": "stream",
     "text": [
      "MoviePy - Building file videos_for_poster/erupting_gifs/eruption_test_75_interpolated.gif with imageio.\n"
     ]
    },
    {
     "name": "stderr",
     "output_type": "stream",
     "text": [
      "t:  53%|█████▎    | 16/30 [00:00<00:00, 150.43it/s, now=None]"
     ]
    },
    {
     "name": "stdout",
     "output_type": "stream",
     "text": [
      "MoviePy - Building file videos_for_poster/erupting_gifs/eruption_test_54_interpolated.gif with imageio.\n"
     ]
    },
    {
     "name": "stderr",
     "output_type": "stream",
     "text": [
      "t:  50%|█████     | 15/30 [00:00<00:00, 145.71it/s, now=None]"
     ]
    },
    {
     "name": "stdout",
     "output_type": "stream",
     "text": [
      "MoviePy - Building file videos_for_poster/erupting_gifs/eruption_test_92_reduced.gif with imageio.\n"
     ]
    },
    {
     "name": "stderr",
     "output_type": "stream",
     "text": [
      "t:  37%|███▋      | 11/30 [00:00<00:00, 104.17it/s, now=None]"
     ]
    },
    {
     "name": "stdout",
     "output_type": "stream",
     "text": [
      "MoviePy - Building file videos_for_poster/erupting_gifs/eruption_test_62_GAN.gif with imageio.\n"
     ]
    },
    {
     "name": "stderr",
     "output_type": "stream",
     "text": [
      "t:  47%|████▋     | 14/30 [00:00<00:00, 134.70it/s, now=None]"
     ]
    },
    {
     "name": "stdout",
     "output_type": "stream",
     "text": [
      "MoviePy - Building file videos_for_poster/erupting_gifs/eruption_test_72_GAN.gif with imageio.\n"
     ]
    },
    {
     "name": "stderr",
     "output_type": "stream",
     "text": [
      "t:  33%|███▎      | 10/30 [00:00<00:00, 95.59it/s, now=None] "
     ]
    },
    {
     "name": "stdout",
     "output_type": "stream",
     "text": [
      "MoviePy - Building file videos_for_poster/erupting_gifs/eruption_test_41_reduced.gif with imageio.\n"
     ]
    },
    {
     "name": "stderr",
     "output_type": "stream",
     "text": [
      "t:  50%|█████     | 15/30 [00:00<00:00, 142.60it/s, now=None]"
     ]
    },
    {
     "name": "stdout",
     "output_type": "stream",
     "text": [
      "MoviePy - Building file videos_for_poster/erupting_gifs/eruption_test_27_CVAE.gif with imageio.\n"
     ]
    },
    {
     "name": "stderr",
     "output_type": "stream",
     "text": [
      "t:  43%|████▎     | 13/30 [00:00<00:00, 123.67it/s, now=None]"
     ]
    },
    {
     "name": "stdout",
     "output_type": "stream",
     "text": [
      "MoviePy - Building file videos_for_poster/erupting_gifs/eruption_test_31_interpolated.gif with imageio.\n"
     ]
    },
    {
     "name": "stderr",
     "output_type": "stream",
     "text": [
      "t:  43%|████▎     | 13/30 [00:00<00:00, 128.23it/s, now=None]"
     ]
    },
    {
     "name": "stdout",
     "output_type": "stream",
     "text": [
      "MoviePy - Building file videos_for_poster/erupting_gifs/eruption_test_31_reduced.gif with imageio.\n"
     ]
    },
    {
     "name": "stderr",
     "output_type": "stream",
     "text": [
      "t:  47%|████▋     | 14/30 [00:00<00:00, 129.65it/s, now=None]"
     ]
    },
    {
     "name": "stdout",
     "output_type": "stream",
     "text": [
      "MoviePy - Building file videos_for_poster/erupting_gifs/eruption_test_26_CVAE.gif with imageio.\n"
     ]
    },
    {
     "name": "stderr",
     "output_type": "stream",
     "text": [
      "t:  37%|███▋      | 11/30 [00:00<00:00, 104.42it/s, now=None]"
     ]
    },
    {
     "name": "stdout",
     "output_type": "stream",
     "text": [
      "MoviePy - Building file videos_for_poster/erupting_gifs/eruption_test_00_GAN.gif with imageio.\n"
     ]
    },
    {
     "name": "stderr",
     "output_type": "stream",
     "text": [
      "t:  37%|███▋      | 11/30 [00:00<00:00, 107.65it/s, now=None]"
     ]
    },
    {
     "name": "stdout",
     "output_type": "stream",
     "text": [
      "MoviePy - Building file videos_for_poster/erupting_gifs/eruption_test_10_GAN.gif with imageio.\n"
     ]
    },
    {
     "name": "stderr",
     "output_type": "stream",
     "text": [
      "t:  47%|████▋     | 14/30 [00:00<00:00, 132.32it/s, now=None]"
     ]
    },
    {
     "name": "stdout",
     "output_type": "stream",
     "text": [
      "MoviePy - Building file videos_for_poster/erupting_gifs/eruption_test_13_CVAE.gif with imageio.\n"
     ]
    },
    {
     "name": "stderr",
     "output_type": "stream",
     "text": [
      "t:  20%|██        | 6/30 [00:00<00:00, 57.30it/s, now=None]  "
     ]
    },
    {
     "name": "stdout",
     "output_type": "stream",
     "text": [
      "MoviePy - Building file videos_for_poster/erupting_gifs/eruption_test_26_GAN.gif with imageio.\n"
     ]
    },
    {
     "name": "stderr",
     "output_type": "stream",
     "text": [
      "t:  37%|███▋      | 11/30 [00:00<00:00, 109.41it/s, now=None]"
     ]
    },
    {
     "name": "stdout",
     "output_type": "stream",
     "text": [
      "MoviePy - Building file videos_for_poster/erupting_gifs/eruption_test_12_CVAE.gif with imageio.\n"
     ]
    },
    {
     "name": "stderr",
     "output_type": "stream",
     "text": [
      "t:  30%|███       | 9/30 [00:00<00:00, 81.17it/s, now=None]  "
     ]
    },
    {
     "name": "stdout",
     "output_type": "stream",
     "text": [
      "MoviePy - Building file videos_for_poster/erupting_gifs/eruption_test_36_GAN.gif with imageio.\n"
     ]
    },
    {
     "name": "stderr",
     "output_type": "stream",
     "text": [
      "                                                             "
     ]
    },
    {
     "name": "stdout",
     "output_type": "stream",
     "text": [
      "MoviePy - Building file videos_for_poster/erupting_gifs/eruption_test_54_reduced.gif with imageio.\n"
     ]
    },
    {
     "name": "stderr",
     "output_type": "stream",
     "text": [
      "                                                             "
     ]
    },
    {
     "name": "stdout",
     "output_type": "stream",
     "text": [
      "MoviePy - Building file videos_for_poster/erupting_gifs/eruption_test_24_reduced.gif with imageio.\n"
     ]
    },
    {
     "name": "stderr",
     "output_type": "stream",
     "text": [
      "t:  50%|█████     | 15/30 [00:00<00:00, 141.32it/s, now=None]"
     ]
    },
    {
     "name": "stdout",
     "output_type": "stream",
     "text": [
      "MoviePy - Building file videos_for_poster/erupting_gifs/eruption_test_81_CVAE.gif with imageio.\n"
     ]
    },
    {
     "name": "stderr",
     "output_type": "stream",
     "text": [
      "t:  47%|████▋     | 14/30 [00:00<00:00, 135.10it/s, now=None]"
     ]
    },
    {
     "name": "stdout",
     "output_type": "stream",
     "text": [
      "MoviePy - Building file videos_for_poster/erupting_gifs/eruption_test_80_CVAE.gif with imageio.\n"
     ]
    },
    {
     "name": "stderr",
     "output_type": "stream",
     "text": [
      "t:  33%|███▎      | 10/30 [00:00<00:00, 90.44it/s, now=None] "
     ]
    },
    {
     "name": "stdout",
     "output_type": "stream",
     "text": [
      "MoviePy - Building file videos_for_poster/erupting_gifs/eruption_test_40_interpolated.gif with imageio.\n"
     ]
    },
    {
     "name": "stderr",
     "output_type": "stream",
     "text": [
      "t:  40%|████      | 12/30 [00:00<00:00, 113.67it/s, now=None]"
     ]
    },
    {
     "name": "stdout",
     "output_type": "stream",
     "text": [
      "MoviePy - Building file videos_for_poster/erupting_gifs/eruption_test_98_interpolated.gif with imageio.\n"
     ]
    },
    {
     "name": "stderr",
     "output_type": "stream",
     "text": [
      "t:  43%|████▎     | 13/30 [00:00<00:00, 126.82it/s, now=None]"
     ]
    },
    {
     "name": "stdout",
     "output_type": "stream",
     "text": [
      "MoviePy - Building file videos_for_poster/erupting_gifs/eruption_test_87_reduced.gif with imageio.\n"
     ]
    },
    {
     "name": "stderr",
     "output_type": "stream",
     "text": [
      "t:  50%|█████     | 15/30 [00:00<00:00, 143.28it/s, now=None]"
     ]
    },
    {
     "name": "stdout",
     "output_type": "stream",
     "text": [
      "MoviePy - Building file videos_for_poster/erupting_gifs/eruption_test_25_interpolated.gif with imageio.\n"
     ]
    },
    {
     "name": "stderr",
     "output_type": "stream",
     "text": [
      "t:  37%|███▋      | 11/30 [00:00<00:00, 103.62it/s, now=None]"
     ]
    },
    {
     "name": "stdout",
     "output_type": "stream",
     "text": [
      "MoviePy - Building file videos_for_poster/erupting_gifs/eruption_test_44_GAN.gif with imageio.\n"
     ]
    },
    {
     "name": "stderr",
     "output_type": "stream",
     "text": [
      "t:  40%|████      | 12/30 [00:00<00:00, 117.42it/s, now=None]"
     ]
    },
    {
     "name": "stdout",
     "output_type": "stream",
     "text": [
      "MoviePy - Building file videos_for_poster/erupting_gifs/eruption_test_54_GAN.gif with imageio.\n"
     ]
    },
    {
     "name": "stderr",
     "output_type": "stream",
     "text": [
      "t:  53%|█████▎    | 16/30 [00:00<00:00, 157.21it/s, now=None]"
     ]
    },
    {
     "name": "stdout",
     "output_type": "stream",
     "text": [
      "MoviePy - Building file videos_for_poster/erupting_gifs/eruption_test_16_reduced.gif with imageio.\n"
     ]
    },
    {
     "name": "stderr",
     "output_type": "stream",
     "text": [
      "t:  43%|████▎     | 13/30 [00:00<00:00, 127.61it/s, now=None]"
     ]
    },
    {
     "name": "stdout",
     "output_type": "stream",
     "text": [
      "MoviePy - Building file videos_for_poster/erupting_gifs/eruption_test_04_interpolated.gif with imageio.\n"
     ]
    },
    {
     "name": "stderr",
     "output_type": "stream",
     "text": [
      "t:  57%|█████▋    | 17/30 [00:00<00:00, 160.50it/s, now=None]"
     ]
    },
    {
     "name": "stdout",
     "output_type": "stream",
     "text": [
      "MoviePy - Building file videos_for_poster/erupting_gifs/eruption_test_66_reduced.gif with imageio.\n"
     ]
    },
    {
     "name": "stderr",
     "output_type": "stream",
     "text": [
      "t:  37%|███▋      | 11/30 [00:00<00:00, 104.15it/s, now=None]"
     ]
    },
    {
     "name": "stdout",
     "output_type": "stream",
     "text": [
      "MoviePy - Building file videos_for_poster/erupting_gifs/eruption_test_19_GAN.gif with imageio.\n"
     ]
    },
    {
     "name": "stderr",
     "output_type": "stream",
     "text": [
      "t:  37%|███▋      | 11/30 [00:00<00:00, 98.62it/s, now=None] "
     ]
    },
    {
     "name": "stdout",
     "output_type": "stream",
     "text": [
      "MoviePy - Building file videos_for_poster/erupting_gifs/eruption_test_09_GAN.gif with imageio.\n"
     ]
    },
    {
     "name": "stderr",
     "output_type": "stream",
     "text": [
      "t:  40%|████      | 12/30 [00:00<00:00, 116.68it/s, now=None]"
     ]
    },
    {
     "name": "stdout",
     "output_type": "stream",
     "text": [
      "MoviePy - Building file videos_for_poster/erupting_gifs/eruption_test_64_CVAE.gif with imageio.\n"
     ]
    },
    {
     "name": "stderr",
     "output_type": "stream",
     "text": [
      "t:  47%|████▋     | 14/30 [00:00<00:00, 134.74it/s, now=None]"
     ]
    },
    {
     "name": "stdout",
     "output_type": "stream",
     "text": [
      "MoviePy - Building file videos_for_poster/erupting_gifs/eruption_test_65_CVAE.gif with imageio.\n"
     ]
    },
    {
     "name": "stderr",
     "output_type": "stream",
     "text": [
      "t:  50%|█████     | 15/30 [00:00<00:00, 149.27it/s, now=None]"
     ]
    },
    {
     "name": "stdout",
     "output_type": "stream",
     "text": [
      "MoviePy - Building file videos_for_poster/erupting_gifs/eruption_test_61_interpolated.gif with imageio.\n"
     ]
    },
    {
     "name": "stderr",
     "output_type": "stream",
     "text": [
      "t:  47%|████▋     | 14/30 [00:00<00:00, 129.93it/s, now=None]"
     ]
    },
    {
     "name": "stdout",
     "output_type": "stream",
     "text": [
      "MoviePy - Building file videos_for_poster/erupting_gifs/eruption_test_87_interpolated.gif with imageio.\n"
     ]
    },
    {
     "name": "stderr",
     "output_type": "stream",
     "text": [
      "t:  93%|█████████▎| 28/30 [00:00<00:00, 139.75it/s, now=None]"
     ]
    },
    {
     "name": "stdout",
     "output_type": "stream",
     "text": [
      "MoviePy - Building file videos_for_poster/erupting_gifs/eruption_test_38_reduced.gif with imageio.\n"
     ]
    },
    {
     "name": "stderr",
     "output_type": "stream",
     "text": [
      "t:  43%|████▎     | 13/30 [00:00<00:00, 120.76it/s, now=None]"
     ]
    },
    {
     "name": "stdout",
     "output_type": "stream",
     "text": [
      "MoviePy - Building file videos_for_poster/erupting_gifs/eruption_test_48_reduced.gif with imageio.\n"
     ]
    },
    {
     "name": "stderr",
     "output_type": "stream",
     "text": [
      "                                                             \r"
     ]
    }
   ],
   "source": [
    "##CONVERT VIDEOS INTO GIFS\n",
    "\n",
    "from moviepy.editor import *\n",
    "\n",
    "for file in os.listdir(\"videos_for_poster/videos_for_poster_eruption\"):\n",
    "    clip = VideoFileClip(\"videos_for_poster/videos_for_poster_eruption/\"+file)\n",
    "    clip.write_gif(\"videos_for_poster/erupting_gifs/\"+file.replace(\"mp4\",\"gif\"))"
   ]
  },
  {
   "cell_type": "code",
   "execution_count": 46,
   "metadata": {},
   "outputs": [
    {
     "name": "stderr",
     "output_type": "stream",
     "text": [
      "t:  43%|████▎     | 13/30 [00:00<00:00, 129.44it/s, now=None]"
     ]
    },
    {
     "name": "stdout",
     "output_type": "stream",
     "text": [
      "MoviePy - Building file videos_for_poster/skiing_gifs/skiing_test_66_reduced.gif with imageio.\n"
     ]
    },
    {
     "name": "stderr",
     "output_type": "stream",
     "text": [
      "t:  43%|████▎     | 13/30 [00:00<00:00, 121.01it/s, now=None]"
     ]
    },
    {
     "name": "stdout",
     "output_type": "stream",
     "text": [
      "MoviePy - Building file videos_for_poster/skiing_gifs/skiing_test_51_interpolated.gif with imageio.\n"
     ]
    },
    {
     "name": "stderr",
     "output_type": "stream",
     "text": [
      "t:  47%|████▋     | 14/30 [00:00<00:00, 133.14it/s, now=None]"
     ]
    },
    {
     "name": "stdout",
     "output_type": "stream",
     "text": [
      "MoviePy - Building file videos_for_poster/skiing_gifs/skiing_test_14_CVAE.gif with imageio.\n"
     ]
    },
    {
     "name": "stderr",
     "output_type": "stream",
     "text": [
      "t:  43%|████▎     | 13/30 [00:00<00:00, 126.88it/s, now=None]"
     ]
    },
    {
     "name": "stdout",
     "output_type": "stream",
     "text": [
      "MoviePy - Building file videos_for_poster/skiing_gifs/skiing_test_15_CVAE.gif with imageio.\n"
     ]
    },
    {
     "name": "stderr",
     "output_type": "stream",
     "text": [
      "t:  50%|█████     | 15/30 [00:00<00:00, 143.57it/s, now=None]"
     ]
    },
    {
     "name": "stdout",
     "output_type": "stream",
     "text": [
      "MoviePy - Building file videos_for_poster/skiing_gifs/skiing_test_16_reduced.gif with imageio.\n"
     ]
    },
    {
     "name": "stderr",
     "output_type": "stream",
     "text": [
      "t:  43%|████▎     | 13/30 [00:00<00:00, 128.88it/s, now=None]"
     ]
    },
    {
     "name": "stdout",
     "output_type": "stream",
     "text": [
      "MoviePy - Building file videos_for_poster/skiing_gifs/skiing_test_48_reduced.gif with imageio.\n"
     ]
    },
    {
     "name": "stderr",
     "output_type": "stream",
     "text": [
      "t:  50%|█████     | 15/30 [00:00<00:00, 148.55it/s, now=None]"
     ]
    },
    {
     "name": "stdout",
     "output_type": "stream",
     "text": [
      "MoviePy - Building file videos_for_poster/skiing_gifs/skiing_test_38_reduced.gif with imageio.\n"
     ]
    },
    {
     "name": "stderr",
     "output_type": "stream",
     "text": [
      "t:  33%|███▎      | 10/30 [00:00<00:00, 98.18it/s, now=None] "
     ]
    },
    {
     "name": "stdout",
     "output_type": "stream",
     "text": [
      "MoviePy - Building file videos_for_poster/skiing_gifs/skiing_test_34_interpolated.gif with imageio.\n"
     ]
    },
    {
     "name": "stderr",
     "output_type": "stream",
     "text": [
      "t:  47%|████▋     | 14/30 [00:00<00:00, 130.81it/s, now=None]"
     ]
    },
    {
     "name": "stdout",
     "output_type": "stream",
     "text": [
      "MoviePy - Building file videos_for_poster/skiing_gifs/skiing_test_15_interpolated.gif with imageio.\n"
     ]
    },
    {
     "name": "stderr",
     "output_type": "stream",
     "text": [
      "t:  43%|████▎     | 13/30 [00:00<00:00, 127.07it/s, now=None]"
     ]
    },
    {
     "name": "stdout",
     "output_type": "stream",
     "text": [
      "MoviePy - Building file videos_for_poster/skiing_gifs/skiing_test_24_reduced.gif with imageio.\n"
     ]
    },
    {
     "name": "stderr",
     "output_type": "stream",
     "text": [
      "                                                             "
     ]
    },
    {
     "name": "stdout",
     "output_type": "stream",
     "text": [
      "MoviePy - Building file videos_for_poster/skiing_gifs/skiing_test_54_reduced.gif with imageio.\n"
     ]
    },
    {
     "name": "stderr",
     "output_type": "stream",
     "text": [
      "t:  43%|████▎     | 13/30 [00:00<00:00, 128.27it/s, now=None]"
     ]
    },
    {
     "name": "stdout",
     "output_type": "stream",
     "text": [
      "MoviePy - Building file videos_for_poster/skiing_gifs/skiing_test_63_CVAE.gif with imageio.\n"
     ]
    },
    {
     "name": "stderr",
     "output_type": "stream",
     "text": [
      "t:  43%|████▎     | 13/30 [00:00<00:00, 129.50it/s, now=None]"
     ]
    },
    {
     "name": "stdout",
     "output_type": "stream",
     "text": [
      "MoviePy - Building file videos_for_poster/skiing_gifs/skiing_test_62_CVAE.gif with imageio.\n"
     ]
    },
    {
     "name": "stderr",
     "output_type": "stream",
     "text": [
      "t:  47%|████▋     | 14/30 [00:00<00:00, 134.14it/s, now=None]"
     ]
    },
    {
     "name": "stdout",
     "output_type": "stream",
     "text": [
      "MoviePy - Building file videos_for_poster/skiing_gifs/skiing_test_70_interpolated.gif with imageio.\n"
     ]
    },
    {
     "name": "stderr",
     "output_type": "stream",
     "text": [
      "                                                             "
     ]
    },
    {
     "name": "stdout",
     "output_type": "stream",
     "text": [
      "MoviePy - Building file videos_for_poster/skiing_gifs/skiing_test_57_CVAE.gif with imageio.\n"
     ]
    },
    {
     "name": "stderr",
     "output_type": "stream",
     "text": [
      "t:  43%|████▎     | 13/30 [00:00<00:00, 125.27it/s, now=None]"
     ]
    },
    {
     "name": "stdout",
     "output_type": "stream",
     "text": [
      "MoviePy - Building file videos_for_poster/skiing_gifs/skiing_test_56_CVAE.gif with imageio.\n"
     ]
    },
    {
     "name": "stderr",
     "output_type": "stream",
     "text": [
      "t:  47%|████▋     | 14/30 [00:00<00:00, 134.54it/s, now=None]"
     ]
    },
    {
     "name": "stdout",
     "output_type": "stream",
     "text": [
      "MoviePy - Building file videos_for_poster/skiing_gifs/skiing_test_01_interpolated.gif with imageio.\n"
     ]
    },
    {
     "name": "stderr",
     "output_type": "stream",
     "text": [
      "t:  43%|████▎     | 13/30 [00:00<00:00, 112.71it/s, now=None]"
     ]
    },
    {
     "name": "stdout",
     "output_type": "stream",
     "text": [
      "MoviePy - Building file videos_for_poster/skiing_gifs/skiing_test_31_reduced.gif with imageio.\n"
     ]
    },
    {
     "name": "stderr",
     "output_type": "stream",
     "text": [
      "t:  43%|████▎     | 13/30 [00:00<00:00, 125.20it/s, now=None]"
     ]
    },
    {
     "name": "stdout",
     "output_type": "stream",
     "text": [
      "MoviePy - Building file videos_for_poster/skiing_gifs/skiing_test_64_interpolated.gif with imageio.\n"
     ]
    },
    {
     "name": "stderr",
     "output_type": "stream",
     "text": [
      "t:  47%|████▋     | 14/30 [00:00<00:00, 133.46it/s, now=None]"
     ]
    },
    {
     "name": "stdout",
     "output_type": "stream",
     "text": [
      "MoviePy - Building file videos_for_poster/skiing_gifs/skiing_test_41_reduced.gif with imageio.\n"
     ]
    },
    {
     "name": "stderr",
     "output_type": "stream",
     "text": [
      "                                                             "
     ]
    },
    {
     "name": "stdout",
     "output_type": "stream",
     "text": [
      "MoviePy - Building file videos_for_poster/skiing_gifs/skiing_test_69_CVAE.gif with imageio.\n"
     ]
    },
    {
     "name": "stderr",
     "output_type": "stream",
     "text": [
      "t:  47%|████▋     | 14/30 [00:00<00:00, 138.37it/s, now=None]"
     ]
    },
    {
     "name": "stdout",
     "output_type": "stream",
     "text": [
      "MoviePy - Building file videos_for_poster/skiing_gifs/skiing_test_68_CVAE.gif with imageio.\n"
     ]
    },
    {
     "name": "stderr",
     "output_type": "stream",
     "text": [
      "t:  53%|█████▎    | 16/30 [00:00<00:00, 159.65it/s, now=None]"
     ]
    },
    {
     "name": "stdout",
     "output_type": "stream",
     "text": [
      "MoviePy - Building file videos_for_poster/skiing_gifs/skiing_test_45_interpolated.gif with imageio.\n"
     ]
    },
    {
     "name": "stderr",
     "output_type": "stream",
     "text": [
      "t:  37%|███▋      | 11/30 [00:00<00:00, 101.86it/s, now=None]"
     ]
    },
    {
     "name": "stdout",
     "output_type": "stream",
     "text": [
      "MoviePy - Building file videos_for_poster/skiing_gifs/skiing_test_20_interpolated.gif with imageio.\n"
     ]
    },
    {
     "name": "stderr",
     "output_type": "stream",
     "text": [
      "t:  47%|████▋     | 14/30 [00:00<00:00, 131.99it/s, now=None]"
     ]
    },
    {
     "name": "stdout",
     "output_type": "stream",
     "text": [
      "MoviePy - Building file videos_for_poster/skiing_gifs/skiing_test_20_CVAE.gif with imageio.\n"
     ]
    },
    {
     "name": "stderr",
     "output_type": "stream",
     "text": [
      "t:  47%|████▋     | 14/30 [00:00<00:00, 139.03it/s, now=None]"
     ]
    },
    {
     "name": "stdout",
     "output_type": "stream",
     "text": [
      "MoviePy - Building file videos_for_poster/skiing_gifs/skiing_test_73_reduced.gif with imageio.\n"
     ]
    },
    {
     "name": "stderr",
     "output_type": "stream",
     "text": [
      "t:  40%|████      | 12/30 [00:00<00:00, 117.42it/s, now=None]"
     ]
    },
    {
     "name": "stdout",
     "output_type": "stream",
     "text": [
      "MoviePy - Building file videos_for_poster/skiing_gifs/skiing_test_21_CVAE.gif with imageio.\n"
     ]
    },
    {
     "name": "stderr",
     "output_type": "stream",
     "text": [
      "t:  37%|███▋      | 11/30 [00:00<00:00, 108.39it/s, now=None]"
     ]
    },
    {
     "name": "stdout",
     "output_type": "stream",
     "text": [
      "MoviePy - Building file videos_for_poster/skiing_gifs/skiing_test_03_reduced.gif with imageio.\n"
     ]
    },
    {
     "name": "stderr",
     "output_type": "stream",
     "text": [
      "t:  43%|████▎     | 13/30 [00:00<00:00, 127.71it/s, now=None]"
     ]
    },
    {
     "name": "stdout",
     "output_type": "stream",
     "text": [
      "MoviePy - Building file videos_for_poster/skiing_gifs/skiing_test_41_interpolated.gif with imageio.\n"
     ]
    },
    {
     "name": "stderr",
     "output_type": "stream",
     "text": [
      "t:  47%|████▋     | 14/30 [00:00<00:00, 131.07it/s, now=None]"
     ]
    },
    {
     "name": "stdout",
     "output_type": "stream",
     "text": [
      "MoviePy - Building file videos_for_poster/skiing_gifs/skiing_test_44_reduced.gif with imageio.\n"
     ]
    },
    {
     "name": "stderr",
     "output_type": "stream",
     "text": [
      "t:  40%|████      | 12/30 [00:00<00:00, 111.03it/s, now=None]"
     ]
    },
    {
     "name": "stdout",
     "output_type": "stream",
     "text": [
      "MoviePy - Building file videos_for_poster/skiing_gifs/skiing_test_34_reduced.gif with imageio.\n"
     ]
    },
    {
     "name": "stderr",
     "output_type": "stream",
     "text": [
      "t:  40%|████      | 12/30 [00:00<00:00, 110.78it/s, now=None]"
     ]
    },
    {
     "name": "stdout",
     "output_type": "stream",
     "text": [
      "MoviePy - Building file videos_for_poster/skiing_gifs/skiing_test_03_CVAE.gif with imageio.\n"
     ]
    },
    {
     "name": "stderr",
     "output_type": "stream",
     "text": [
      "t:  47%|████▋     | 14/30 [00:00<00:00, 138.40it/s, now=None]"
     ]
    },
    {
     "name": "stdout",
     "output_type": "stream",
     "text": [
      "MoviePy - Building file videos_for_poster/skiing_gifs/skiing_test_02_CVAE.gif with imageio.\n"
     ]
    },
    {
     "name": "stderr",
     "output_type": "stream",
     "text": [
      "t:  47%|████▋     | 14/30 [00:00<00:00, 138.01it/s, now=None]"
     ]
    },
    {
     "name": "stdout",
     "output_type": "stream",
     "text": [
      "MoviePy - Building file videos_for_poster/skiing_gifs/skiing_test_24_interpolated.gif with imageio.\n"
     ]
    },
    {
     "name": "stderr",
     "output_type": "stream",
     "text": [
      "t:  30%|███       | 9/30 [00:00<00:00, 88.63it/s, now=None]  "
     ]
    },
    {
     "name": "stdout",
     "output_type": "stream",
     "text": [
      "MoviePy - Building file videos_for_poster/skiing_gifs/skiing_test_05_interpolated.gif with imageio.\n"
     ]
    },
    {
     "name": "stderr",
     "output_type": "stream",
     "text": [
      "t:  40%|████      | 12/30 [00:00<00:00, 115.92it/s, now=None]"
     ]
    },
    {
     "name": "stdout",
     "output_type": "stream",
     "text": [
      "MoviePy - Building file videos_for_poster/skiing_gifs/skiing_test_74_CVAE.gif with imageio.\n"
     ]
    },
    {
     "name": "stderr",
     "output_type": "stream",
     "text": [
      "                                                             "
     ]
    },
    {
     "name": "stdout",
     "output_type": "stream",
     "text": [
      "MoviePy - Building file videos_for_poster/skiing_gifs/skiing_test_75_CVAE.gif with imageio.\n"
     ]
    },
    {
     "name": "stderr",
     "output_type": "stream",
     "text": [
      "t:  50%|█████     | 15/30 [00:00<00:00, 145.62it/s, now=None]"
     ]
    },
    {
     "name": "stdout",
     "output_type": "stream",
     "text": [
      "MoviePy - Building file videos_for_poster/skiing_gifs/skiing_test_06_reduced.gif with imageio.\n"
     ]
    },
    {
     "name": "stderr",
     "output_type": "stream",
     "text": [
      "t:  50%|█████     | 15/30 [00:00<00:00, 149.61it/s, now=None]"
     ]
    },
    {
     "name": "stdout",
     "output_type": "stream",
     "text": [
      "MoviePy - Building file videos_for_poster/skiing_gifs/skiing_test_76_reduced.gif with imageio.\n"
     ]
    },
    {
     "name": "stderr",
     "output_type": "stream",
     "text": [
      "t:  50%|█████     | 15/30 [00:00<00:00, 149.92it/s, now=None]"
     ]
    },
    {
     "name": "stdout",
     "output_type": "stream",
     "text": [
      "MoviePy - Building file videos_for_poster/skiing_gifs/skiing_test_28_reduced.gif with imageio.\n"
     ]
    },
    {
     "name": "stderr",
     "output_type": "stream",
     "text": [
      "t:  47%|████▋     | 14/30 [00:00<00:00, 132.23it/s, now=None]"
     ]
    },
    {
     "name": "stdout",
     "output_type": "stream",
     "text": [
      "MoviePy - Building file videos_for_poster/skiing_gifs/skiing_test_58_reduced.gif with imageio.\n"
     ]
    },
    {
     "name": "stderr",
     "output_type": "stream",
     "text": [
      "t:  47%|████▋     | 14/30 [00:00<00:00, 136.28it/s, now=None]"
     ]
    },
    {
     "name": "stdout",
     "output_type": "stream",
     "text": [
      "MoviePy - Building file videos_for_poster/skiing_gifs/skiing_test_60_interpolated.gif with imageio.\n"
     ]
    },
    {
     "name": "stderr",
     "output_type": "stream",
     "text": [
      "t:  37%|███▋      | 11/30 [00:00<00:00, 108.31it/s, now=None]"
     ]
    },
    {
     "name": "stdout",
     "output_type": "stream",
     "text": [
      "MoviePy - Building file videos_for_poster/skiing_gifs/skiing_test_11_interpolated.gif with imageio.\n"
     ]
    },
    {
     "name": "stderr",
     "output_type": "stream",
     "text": [
      "                                                             "
     ]
    },
    {
     "name": "stdout",
     "output_type": "stream",
     "text": [
      "MoviePy - Building file videos_for_poster/skiing_gifs/skiing_test_09_CVAE.gif with imageio.\n"
     ]
    },
    {
     "name": "stderr",
     "output_type": "stream",
     "text": [
      "t:  50%|█████     | 15/30 [00:00<00:00, 143.84it/s, now=None]"
     ]
    },
    {
     "name": "stdout",
     "output_type": "stream",
     "text": [
      "MoviePy - Building file videos_for_poster/skiing_gifs/skiing_test_08_CVAE.gif with imageio.\n"
     ]
    },
    {
     "name": "stderr",
     "output_type": "stream",
     "text": [
      "t:  43%|████▎     | 13/30 [00:00<00:00, 120.26it/s, now=None]"
     ]
    },
    {
     "name": "stdout",
     "output_type": "stream",
     "text": [
      "MoviePy - Building file videos_for_poster/skiing_gifs/skiing_test_74_interpolated.gif with imageio.\n"
     ]
    },
    {
     "name": "stderr",
     "output_type": "stream",
     "text": [
      "t:  47%|████▋     | 14/30 [00:00<00:00, 137.72it/s, now=None]"
     ]
    },
    {
     "name": "stdout",
     "output_type": "stream",
     "text": [
      "MoviePy - Building file videos_for_poster/skiing_gifs/skiing_test_13_reduced.gif with imageio.\n"
     ]
    },
    {
     "name": "stderr",
     "output_type": "stream",
     "text": [
      "t:  47%|████▋     | 14/30 [00:00<00:00, 130.25it/s, now=None]"
     ]
    },
    {
     "name": "stdout",
     "output_type": "stream",
     "text": [
      "MoviePy - Building file videos_for_poster/skiing_gifs/skiing_test_40_CVAE.gif with imageio.\n"
     ]
    },
    {
     "name": "stderr",
     "output_type": "stream",
     "text": [
      "t:  47%|████▋     | 14/30 [00:00<00:00, 130.31it/s, now=None]"
     ]
    },
    {
     "name": "stdout",
     "output_type": "stream",
     "text": [
      "MoviePy - Building file videos_for_poster/skiing_gifs/skiing_test_41_CVAE.gif with imageio.\n"
     ]
    },
    {
     "name": "stderr",
     "output_type": "stream",
     "text": [
      "t:  40%|████      | 12/30 [00:00<00:00, 114.45it/s, now=None]"
     ]
    },
    {
     "name": "stdout",
     "output_type": "stream",
     "text": [
      "MoviePy - Building file videos_for_poster/skiing_gifs/skiing_test_63_reduced.gif with imageio.\n"
     ]
    },
    {
     "name": "stderr",
     "output_type": "stream",
     "text": [
      "t:  43%|████▎     | 13/30 [00:00<00:00, 127.08it/s, now=None]"
     ]
    },
    {
     "name": "stdout",
     "output_type": "stream",
     "text": [
      "MoviePy - Building file videos_for_poster/skiing_gifs/skiing_test_37_CVAE.gif with imageio.\n"
     ]
    },
    {
     "name": "stderr",
     "output_type": "stream",
     "text": [
      "t:  47%|████▋     | 14/30 [00:00<00:00, 132.29it/s, now=None]"
     ]
    },
    {
     "name": "stdout",
     "output_type": "stream",
     "text": [
      "MoviePy - Building file videos_for_poster/skiing_gifs/skiing_test_36_CVAE.gif with imageio.\n"
     ]
    },
    {
     "name": "stderr",
     "output_type": "stream",
     "text": [
      "t:  40%|████      | 12/30 [00:00<00:00, 106.44it/s, now=None]"
     ]
    },
    {
     "name": "stdout",
     "output_type": "stream",
     "text": [
      "MoviePy - Building file videos_for_poster/skiing_gifs/skiing_test_55_interpolated.gif with imageio.\n"
     ]
    },
    {
     "name": "stderr",
     "output_type": "stream",
     "text": [
      "t:  77%|███████▋  | 23/30 [00:00<00:00, 115.86it/s, now=None]"
     ]
    },
    {
     "name": "stdout",
     "output_type": "stream",
     "text": [
      "MoviePy - Building file videos_for_poster/skiing_gifs/skiing_test_30_interpolated.gif with imageio.\n"
     ]
    },
    {
     "name": "stderr",
     "output_type": "stream",
     "text": [
      "t:  47%|████▋     | 14/30 [00:00<00:00, 138.59it/s, now=None]"
     ]
    },
    {
     "name": "stdout",
     "output_type": "stream",
     "text": [
      "MoviePy - Building file videos_for_poster/skiing_gifs/skiing_test_51_reduced.gif with imageio.\n"
     ]
    },
    {
     "name": "stderr",
     "output_type": "stream",
     "text": [
      "t:  43%|████▎     | 13/30 [00:00<00:00, 127.58it/s, now=None]"
     ]
    },
    {
     "name": "stdout",
     "output_type": "stream",
     "text": [
      "MoviePy - Building file videos_for_poster/skiing_gifs/skiing_test_21_reduced.gif with imageio.\n"
     ]
    },
    {
     "name": "stderr",
     "output_type": "stream",
     "text": [
      "                                                             "
     ]
    },
    {
     "name": "stdout",
     "output_type": "stream",
     "text": [
      "MoviePy - Building file videos_for_poster/skiing_gifs/skiing_test_52_reduced.gif with imageio.\n"
     ]
    },
    {
     "name": "stderr",
     "output_type": "stream",
     "text": [
      "t:  43%|████▎     | 13/30 [00:00<00:00, 129.81it/s, now=None]"
     ]
    },
    {
     "name": "stdout",
     "output_type": "stream",
     "text": [
      "MoviePy - Building file videos_for_poster/skiing_gifs/skiing_test_71_interpolated.gif with imageio.\n"
     ]
    },
    {
     "name": "stderr",
     "output_type": "stream",
     "text": [
      "                                                             "
     ]
    },
    {
     "name": "stdout",
     "output_type": "stream",
     "text": [
      "MoviePy - Building file videos_for_poster/skiing_gifs/skiing_test_22_reduced.gif with imageio.\n"
     ]
    },
    {
     "name": "stderr",
     "output_type": "stream",
     "text": [
      "t:  50%|█████     | 15/30 [00:00<00:00, 141.48it/s, now=None]"
     ]
    },
    {
     "name": "stdout",
     "output_type": "stream",
     "text": [
      "MoviePy - Building file videos_for_poster/skiing_gifs/skiing_test_81_reduced.gif with imageio.\n"
     ]
    },
    {
     "name": "stderr",
     "output_type": "stream",
     "text": [
      "t:  50%|█████     | 15/30 [00:00<00:00, 149.19it/s, now=None]"
     ]
    },
    {
     "name": "stdout",
     "output_type": "stream",
     "text": [
      "MoviePy - Building file videos_for_poster/skiing_gifs/skiing_test_14_interpolated.gif with imageio.\n"
     ]
    },
    {
     "name": "stderr",
     "output_type": "stream",
     "text": [
      "                                                             "
     ]
    },
    {
     "name": "stdout",
     "output_type": "stream",
     "text": [
      "MoviePy - Building file videos_for_poster/skiing_gifs/skiing_test_04_CVAE.gif with imageio.\n"
     ]
    },
    {
     "name": "stderr",
     "output_type": "stream",
     "text": [
      "t:  43%|████▎     | 13/30 [00:00<00:00, 120.79it/s, now=None]"
     ]
    },
    {
     "name": "stdout",
     "output_type": "stream",
     "text": [
      "MoviePy - Building file videos_for_poster/skiing_gifs/skiing_test_05_CVAE.gif with imageio.\n"
     ]
    },
    {
     "name": "stderr",
     "output_type": "stream",
     "text": [
      "t:  57%|█████▋    | 17/30 [00:00<00:00, 156.86it/s, now=None]"
     ]
    },
    {
     "name": "stdout",
     "output_type": "stream",
     "text": [
      "MoviePy - Building file videos_for_poster/skiing_gifs/skiing_test_10_reduced.gif with imageio.\n"
     ]
    },
    {
     "name": "stderr",
     "output_type": "stream",
     "text": [
      "t:  47%|████▋     | 14/30 [00:00<00:00, 137.67it/s, now=None]"
     ]
    },
    {
     "name": "stdout",
     "output_type": "stream",
     "text": [
      "MoviePy - Building file videos_for_poster/skiing_gifs/skiing_test_35_interpolated.gif with imageio.\n"
     ]
    },
    {
     "name": "stderr",
     "output_type": "stream",
     "text": [
      "t:  50%|█████     | 15/30 [00:00<00:00, 147.48it/s, now=None]"
     ]
    },
    {
     "name": "stdout",
     "output_type": "stream",
     "text": [
      "MoviePy - Building file videos_for_poster/skiing_gifs/skiing_test_60_reduced.gif with imageio.\n"
     ]
    },
    {
     "name": "stderr",
     "output_type": "stream",
     "text": [
      "t:  50%|█████     | 15/30 [00:00<00:00, 147.17it/s, now=None]"
     ]
    },
    {
     "name": "stdout",
     "output_type": "stream",
     "text": [
      "MoviePy - Building file videos_for_poster/skiing_gifs/skiing_test_73_CVAE.gif with imageio.\n"
     ]
    },
    {
     "name": "stderr",
     "output_type": "stream",
     "text": [
      "t:  43%|████▎     | 13/30 [00:00<00:00, 128.35it/s, now=None]"
     ]
    },
    {
     "name": "stdout",
     "output_type": "stream",
     "text": [
      "MoviePy - Building file videos_for_poster/skiing_gifs/skiing_test_72_CVAE.gif with imageio.\n"
     ]
    },
    {
     "name": "stderr",
     "output_type": "stream",
     "text": [
      "t:  50%|█████     | 15/30 [00:00<00:00, 147.80it/s, now=None]"
     ]
    },
    {
     "name": "stdout",
     "output_type": "stream",
     "text": [
      "MoviePy - Building file videos_for_poster/skiing_gifs/skiing_test_50_interpolated.gif with imageio.\n"
     ]
    },
    {
     "name": "stderr",
     "output_type": "stream",
     "text": [
      "t:  50%|█████     | 15/30 [00:00<00:00, 145.25it/s, now=None]"
     ]
    },
    {
     "name": "stdout",
     "output_type": "stream",
     "text": [
      "MoviePy - Building file videos_for_poster/skiing_gifs/skiing_test_21_interpolated.gif with imageio.\n"
     ]
    },
    {
     "name": "stderr",
     "output_type": "stream",
     "text": [
      "t:  37%|███▋      | 11/30 [00:00<00:00, 106.78it/s, now=None]"
     ]
    },
    {
     "name": "stdout",
     "output_type": "stream",
     "text": [
      "MoviePy - Building file videos_for_poster/skiing_gifs/skiing_test_05_reduced.gif with imageio.\n"
     ]
    },
    {
     "name": "stderr",
     "output_type": "stream",
     "text": [
      "t:  50%|█████     | 15/30 [00:00<00:00, 146.69it/s, now=None]"
     ]
    },
    {
     "name": "stdout",
     "output_type": "stream",
     "text": [
      "MoviePy - Building file videos_for_poster/skiing_gifs/skiing_test_47_CVAE.gif with imageio.\n"
     ]
    },
    {
     "name": "stderr",
     "output_type": "stream",
     "text": [
      "t:  40%|████      | 12/30 [00:00<00:00, 117.81it/s, now=None]"
     ]
    },
    {
     "name": "stdout",
     "output_type": "stream",
     "text": [
      "MoviePy - Building file videos_for_poster/skiing_gifs/skiing_test_46_CVAE.gif with imageio.\n"
     ]
    },
    {
     "name": "stderr",
     "output_type": "stream",
     "text": [
      "t:  37%|███▋      | 11/30 [00:00<00:00, 105.86it/s, now=None]"
     ]
    },
    {
     "name": "stdout",
     "output_type": "stream",
     "text": [
      "MoviePy - Building file videos_for_poster/skiing_gifs/skiing_test_44_interpolated.gif with imageio.\n"
     ]
    },
    {
     "name": "stderr",
     "output_type": "stream",
     "text": [
      "                                                             "
     ]
    },
    {
     "name": "stdout",
     "output_type": "stream",
     "text": [
      "MoviePy - Building file videos_for_poster/skiing_gifs/skiing_test_75_reduced.gif with imageio.\n"
     ]
    },
    {
     "name": "stderr",
     "output_type": "stream",
     "text": [
      "t:  47%|████▋     | 14/30 [00:00<00:00, 130.75it/s, now=None]"
     ]
    },
    {
     "name": "stdout",
     "output_type": "stream",
     "text": [
      "MoviePy - Building file videos_for_poster/skiing_gifs/skiing_test_30_CVAE.gif with imageio.\n"
     ]
    },
    {
     "name": "stderr",
     "output_type": "stream",
     "text": [
      "t:  47%|████▋     | 14/30 [00:00<00:00, 136.05it/s, now=None]"
     ]
    },
    {
     "name": "stdout",
     "output_type": "stream",
     "text": [
      "MoviePy - Building file videos_for_poster/skiing_gifs/skiing_test_31_CVAE.gif with imageio.\n"
     ]
    },
    {
     "name": "stderr",
     "output_type": "stream",
     "text": [
      "t:   0%|          | 0/30 [00:00<?, ?it/s, now=None]          "
     ]
    },
    {
     "name": "stdout",
     "output_type": "stream",
     "text": [
      "MoviePy - Building file videos_for_poster/skiing_gifs/skiing_test_69_reduced.gif with imageio.\n",
      "MoviePy - Building file videos_for_poster/skiing_gifs/skiing_test_65_interpolated.gif with imageio.\n"
     ]
    },
    {
     "name": "stderr",
     "output_type": "stream",
     "text": [
      "t:  50%|█████     | 15/30 [00:00<00:00, 143.30it/s, now=None]"
     ]
    },
    {
     "name": "stdout",
     "output_type": "stream",
     "text": [
      "MoviePy - Building file videos_for_poster/skiing_gifs/skiing_test_19_reduced.gif with imageio.\n"
     ]
    },
    {
     "name": "stderr",
     "output_type": "stream",
     "text": [
      "t:  93%|█████████▎| 28/30 [00:00<00:00, 139.03it/s, now=None]"
     ]
    },
    {
     "name": "stdout",
     "output_type": "stream",
     "text": [
      "MoviePy - Building file videos_for_poster/skiing_gifs/skiing_test_47_reduced.gif with imageio.\n"
     ]
    },
    {
     "name": "stderr",
     "output_type": "stream",
     "text": [
      "t:  43%|████▎     | 13/30 [00:00<00:00, 125.21it/s, now=None]"
     ]
    },
    {
     "name": "stdout",
     "output_type": "stream",
     "text": [
      "MoviePy - Building file videos_for_poster/skiing_gifs/skiing_test_00_interpolated.gif with imageio.\n"
     ]
    },
    {
     "name": "stderr",
     "output_type": "stream",
     "text": [
      "t:  27%|██▋       | 8/30 [00:00<00:00, 76.33it/s, now=None]  "
     ]
    },
    {
     "name": "stdout",
     "output_type": "stream",
     "text": [
      "MoviePy - Building file videos_for_poster/skiing_gifs/skiing_test_79_CVAE.gif with imageio.\n"
     ]
    },
    {
     "name": "stderr",
     "output_type": "stream",
     "text": [
      "                                                             "
     ]
    },
    {
     "name": "stdout",
     "output_type": "stream",
     "text": [
      "MoviePy - Building file videos_for_poster/skiing_gifs/skiing_test_78_CVAE.gif with imageio.\n"
     ]
    },
    {
     "name": "stderr",
     "output_type": "stream",
     "text": [
      "t:  53%|█████▎    | 16/30 [00:00<00:00, 154.19it/s, now=None]"
     ]
    },
    {
     "name": "stdout",
     "output_type": "stream",
     "text": [
      "MoviePy - Building file videos_for_poster/skiing_gifs/skiing_test_37_reduced.gif with imageio.\n"
     ]
    },
    {
     "name": "stderr",
     "output_type": "stream",
     "text": [
      "t:  50%|█████     | 15/30 [00:00<00:00, 147.53it/s, now=None]"
     ]
    },
    {
     "name": "stdout",
     "output_type": "stream",
     "text": [
      "MoviePy - Building file videos_for_poster/skiing_gifs/skiing_test_13_CVAE.gif with imageio.\n"
     ]
    },
    {
     "name": "stderr",
     "output_type": "stream",
     "text": [
      "                                                             "
     ]
    },
    {
     "name": "stdout",
     "output_type": "stream",
     "text": [
      "MoviePy - Building file videos_for_poster/skiing_gifs/skiing_test_12_CVAE.gif with imageio.\n"
     ]
    },
    {
     "name": "stderr",
     "output_type": "stream",
     "text": [
      "t:  53%|█████▎    | 16/30 [00:00<00:00, 157.93it/s, now=None]"
     ]
    },
    {
     "name": "stdout",
     "output_type": "stream",
     "text": [
      "MoviePy - Building file videos_for_poster/skiing_gifs/skiing_test_61_interpolated.gif with imageio.\n"
     ]
    },
    {
     "name": "stderr",
     "output_type": "stream",
     "text": [
      "t:  47%|████▋     | 14/30 [00:00<00:00, 132.02it/s, now=None]"
     ]
    },
    {
     "name": "stdout",
     "output_type": "stream",
     "text": [
      "MoviePy - Building file videos_for_poster/skiing_gifs/skiing_test_70_reduced.gif with imageio.\n"
     ]
    },
    {
     "name": "stderr",
     "output_type": "stream",
     "text": [
      "t:  40%|████      | 12/30 [00:00<00:00, 116.12it/s, now=None]"
     ]
    },
    {
     "name": "stdout",
     "output_type": "stream",
     "text": [
      "MoviePy - Building file videos_for_poster/skiing_gifs/skiing_test_81_CVAE.gif with imageio.\n"
     ]
    },
    {
     "name": "stderr",
     "output_type": "stream",
     "text": [
      "t:  43%|████▎     | 13/30 [00:00<00:00, 128.41it/s, now=None]"
     ]
    },
    {
     "name": "stdout",
     "output_type": "stream",
     "text": [
      "MoviePy - Building file videos_for_poster/skiing_gifs/skiing_test_00_reduced.gif with imageio.\n"
     ]
    },
    {
     "name": "stderr",
     "output_type": "stream",
     "text": [
      "                                                             "
     ]
    },
    {
     "name": "stdout",
     "output_type": "stream",
     "text": [
      "MoviePy - Building file videos_for_poster/skiing_gifs/skiing_test_80_CVAE.gif with imageio.\n"
     ]
    },
    {
     "name": "stderr",
     "output_type": "stream",
     "text": [
      "                                                             "
     ]
    },
    {
     "name": "stdout",
     "output_type": "stream",
     "text": [
      "MoviePy - Building file videos_for_poster/skiing_gifs/skiing_test_04_interpolated.gif with imageio.\n"
     ]
    },
    {
     "name": "stderr",
     "output_type": "stream",
     "text": [
      "                                                             "
     ]
    },
    {
     "name": "stdout",
     "output_type": "stream",
     "text": [
      "MoviePy - Building file videos_for_poster/skiing_gifs/skiing_test_32_reduced.gif with imageio.\n"
     ]
    },
    {
     "name": "stderr",
     "output_type": "stream",
     "text": [
      "t:  57%|█████▋    | 17/30 [00:00<00:00, 159.19it/s, now=None]"
     ]
    },
    {
     "name": "stdout",
     "output_type": "stream",
     "text": [
      "MoviePy - Building file videos_for_poster/skiing_gifs/skiing_test_25_interpolated.gif with imageio.\n"
     ]
    },
    {
     "name": "stderr",
     "output_type": "stream",
     "text": [
      "                                                             "
     ]
    },
    {
     "name": "stdout",
     "output_type": "stream",
     "text": [
      "MoviePy - Building file videos_for_poster/skiing_gifs/skiing_test_42_reduced.gif with imageio.\n"
     ]
    },
    {
     "name": "stderr",
     "output_type": "stream",
     "text": [
      "t:  53%|█████▎    | 16/30 [00:00<00:00, 152.63it/s, now=None]"
     ]
    },
    {
     "name": "stdout",
     "output_type": "stream",
     "text": [
      "MoviePy - Building file videos_for_poster/skiing_gifs/skiing_test_64_CVAE.gif with imageio.\n"
     ]
    },
    {
     "name": "stderr",
     "output_type": "stream",
     "text": [
      "t:  47%|████▋     | 14/30 [00:00<00:00, 138.95it/s, now=None]"
     ]
    },
    {
     "name": "stdout",
     "output_type": "stream",
     "text": [
      "MoviePy - Building file videos_for_poster/skiing_gifs/skiing_test_65_CVAE.gif with imageio.\n"
     ]
    },
    {
     "name": "stderr",
     "output_type": "stream",
     "text": [
      "t:  43%|████▎     | 13/30 [00:00<00:00, 124.42it/s, now=None]"
     ]
    },
    {
     "name": "stdout",
     "output_type": "stream",
     "text": [
      "MoviePy - Building file videos_for_poster/skiing_gifs/skiing_test_40_interpolated.gif with imageio.\n"
     ]
    },
    {
     "name": "stderr",
     "output_type": "stream",
     "text": [
      "t:  53%|█████▎    | 16/30 [00:00<00:00, 151.71it/s, now=None]"
     ]
    },
    {
     "name": "stdout",
     "output_type": "stream",
     "text": [
      "MoviePy - Building file videos_for_poster/skiing_gifs/skiing_test_09_reduced.gif with imageio.\n"
     ]
    },
    {
     "name": "stderr",
     "output_type": "stream",
     "text": [
      "                                                             "
     ]
    },
    {
     "name": "stdout",
     "output_type": "stream",
     "text": [
      "MoviePy - Building file videos_for_poster/skiing_gifs/skiing_test_31_interpolated.gif with imageio.\n"
     ]
    },
    {
     "name": "stderr",
     "output_type": "stream",
     "text": [
      "t:  47%|████▋     | 14/30 [00:00<00:00, 134.13it/s, now=None]"
     ]
    },
    {
     "name": "stdout",
     "output_type": "stream",
     "text": [
      "MoviePy - Building file videos_for_poster/skiing_gifs/skiing_test_50_CVAE.gif with imageio.\n"
     ]
    },
    {
     "name": "stderr",
     "output_type": "stream",
     "text": [
      "t:  43%|████▎     | 13/30 [00:00<00:00, 110.43it/s, now=None]"
     ]
    },
    {
     "name": "stdout",
     "output_type": "stream",
     "text": [
      "MoviePy - Building file videos_for_poster/skiing_gifs/skiing_test_51_CVAE.gif with imageio.\n"
     ]
    },
    {
     "name": "stderr",
     "output_type": "stream",
     "text": [
      "t:  23%|██▎       | 7/30 [00:00<00:00, 42.92it/s, now=None]  "
     ]
    },
    {
     "name": "stdout",
     "output_type": "stream",
     "text": [
      "MoviePy - Building file videos_for_poster/skiing_gifs/skiing_test_79_reduced.gif with imageio.\n"
     ]
    },
    {
     "name": "stderr",
     "output_type": "stream",
     "text": [
      "                                                             "
     ]
    },
    {
     "name": "stdout",
     "output_type": "stream",
     "text": [
      "MoviePy - Building file videos_for_poster/skiing_gifs/skiing_test_54_interpolated.gif with imageio.\n"
     ]
    },
    {
     "name": "stderr",
     "output_type": "stream",
     "text": [
      "t:  47%|████▋     | 14/30 [00:00<00:00, 135.35it/s, now=None]"
     ]
    },
    {
     "name": "stdout",
     "output_type": "stream",
     "text": [
      "MoviePy - Building file videos_for_poster/skiing_gifs/skiing_test_27_reduced.gif with imageio.\n"
     ]
    },
    {
     "name": "stderr",
     "output_type": "stream",
     "text": [
      "t:  53%|█████▎    | 16/30 [00:00<00:00, 156.78it/s, now=None]"
     ]
    },
    {
     "name": "stdout",
     "output_type": "stream",
     "text": [
      "MoviePy - Building file videos_for_poster/skiing_gifs/skiing_test_19_CVAE.gif with imageio.\n"
     ]
    },
    {
     "name": "stderr",
     "output_type": "stream",
     "text": [
      "t:  50%|█████     | 15/30 [00:00<00:00, 146.89it/s, now=None]"
     ]
    },
    {
     "name": "stdout",
     "output_type": "stream",
     "text": [
      "MoviePy - Building file videos_for_poster/skiing_gifs/skiing_test_57_reduced.gif with imageio.\n"
     ]
    },
    {
     "name": "stderr",
     "output_type": "stream",
     "text": [
      "t:  47%|████▋     | 14/30 [00:00<00:00, 130.31it/s, now=None]"
     ]
    },
    {
     "name": "stdout",
     "output_type": "stream",
     "text": [
      "MoviePy - Building file videos_for_poster/skiing_gifs/skiing_test_18_CVAE.gif with imageio.\n"
     ]
    },
    {
     "name": "stderr",
     "output_type": "stream",
     "text": [
      "                                                             "
     ]
    },
    {
     "name": "stdout",
     "output_type": "stream",
     "text": [
      "MoviePy - Building file videos_for_poster/skiing_gifs/skiing_test_75_interpolated.gif with imageio.\n"
     ]
    },
    {
     "name": "stderr",
     "output_type": "stream",
     "text": [
      "t:  50%|█████     | 15/30 [00:00<00:00, 148.45it/s, now=None]"
     ]
    },
    {
     "name": "stdout",
     "output_type": "stream",
     "text": [
      "MoviePy - Building file videos_for_poster/skiing_gifs/skiing_test_65_reduced.gif with imageio.\n"
     ]
    },
    {
     "name": "stderr",
     "output_type": "stream",
     "text": [
      "t:  53%|█████▎    | 16/30 [00:00<00:00, 158.97it/s, now=None]"
     ]
    },
    {
     "name": "stdout",
     "output_type": "stream",
     "text": [
      "MoviePy - Building file videos_for_poster/skiing_gifs/skiing_test_10_interpolated.gif with imageio.\n"
     ]
    },
    {
     "name": "stderr",
     "output_type": "stream",
     "text": [
      "t:  30%|███       | 9/30 [00:00<00:00, 89.86it/s, now=None]  "
     ]
    },
    {
     "name": "stdout",
     "output_type": "stream",
     "text": [
      "MoviePy - Building file videos_for_poster/skiing_gifs/skiing_test_27_CVAE.gif with imageio.\n"
     ]
    },
    {
     "name": "stderr",
     "output_type": "stream",
     "text": [
      "t:  47%|████▋     | 14/30 [00:00<00:00, 132.86it/s, now=None]"
     ]
    },
    {
     "name": "stdout",
     "output_type": "stream",
     "text": [
      "MoviePy - Building file videos_for_poster/skiing_gifs/skiing_test_26_CVAE.gif with imageio.\n"
     ]
    },
    {
     "name": "stderr",
     "output_type": "stream",
     "text": [
      "t:  50%|█████     | 15/30 [00:00<00:00, 141.60it/s, now=None]"
     ]
    },
    {
     "name": "stdout",
     "output_type": "stream",
     "text": [
      "MoviePy - Building file videos_for_poster/skiing_gifs/skiing_test_15_reduced.gif with imageio.\n"
     ]
    },
    {
     "name": "stderr",
     "output_type": "stream",
     "text": [
      "                                                             "
     ]
    },
    {
     "name": "stdout",
     "output_type": "stream",
     "text": [
      "MoviePy - Building file videos_for_poster/skiing_gifs/skiing_test_22_interpolated.gif with imageio.\n"
     ]
    },
    {
     "name": "stderr",
     "output_type": "stream",
     "text": [
      "t:  43%|████▎     | 13/30 [00:00<00:00, 127.35it/s, now=None]"
     ]
    },
    {
     "name": "stdout",
     "output_type": "stream",
     "text": [
      "MoviePy - Building file videos_for_poster/skiing_gifs/skiing_test_20_reduced.gif with imageio.\n"
     ]
    },
    {
     "name": "stderr",
     "output_type": "stream",
     "text": [
      "t:  53%|█████▎    | 16/30 [00:00<00:00, 153.33it/s, now=None]"
     ]
    },
    {
     "name": "stdout",
     "output_type": "stream",
     "text": [
      "MoviePy - Building file videos_for_poster/skiing_gifs/skiing_test_50_reduced.gif with imageio.\n"
     ]
    },
    {
     "name": "stderr",
     "output_type": "stream",
     "text": [
      "t:  50%|█████     | 15/30 [00:00<00:00, 147.49it/s, now=None]"
     ]
    },
    {
     "name": "stdout",
     "output_type": "stream",
     "text": [
      "MoviePy - Building file videos_for_poster/skiing_gifs/skiing_test_43_CVAE.gif with imageio.\n"
     ]
    },
    {
     "name": "stderr",
     "output_type": "stream",
     "text": [
      "                                                             "
     ]
    },
    {
     "name": "stdout",
     "output_type": "stream",
     "text": [
      "MoviePy - Building file videos_for_poster/skiing_gifs/skiing_test_42_CVAE.gif with imageio.\n"
     ]
    },
    {
     "name": "stderr",
     "output_type": "stream",
     "text": [
      "t:  53%|█████▎    | 16/30 [00:00<00:00, 159.53it/s, now=None]"
     ]
    },
    {
     "name": "stdout",
     "output_type": "stream",
     "text": [
      "MoviePy - Building file videos_for_poster/skiing_gifs/skiing_test_47_interpolated.gif with imageio.\n"
     ]
    },
    {
     "name": "stderr",
     "output_type": "stream",
     "text": [
      "t:  47%|████▋     | 14/30 [00:00<00:00, 138.83it/s, now=None]"
     ]
    },
    {
     "name": "stdout",
     "output_type": "stream",
     "text": [
      "MoviePy - Building file videos_for_poster/skiing_gifs/skiing_test_79_interpolated.gif with imageio.\n"
     ]
    },
    {
     "name": "stderr",
     "output_type": "stream",
     "text": [
      "t:  50%|█████     | 15/30 [00:00<00:00, 149.25it/s, now=None]"
     ]
    },
    {
     "name": "stdout",
     "output_type": "stream",
     "text": [
      "MoviePy - Building file videos_for_poster/skiing_gifs/skiing_test_80_interpolated.gif with imageio.\n"
     ]
    },
    {
     "name": "stderr",
     "output_type": "stream",
     "text": [
      "t:  57%|█████▋    | 17/30 [00:00<00:00, 159.12it/s, now=None]"
     ]
    },
    {
     "name": "stdout",
     "output_type": "stream",
     "text": [
      "MoviePy - Building file videos_for_poster/skiing_gifs/skiing_test_58_interpolated.gif with imageio.\n"
     ]
    },
    {
     "name": "stderr",
     "output_type": "stream",
     "text": [
      "t:  47%|████▋     | 14/30 [00:00<00:00, 133.99it/s, now=None]"
     ]
    },
    {
     "name": "stdout",
     "output_type": "stream",
     "text": [
      "MoviePy - Building file videos_for_poster/skiing_gifs/skiing_test_66_interpolated.gif with imageio.\n"
     ]
    },
    {
     "name": "stderr",
     "output_type": "stream",
     "text": [
      "t:   0%|          | 0/30 [00:00<?, ?it/s, now=None]          "
     ]
    },
    {
     "name": "stdout",
     "output_type": "stream",
     "text": [
      "MoviePy - Building file videos_for_poster/skiing_gifs/skiing_test_34_CVAE.gif with imageio.\n"
     ]
    },
    {
     "name": "stderr",
     "output_type": "stream",
     "text": [
      "t:  53%|█████▎    | 16/30 [00:00<00:00, 151.91it/s, now=None]"
     ]
    },
    {
     "name": "stdout",
     "output_type": "stream",
     "text": [
      "MoviePy - Building file videos_for_poster/skiing_gifs/skiing_test_35_CVAE.gif with imageio.\n"
     ]
    },
    {
     "name": "stderr",
     "output_type": "stream",
     "text": [
      "t:  47%|████▋     | 14/30 [00:00<00:00, 128.39it/s, now=None]"
     ]
    },
    {
     "name": "stdout",
     "output_type": "stream",
     "text": [
      "MoviePy - Building file videos_for_poster/skiing_gifs/skiing_test_62_reduced.gif with imageio.\n"
     ]
    },
    {
     "name": "stderr",
     "output_type": "stream",
     "text": [
      "                                                             "
     ]
    },
    {
     "name": "stdout",
     "output_type": "stream",
     "text": [
      "MoviePy - Building file videos_for_poster/skiing_gifs/skiing_test_12_reduced.gif with imageio.\n"
     ]
    },
    {
     "name": "stderr",
     "output_type": "stream",
     "text": [
      "t:  47%|████▋     | 14/30 [00:00<00:00, 134.72it/s, now=None]"
     ]
    },
    {
     "name": "stdout",
     "output_type": "stream",
     "text": [
      "MoviePy - Building file videos_for_poster/skiing_gifs/skiing_test_03_interpolated.gif with imageio.\n"
     ]
    },
    {
     "name": "stderr",
     "output_type": "stream",
     "text": [
      "t:  33%|███▎      | 10/30 [00:00<00:00, 99.26it/s, now=None] "
     ]
    },
    {
     "name": "stdout",
     "output_type": "stream",
     "text": [
      "MoviePy - Building file videos_for_poster/skiing_gifs/skiing_test_49_CVAE.gif with imageio.\n"
     ]
    },
    {
     "name": "stderr",
     "output_type": "stream",
     "text": [
      "t:  37%|███▋      | 11/30 [00:00<00:00, 99.65it/s, now=None]"
     ]
    },
    {
     "name": "stdout",
     "output_type": "stream",
     "text": [
      "MoviePy - Building file videos_for_poster/skiing_gifs/skiing_test_77_reduced.gif with imageio.\n"
     ]
    },
    {
     "name": "stderr",
     "output_type": "stream",
     "text": [
      "t:  40%|████      | 12/30 [00:00<00:00, 111.30it/s, now=None]"
     ]
    },
    {
     "name": "stdout",
     "output_type": "stream",
     "text": [
      "MoviePy - Building file videos_for_poster/skiing_gifs/skiing_test_48_CVAE.gif with imageio.\n"
     ]
    },
    {
     "name": "stderr",
     "output_type": "stream",
     "text": [
      "t:  40%|████      | 12/30 [00:00<00:00, 119.68it/s, now=None]"
     ]
    },
    {
     "name": "stdout",
     "output_type": "stream",
     "text": [
      "MoviePy - Building file videos_for_poster/skiing_gifs/skiing_test_07_reduced.gif with imageio.\n"
     ]
    },
    {
     "name": "stderr",
     "output_type": "stream",
     "text": [
      "t:  33%|███▎      | 10/30 [00:00<00:00, 99.66it/s, now=None] "
     ]
    },
    {
     "name": "stdout",
     "output_type": "stream",
     "text": [
      "MoviePy - Building file videos_for_poster/skiing_gifs/skiing_test_72_interpolated.gif with imageio.\n"
     ]
    },
    {
     "name": "stderr",
     "output_type": "stream",
     "text": [
      "t:  40%|████      | 12/30 [00:00<00:00, 114.61it/s, now=None]"
     ]
    },
    {
     "name": "stdout",
     "output_type": "stream",
     "text": [
      "MoviePy - Building file videos_for_poster/skiing_gifs/skiing_test_17_interpolated.gif with imageio.\n"
     ]
    },
    {
     "name": "stderr",
     "output_type": "stream",
     "text": [
      "t:  40%|████      | 12/30 [00:00<00:00, 119.23it/s, now=None]"
     ]
    },
    {
     "name": "stdout",
     "output_type": "stream",
     "text": [
      "MoviePy - Building file videos_for_poster/skiing_gifs/skiing_test_29_interpolated.gif with imageio.\n"
     ]
    },
    {
     "name": "stderr",
     "output_type": "stream",
     "text": [
      "t:  43%|████▎     | 13/30 [00:00<00:00, 124.77it/s, now=None]"
     ]
    },
    {
     "name": "stdout",
     "output_type": "stream",
     "text": [
      "MoviePy - Building file videos_for_poster/skiing_gifs/skiing_test_00_CVAE.gif with imageio.\n"
     ]
    },
    {
     "name": "stderr",
     "output_type": "stream",
     "text": [
      "t:  50%|█████     | 15/30 [00:00<00:00, 149.89it/s, now=None]"
     ]
    },
    {
     "name": "stdout",
     "output_type": "stream",
     "text": [
      "MoviePy - Building file videos_for_poster/skiing_gifs/skiing_test_01_CVAE.gif with imageio.\n"
     ]
    },
    {
     "name": "stderr",
     "output_type": "stream",
     "text": [
      "t:  37%|███▋      | 11/30 [00:00<00:00, 107.59it/s, now=None]"
     ]
    },
    {
     "name": "stdout",
     "output_type": "stream",
     "text": [
      "MoviePy - Building file videos_for_poster/skiing_gifs/skiing_test_59_reduced.gif with imageio.\n"
     ]
    },
    {
     "name": "stderr",
     "output_type": "stream",
     "text": [
      "t:  33%|███▎      | 10/30 [00:00<00:00, 94.87it/s, now=None] "
     ]
    },
    {
     "name": "stdout",
     "output_type": "stream",
     "text": [
      "MoviePy - Building file videos_for_poster/skiing_gifs/skiing_test_29_reduced.gif with imageio.\n"
     ]
    },
    {
     "name": "stderr",
     "output_type": "stream",
     "text": [
      "t:  43%|████▎     | 13/30 [00:00<00:00, 127.63it/s, now=None]"
     ]
    },
    {
     "name": "stdout",
     "output_type": "stream",
     "text": [
      "MoviePy - Building file videos_for_poster/skiing_gifs/skiing_test_35_reduced.gif with imageio.\n"
     ]
    },
    {
     "name": "stderr",
     "output_type": "stream",
     "text": [
      "t:  43%|████▎     | 13/30 [00:00<00:00, 120.45it/s, now=None]"
     ]
    },
    {
     "name": "stdout",
     "output_type": "stream",
     "text": [
      "MoviePy - Building file videos_for_poster/skiing_gifs/skiing_test_77_CVAE.gif with imageio.\n"
     ]
    },
    {
     "name": "stderr",
     "output_type": "stream",
     "text": [
      "t:  50%|█████     | 15/30 [00:00<00:00, 141.76it/s, now=None]"
     ]
    },
    {
     "name": "stdout",
     "output_type": "stream",
     "text": [
      "MoviePy - Building file videos_for_poster/skiing_gifs/skiing_test_76_CVAE.gif with imageio.\n"
     ]
    },
    {
     "name": "stderr",
     "output_type": "stream",
     "text": [
      "t:  50%|█████     | 15/30 [00:00<00:00, 141.85it/s, now=None]"
     ]
    },
    {
     "name": "stdout",
     "output_type": "stream",
     "text": [
      "MoviePy - Building file videos_for_poster/skiing_gifs/skiing_test_08_interpolated.gif with imageio.\n"
     ]
    },
    {
     "name": "stderr",
     "output_type": "stream",
     "text": [
      "t:  50%|█████     | 15/30 [00:00<00:00, 145.15it/s, now=None]"
     ]
    },
    {
     "name": "stdout",
     "output_type": "stream",
     "text": [
      "MoviePy - Building file videos_for_poster/skiing_gifs/skiing_test_36_interpolated.gif with imageio.\n"
     ]
    },
    {
     "name": "stderr",
     "output_type": "stream",
     "text": [
      "t:  50%|█████     | 15/30 [00:00<00:00, 147.84it/s, now=None]"
     ]
    },
    {
     "name": "stdout",
     "output_type": "stream",
     "text": [
      "MoviePy - Building file videos_for_poster/skiing_gifs/skiing_test_45_reduced.gif with imageio.\n"
     ]
    },
    {
     "name": "stderr",
     "output_type": "stream",
     "text": [
      "t:  40%|████      | 12/30 [00:00<00:00, 118.63it/s, now=None]"
     ]
    },
    {
     "name": "stdout",
     "output_type": "stream",
     "text": [
      "MoviePy - Building file videos_for_poster/skiing_gifs/skiing_test_53_interpolated.gif with imageio.\n"
     ]
    },
    {
     "name": "stderr",
     "output_type": "stream",
     "text": [
      "t:  47%|████▋     | 14/30 [00:00<00:00, 139.09it/s, now=None]"
     ]
    },
    {
     "name": "stdout",
     "output_type": "stream",
     "text": [
      "MoviePy - Building file videos_for_poster/skiing_gifs/skiing_test_32_interpolated.gif with imageio.\n"
     ]
    },
    {
     "name": "stderr",
     "output_type": "stream",
     "text": [
      "                                                             "
     ]
    },
    {
     "name": "stdout",
     "output_type": "stream",
     "text": [
      "MoviePy - Building file videos_for_poster/skiing_gifs/skiing_test_54_CVAE.gif with imageio.\n"
     ]
    },
    {
     "name": "stderr",
     "output_type": "stream",
     "text": [
      "t:  37%|███▋      | 11/30 [00:00<00:00, 104.44it/s, now=None]"
     ]
    },
    {
     "name": "stdout",
     "output_type": "stream",
     "text": [
      "MoviePy - Building file videos_for_poster/skiing_gifs/skiing_test_55_CVAE.gif with imageio.\n"
     ]
    },
    {
     "name": "stderr",
     "output_type": "stream",
     "text": [
      "t:  43%|████▎     | 13/30 [00:00<00:00, 110.08it/s, now=None]"
     ]
    },
    {
     "name": "stdout",
     "output_type": "stream",
     "text": [
      "MoviePy - Building file videos_for_poster/skiing_gifs/skiing_test_02_reduced.gif with imageio.\n"
     ]
    },
    {
     "name": "stderr",
     "output_type": "stream",
     "text": [
      "t:   0%|          | 0/30 [00:00<?, ?it/s, now=None]          "
     ]
    },
    {
     "name": "stdout",
     "output_type": "stream",
     "text": [
      "MoviePy - Building file videos_for_poster/skiing_gifs/skiing_test_69_interpolated.gif with imageio.\n",
      "MoviePy - Building file videos_for_poster/skiing_gifs/skiing_test_57_interpolated.gif with imageio.\n"
     ]
    },
    {
     "name": "stderr",
     "output_type": "stream",
     "text": [
      "t:  43%|████▎     | 13/30 [00:00<00:00, 122.58it/s, now=None]"
     ]
    },
    {
     "name": "stdout",
     "output_type": "stream",
     "text": [
      "MoviePy - Building file videos_for_poster/skiing_gifs/skiing_test_72_reduced.gif with imageio.\n"
     ]
    },
    {
     "name": "stderr",
     "output_type": "stream",
     "text": [
      "t:  43%|████▎     | 13/30 [00:00<00:00, 124.80it/s, now=None]"
     ]
    },
    {
     "name": "stdout",
     "output_type": "stream",
     "text": [
      "MoviePy - Building file videos_for_poster/skiing_gifs/skiing_test_76_interpolated.gif with imageio.\n"
     ]
    },
    {
     "name": "stderr",
     "output_type": "stream",
     "text": [
      "t:  47%|████▋     | 14/30 [00:00<00:00, 131.65it/s, now=None]"
     ]
    },
    {
     "name": "stdout",
     "output_type": "stream",
     "text": [
      "MoviePy - Building file videos_for_poster/skiing_gifs/skiing_test_48_interpolated.gif with imageio.\n"
     ]
    },
    {
     "name": "stderr",
     "output_type": "stream",
     "text": [
      "t:  43%|████▎     | 13/30 [00:00<00:00, 123.26it/s, now=None]"
     ]
    },
    {
     "name": "stdout",
     "output_type": "stream",
     "text": [
      "MoviePy - Building file videos_for_poster/skiing_gifs/skiing_test_40_reduced.gif with imageio.\n"
     ]
    },
    {
     "name": "stderr",
     "output_type": "stream",
     "text": [
      "t:  43%|████▎     | 13/30 [00:00<00:00, 129.21it/s, now=None]"
     ]
    },
    {
     "name": "stdout",
     "output_type": "stream",
     "text": [
      "MoviePy - Building file videos_for_poster/skiing_gifs/skiing_test_23_CVAE.gif with imageio.\n"
     ]
    },
    {
     "name": "stderr",
     "output_type": "stream",
     "text": [
      "t:  53%|█████▎    | 16/30 [00:00<00:00, 152.64it/s, now=None]"
     ]
    },
    {
     "name": "stdout",
     "output_type": "stream",
     "text": [
      "MoviePy - Building file videos_for_poster/skiing_gifs/skiing_test_22_CVAE.gif with imageio.\n"
     ]
    },
    {
     "name": "stderr",
     "output_type": "stream",
     "text": [
      "t:  47%|████▋     | 14/30 [00:00<00:00, 133.53it/s, now=None]"
     ]
    },
    {
     "name": "stdout",
     "output_type": "stream",
     "text": [
      "MoviePy - Building file videos_for_poster/skiing_gifs/skiing_test_13_interpolated.gif with imageio.\n"
     ]
    },
    {
     "name": "stderr",
     "output_type": "stream",
     "text": [
      "t:  27%|██▋       | 8/30 [00:00<00:00, 74.50it/s, now=None]  "
     ]
    },
    {
     "name": "stdout",
     "output_type": "stream",
     "text": [
      "MoviePy - Building file videos_for_poster/skiing_gifs/skiing_test_30_reduced.gif with imageio.\n"
     ]
    },
    {
     "name": "stderr",
     "output_type": "stream",
     "text": [
      "t:  43%|████▎     | 13/30 [00:00<00:00, 124.16it/s, now=None]"
     ]
    },
    {
     "name": "stdout",
     "output_type": "stream",
     "text": [
      "MoviePy - Building file videos_for_poster/skiing_gifs/skiing_test_55_reduced.gif with imageio.\n"
     ]
    },
    {
     "name": "stderr",
     "output_type": "stream",
     "text": [
      "t:  43%|████▎     | 13/30 [00:00<00:00, 121.88it/s, now=None]"
     ]
    },
    {
     "name": "stdout",
     "output_type": "stream",
     "text": [
      "MoviePy - Building file videos_for_poster/skiing_gifs/skiing_test_17_CVAE.gif with imageio.\n"
     ]
    },
    {
     "name": "stderr",
     "output_type": "stream",
     "text": [
      "t:  33%|███▎      | 10/30 [00:00<00:00, 93.40it/s, now=None] "
     ]
    },
    {
     "name": "stdout",
     "output_type": "stream",
     "text": [
      "MoviePy - Building file videos_for_poster/skiing_gifs/skiing_test_25_reduced.gif with imageio.\n"
     ]
    },
    {
     "name": "stderr",
     "output_type": "stream",
     "text": [
      "t:  47%|████▋     | 14/30 [00:00<00:00, 132.60it/s, now=None]"
     ]
    },
    {
     "name": "stdout",
     "output_type": "stream",
     "text": [
      "MoviePy - Building file videos_for_poster/skiing_gifs/skiing_test_16_CVAE.gif with imageio.\n"
     ]
    },
    {
     "name": "stderr",
     "output_type": "stream",
     "text": [
      "t:  47%|████▋     | 14/30 [00:00<00:00, 129.44it/s, now=None]"
     ]
    },
    {
     "name": "stdout",
     "output_type": "stream",
     "text": [
      "MoviePy - Building file videos_for_poster/skiing_gifs/skiing_test_62_interpolated.gif with imageio.\n"
     ]
    },
    {
     "name": "stderr",
     "output_type": "stream",
     "text": [
      "t:  47%|████▋     | 14/30 [00:00<00:00, 135.42it/s, now=None]"
     ]
    },
    {
     "name": "stdout",
     "output_type": "stream",
     "text": [
      "MoviePy - Building file videos_for_poster/skiing_gifs/skiing_test_39_interpolated.gif with imageio.\n"
     ]
    },
    {
     "name": "stderr",
     "output_type": "stream",
     "text": [
      "t:  40%|████      | 12/30 [00:00<00:00, 117.30it/s, now=None]"
     ]
    },
    {
     "name": "stdout",
     "output_type": "stream",
     "text": [
      "MoviePy - Building file videos_for_poster/skiing_gifs/skiing_test_07_interpolated.gif with imageio.\n"
     ]
    },
    {
     "name": "stderr",
     "output_type": "stream",
     "text": [
      "t:  43%|████▎     | 13/30 [00:00<00:00, 128.07it/s, now=None]"
     ]
    },
    {
     "name": "stdout",
     "output_type": "stream",
     "text": [
      "MoviePy - Building file videos_for_poster/skiing_gifs/skiing_test_17_reduced.gif with imageio.\n"
     ]
    },
    {
     "name": "stderr",
     "output_type": "stream",
     "text": [
      "t:  43%|████▎     | 13/30 [00:00<00:00, 122.43it/s, now=None]"
     ]
    },
    {
     "name": "stdout",
     "output_type": "stream",
     "text": [
      "MoviePy - Building file videos_for_poster/skiing_gifs/skiing_test_29_CVAE.gif with imageio.\n"
     ]
    },
    {
     "name": "stderr",
     "output_type": "stream",
     "text": [
      "t:  50%|█████     | 15/30 [00:00<00:00, 143.56it/s, now=None]"
     ]
    },
    {
     "name": "stdout",
     "output_type": "stream",
     "text": [
      "MoviePy - Building file videos_for_poster/skiing_gifs/skiing_test_28_CVAE.gif with imageio.\n"
     ]
    },
    {
     "name": "stderr",
     "output_type": "stream",
     "text": [
      "t:  50%|█████     | 15/30 [00:00<00:00, 145.40it/s, now=None]"
     ]
    },
    {
     "name": "stdout",
     "output_type": "stream",
     "text": [
      "MoviePy - Building file videos_for_poster/skiing_gifs/skiing_test_26_interpolated.gif with imageio.\n"
     ]
    },
    {
     "name": "stderr",
     "output_type": "stream",
     "text": [
      "t:  40%|████      | 12/30 [00:00<00:00, 115.38it/s, now=None]"
     ]
    },
    {
     "name": "stdout",
     "output_type": "stream",
     "text": [
      "MoviePy - Building file videos_for_poster/skiing_gifs/skiing_test_18_interpolated.gif with imageio.\n"
     ]
    },
    {
     "name": "stderr",
     "output_type": "stream",
     "text": [
      "t:  43%|████▎     | 13/30 [00:00<00:00, 122.91it/s, now=None]"
     ]
    },
    {
     "name": "stdout",
     "output_type": "stream",
     "text": [
      "MoviePy - Building file videos_for_poster/skiing_gifs/skiing_test_67_reduced.gif with imageio.\n"
     ]
    },
    {
     "name": "stderr",
     "output_type": "stream",
     "text": [
      "t:  47%|████▋     | 14/30 [00:00<00:00, 131.32it/s, now=None]"
     ]
    },
    {
     "name": "stdout",
     "output_type": "stream",
     "text": [
      "MoviePy - Building file videos_for_poster/skiing_gifs/skiing_test_39_reduced.gif with imageio.\n"
     ]
    },
    {
     "name": "stderr",
     "output_type": "stream",
     "text": [
      "t:  40%|████      | 12/30 [00:00<00:00, 119.11it/s, now=None]"
     ]
    },
    {
     "name": "stdout",
     "output_type": "stream",
     "text": [
      "MoviePy - Building file videos_for_poster/skiing_gifs/skiing_test_43_interpolated.gif with imageio.\n"
     ]
    },
    {
     "name": "stderr",
     "output_type": "stream",
     "text": [
      "t:  37%|███▋      | 11/30 [00:00<00:00, 105.17it/s, now=None]"
     ]
    },
    {
     "name": "stdout",
     "output_type": "stream",
     "text": [
      "MoviePy - Building file videos_for_poster/skiing_gifs/skiing_test_49_reduced.gif with imageio.\n"
     ]
    },
    {
     "name": "stderr",
     "output_type": "stream",
     "text": [
      "t:  50%|█████     | 15/30 [00:00<00:00, 148.46it/s, now=None]"
     ]
    },
    {
     "name": "stdout",
     "output_type": "stream",
     "text": [
      "MoviePy - Building file videos_for_poster/skiing_gifs/skiing_test_60_CVAE.gif with imageio.\n"
     ]
    },
    {
     "name": "stderr",
     "output_type": "stream",
     "text": [
      "                                                             "
     ]
    },
    {
     "name": "stdout",
     "output_type": "stream",
     "text": [
      "MoviePy - Building file videos_for_poster/skiing_gifs/skiing_test_61_CVAE.gif with imageio.\n"
     ]
    },
    {
     "name": "stderr",
     "output_type": "stream",
     "text": [
      "t:  43%|████▎     | 13/30 [00:00<00:00, 121.84it/s, now=None]"
     ]
    },
    {
     "name": "stdout",
     "output_type": "stream",
     "text": [
      "MoviePy - Building file videos_for_poster/skiing_gifs/skiing_test_02_interpolated.gif with imageio.\n"
     ]
    },
    {
     "name": "stderr",
     "output_type": "stream",
     "text": [
      "t:  40%|████      | 12/30 [00:00<00:00, 118.14it/s, now=None]"
     ]
    },
    {
     "name": "stdout",
     "output_type": "stream",
     "text": [
      "MoviePy - Building file videos_for_poster/skiing_gifs/skiing_test_53_CVAE.gif with imageio.\n"
     ]
    },
    {
     "name": "stderr",
     "output_type": "stream",
     "text": [
      "                                                             "
     ]
    },
    {
     "name": "stdout",
     "output_type": "stream",
     "text": [
      "MoviePy - Building file videos_for_poster/skiing_gifs/skiing_test_52_CVAE.gif with imageio.\n"
     ]
    },
    {
     "name": "stderr",
     "output_type": "stream",
     "text": [
      "t:  50%|█████     | 15/30 [00:00<00:00, 145.37it/s, now=None]"
     ]
    },
    {
     "name": "stdout",
     "output_type": "stream",
     "text": [
      "MoviePy - Building file videos_for_poster/skiing_gifs/skiing_test_14_reduced.gif with imageio.\n"
     ]
    },
    {
     "name": "stderr",
     "output_type": "stream",
     "text": [
      "t:  93%|█████████▎| 28/30 [00:00<00:00, 138.11it/s, now=None]"
     ]
    },
    {
     "name": "stdout",
     "output_type": "stream",
     "text": [
      "MoviePy - Building file videos_for_poster/skiing_gifs/skiing_test_59_interpolated.gif with imageio.\n"
     ]
    },
    {
     "name": "stderr",
     "output_type": "stream",
     "text": [
      "t:  40%|████      | 12/30 [00:00<00:00, 116.32it/s, now=None]"
     ]
    },
    {
     "name": "stdout",
     "output_type": "stream",
     "text": [
      "MoviePy - Building file videos_for_poster/skiing_gifs/skiing_test_67_interpolated.gif with imageio.\n"
     ]
    },
    {
     "name": "stderr",
     "output_type": "stream",
     "text": [
      "t:  50%|█████     | 15/30 [00:00<00:00, 141.50it/s, now=None]"
     ]
    },
    {
     "name": "stdout",
     "output_type": "stream",
     "text": [
      "MoviePy - Building file videos_for_poster/skiing_gifs/skiing_test_64_reduced.gif with imageio.\n"
     ]
    },
    {
     "name": "stderr",
     "output_type": "stream",
     "text": [
      "t:  47%|████▋     | 14/30 [00:00<00:00, 138.09it/s, now=None]"
     ]
    },
    {
     "name": "stdout",
     "output_type": "stream",
     "text": [
      "MoviePy - Building file videos_for_poster/skiing_gifs/skiing_test_81_interpolated.gif with imageio.\n"
     ]
    },
    {
     "name": "stderr",
     "output_type": "stream",
     "text": [
      "t:  43%|████▎     | 13/30 [00:00<00:00, 124.18it/s, now=None]"
     ]
    },
    {
     "name": "stdout",
     "output_type": "stream",
     "text": [
      "MoviePy - Building file videos_for_poster/skiing_gifs/skiing_test_46_interpolated.gif with imageio.\n"
     ]
    },
    {
     "name": "stderr",
     "output_type": "stream",
     "text": [
      "t:  27%|██▋       | 8/30 [00:00<00:00, 79.10it/s, now=None]  "
     ]
    },
    {
     "name": "stdout",
     "output_type": "stream",
     "text": [
      "MoviePy - Building file videos_for_poster/skiing_gifs/skiing_test_78_interpolated.gif with imageio.\n"
     ]
    },
    {
     "name": "stderr",
     "output_type": "stream",
     "text": [
      "t:  47%|████▋     | 14/30 [00:00<00:00, 135.46it/s, now=None]"
     ]
    },
    {
     "name": "stdout",
     "output_type": "stream",
     "text": [
      "MoviePy - Building file videos_for_poster/skiing_gifs/skiing_test_78_reduced.gif with imageio.\n"
     ]
    },
    {
     "name": "stderr",
     "output_type": "stream",
     "text": [
      "t:  43%|████▎     | 13/30 [00:00<00:00, 119.63it/s, now=None]"
     ]
    },
    {
     "name": "stdout",
     "output_type": "stream",
     "text": [
      "MoviePy - Building file videos_for_poster/skiing_gifs/skiing_test_08_reduced.gif with imageio.\n"
     ]
    },
    {
     "name": "stderr",
     "output_type": "stream",
     "text": [
      "t:  40%|████      | 12/30 [00:00<00:00, 119.37it/s, now=None]"
     ]
    },
    {
     "name": "stdout",
     "output_type": "stream",
     "text": [
      "MoviePy - Building file videos_for_poster/skiing_gifs/skiing_test_56_reduced.gif with imageio.\n"
     ]
    },
    {
     "name": "stderr",
     "output_type": "stream",
     "text": [
      "t:  20%|██        | 6/30 [00:00<00:00, 59.25it/s, now=None]  "
     ]
    },
    {
     "name": "stdout",
     "output_type": "stream",
     "text": [
      "MoviePy - Building file videos_for_poster/skiing_gifs/skiing_test_26_reduced.gif with imageio.\n"
     ]
    },
    {
     "name": "stderr",
     "output_type": "stream",
     "text": [
      "t:  40%|████      | 12/30 [00:00<00:00, 112.93it/s, now=None]"
     ]
    },
    {
     "name": "stdout",
     "output_type": "stream",
     "text": [
      "MoviePy - Building file videos_for_poster/skiing_gifs/skiing_test_23_interpolated.gif with imageio.\n"
     ]
    },
    {
     "name": "stderr",
     "output_type": "stream",
     "text": [
      "t:  43%|████▎     | 13/30 [00:00<00:00, 122.10it/s, now=None]"
     ]
    },
    {
     "name": "stdout",
     "output_type": "stream",
     "text": [
      "MoviePy - Building file videos_for_poster/skiing_gifs/skiing_test_24_CVAE.gif with imageio.\n"
     ]
    },
    {
     "name": "stderr",
     "output_type": "stream",
     "text": [
      "t:  37%|███▋      | 11/30 [00:00<00:00, 106.73it/s, now=None]"
     ]
    },
    {
     "name": "stdout",
     "output_type": "stream",
     "text": [
      "MoviePy - Building file videos_for_poster/skiing_gifs/skiing_test_25_CVAE.gif with imageio.\n"
     ]
    },
    {
     "name": "stderr",
     "output_type": "stream",
     "text": [
      "t:  30%|███       | 9/30 [00:00<00:00, 74.73it/s, now=None]  "
     ]
    },
    {
     "name": "stdout",
     "output_type": "stream",
     "text": [
      "MoviePy - Building file videos_for_poster/skiing_gifs/skiing_test_43_reduced.gif with imageio.\n"
     ]
    },
    {
     "name": "stderr",
     "output_type": "stream",
     "text": [
      "t:  40%|████      | 12/30 [00:00<00:00, 119.07it/s, now=None]"
     ]
    },
    {
     "name": "stdout",
     "output_type": "stream",
     "text": [
      "MoviePy - Building file videos_for_poster/skiing_gifs/skiing_test_10_CVAE.gif with imageio.\n"
     ]
    },
    {
     "name": "stderr",
     "output_type": "stream",
     "text": [
      "t:  30%|███       | 9/30 [00:00<00:00, 84.87it/s, now=None]  "
     ]
    },
    {
     "name": "stdout",
     "output_type": "stream",
     "text": [
      "MoviePy - Building file videos_for_poster/skiing_gifs/skiing_test_11_CVAE.gif with imageio.\n"
     ]
    },
    {
     "name": "stderr",
     "output_type": "stream",
     "text": [
      "t:  47%|████▋     | 14/30 [00:00<00:00, 134.97it/s, now=None]"
     ]
    },
    {
     "name": "stdout",
     "output_type": "stream",
     "text": [
      "MoviePy - Building file videos_for_poster/skiing_gifs/skiing_test_52_interpolated.gif with imageio.\n"
     ]
    },
    {
     "name": "stderr",
     "output_type": "stream",
     "text": [
      "t:  43%|████▎     | 13/30 [00:00<00:00, 120.36it/s, now=None]"
     ]
    },
    {
     "name": "stdout",
     "output_type": "stream",
     "text": [
      "MoviePy - Building file videos_for_poster/skiing_gifs/skiing_test_33_reduced.gif with imageio.\n"
     ]
    },
    {
     "name": "stderr",
     "output_type": "stream",
     "text": [
      "t:  40%|████      | 12/30 [00:00<00:00, 112.66it/s, now=None]"
     ]
    },
    {
     "name": "stdout",
     "output_type": "stream",
     "text": [
      "MoviePy - Building file videos_for_poster/skiing_gifs/skiing_test_59_CVAE.gif with imageio.\n"
     ]
    },
    {
     "name": "stderr",
     "output_type": "stream",
     "text": [
      "t:  37%|███▋      | 11/30 [00:00<00:00, 108.55it/s, now=None]"
     ]
    },
    {
     "name": "stdout",
     "output_type": "stream",
     "text": [
      "MoviePy - Building file videos_for_poster/skiing_gifs/skiing_test_09_interpolated.gif with imageio.\n"
     ]
    },
    {
     "name": "stderr",
     "output_type": "stream",
     "text": [
      "t:  50%|█████     | 15/30 [00:00<00:00, 139.15it/s, now=None]"
     ]
    },
    {
     "name": "stdout",
     "output_type": "stream",
     "text": [
      "MoviePy - Building file videos_for_poster/skiing_gifs/skiing_test_58_CVAE.gif with imageio.\n"
     ]
    },
    {
     "name": "stderr",
     "output_type": "stream",
     "text": [
      "t:  43%|████▎     | 13/30 [00:00<00:00, 122.33it/s, now=None]"
     ]
    },
    {
     "name": "stdout",
     "output_type": "stream",
     "text": [
      "MoviePy - Building file videos_for_poster/skiing_gifs/skiing_test_37_interpolated.gif with imageio.\n"
     ]
    },
    {
     "name": "stderr",
     "output_type": "stream",
     "text": [
      "t:  40%|████      | 12/30 [00:00<00:00, 117.11it/s, now=None]"
     ]
    },
    {
     "name": "stdout",
     "output_type": "stream",
     "text": [
      "MoviePy - Building file videos_for_poster/skiing_gifs/skiing_test_01_reduced.gif with imageio.\n"
     ]
    },
    {
     "name": "stderr",
     "output_type": "stream",
     "text": [
      "t:  47%|████▋     | 14/30 [00:00<00:00, 131.54it/s, now=None]"
     ]
    },
    {
     "name": "stdout",
     "output_type": "stream",
     "text": [
      "MoviePy - Building file videos_for_poster/skiing_gifs/skiing_test_71_reduced.gif with imageio.\n"
     ]
    },
    {
     "name": "stderr",
     "output_type": "stream",
     "text": [
      "t:  40%|████      | 12/30 [00:00<00:00, 110.98it/s, now=None]"
     ]
    },
    {
     "name": "stdout",
     "output_type": "stream",
     "text": [
      "MoviePy - Building file videos_for_poster/skiing_gifs/skiing_test_16_interpolated.gif with imageio.\n"
     ]
    },
    {
     "name": "stderr",
     "output_type": "stream",
     "text": [
      "t:  43%|████▎     | 13/30 [00:00<00:00, 129.46it/s, now=None]"
     ]
    },
    {
     "name": "stdout",
     "output_type": "stream",
     "text": [
      "MoviePy - Building file videos_for_poster/skiing_gifs/skiing_test_28_interpolated.gif with imageio.\n"
     ]
    },
    {
     "name": "stderr",
     "output_type": "stream",
     "text": [
      "t:  40%|████      | 12/30 [00:00<00:00, 113.73it/s, now=None]"
     ]
    },
    {
     "name": "stdout",
     "output_type": "stream",
     "text": [
      "MoviePy - Building file videos_for_poster/skiing_gifs/skiing_test_67_CVAE.gif with imageio.\n"
     ]
    },
    {
     "name": "stderr",
     "output_type": "stream",
     "text": [
      "t:  50%|█████     | 15/30 [00:00<00:00, 143.78it/s, now=None]"
     ]
    },
    {
     "name": "stdout",
     "output_type": "stream",
     "text": [
      "MoviePy - Building file videos_for_poster/skiing_gifs/skiing_test_66_CVAE.gif with imageio.\n"
     ]
    },
    {
     "name": "stderr",
     "output_type": "stream",
     "text": [
      "t:  43%|████▎     | 13/30 [00:00<00:00, 122.71it/s, now=None]"
     ]
    },
    {
     "name": "stdout",
     "output_type": "stream",
     "text": [
      "MoviePy - Building file videos_for_poster/skiing_gifs/skiing_test_73_interpolated.gif with imageio.\n"
     ]
    },
    {
     "name": "stderr",
     "output_type": "stream",
     "text": [
      "t:  43%|████▎     | 13/30 [00:00<00:00, 120.45it/s, now=None]"
     ]
    },
    {
     "name": "stdout",
     "output_type": "stream",
     "text": [
      "MoviePy - Building file videos_for_poster/skiing_gifs/skiing_test_18_reduced.gif with imageio.\n"
     ]
    },
    {
     "name": "stderr",
     "output_type": "stream",
     "text": [
      "t:  50%|█████     | 15/30 [00:00<00:00, 144.87it/s, now=None]"
     ]
    },
    {
     "name": "stdout",
     "output_type": "stream",
     "text": [
      "MoviePy - Building file videos_for_poster/skiing_gifs/skiing_test_12_interpolated.gif with imageio.\n"
     ]
    },
    {
     "name": "stderr",
     "output_type": "stream",
     "text": [
      "t:  43%|████▎     | 13/30 [00:00<00:00, 129.87it/s, now=None]"
     ]
    },
    {
     "name": "stdout",
     "output_type": "stream",
     "text": [
      "MoviePy - Building file videos_for_poster/skiing_gifs/skiing_test_68_reduced.gif with imageio.\n"
     ]
    },
    {
     "name": "stderr",
     "output_type": "stream",
     "text": [
      "t:  40%|████      | 12/30 [00:00<00:00, 115.21it/s, now=None]"
     ]
    },
    {
     "name": "stdout",
     "output_type": "stream",
     "text": [
      "MoviePy - Building file videos_for_poster/skiing_gifs/skiing_test_44_CVAE.gif with imageio.\n"
     ]
    },
    {
     "name": "stderr",
     "output_type": "stream",
     "text": [
      "t:  40%|████      | 12/30 [00:00<00:00, 118.18it/s, now=None]"
     ]
    },
    {
     "name": "stdout",
     "output_type": "stream",
     "text": [
      "MoviePy - Building file videos_for_poster/skiing_gifs/skiing_test_45_CVAE.gif with imageio.\n"
     ]
    },
    {
     "name": "stderr",
     "output_type": "stream",
     "text": [
      "t:  40%|████      | 12/30 [00:00<00:00, 118.90it/s, now=None]"
     ]
    },
    {
     "name": "stdout",
     "output_type": "stream",
     "text": [
      "MoviePy - Building file videos_for_poster/skiing_gifs/skiing_test_36_reduced.gif with imageio.\n"
     ]
    },
    {
     "name": "stderr",
     "output_type": "stream",
     "text": [
      "t:  43%|████▎     | 13/30 [00:00<00:00, 122.33it/s, now=None]"
     ]
    },
    {
     "name": "stdout",
     "output_type": "stream",
     "text": [
      "MoviePy - Building file videos_for_poster/skiing_gifs/skiing_test_77_interpolated.gif with imageio.\n"
     ]
    },
    {
     "name": "stderr",
     "output_type": "stream",
     "text": [
      "t:  37%|███▋      | 11/30 [00:00<00:00, 101.97it/s, now=None]"
     ]
    },
    {
     "name": "stdout",
     "output_type": "stream",
     "text": [
      "MoviePy - Building file videos_for_poster/skiing_gifs/skiing_test_49_interpolated.gif with imageio.\n"
     ]
    },
    {
     "name": "stderr",
     "output_type": "stream",
     "text": [
      "t:  43%|████▎     | 13/30 [00:00<00:00, 126.89it/s, now=None]"
     ]
    },
    {
     "name": "stdout",
     "output_type": "stream",
     "text": [
      "MoviePy - Building file videos_for_poster/skiing_gifs/skiing_test_46_reduced.gif with imageio.\n"
     ]
    },
    {
     "name": "stderr",
     "output_type": "stream",
     "text": [
      "t:  53%|█████▎    | 16/30 [00:00<00:00, 155.65it/s, now=None]"
     ]
    },
    {
     "name": "stdout",
     "output_type": "stream",
     "text": [
      "MoviePy - Building file videos_for_poster/skiing_gifs/skiing_test_33_CVAE.gif with imageio.\n"
     ]
    },
    {
     "name": "stderr",
     "output_type": "stream",
     "text": [
      "t:  50%|█████     | 15/30 [00:00<00:00, 147.01it/s, now=None]"
     ]
    },
    {
     "name": "stdout",
     "output_type": "stream",
     "text": [
      "MoviePy - Building file videos_for_poster/skiing_gifs/skiing_test_32_CVAE.gif with imageio.\n"
     ]
    },
    {
     "name": "stderr",
     "output_type": "stream",
     "text": [
      "t:  30%|███       | 9/30 [00:00<00:00, 80.30it/s, now=None]  "
     ]
    },
    {
     "name": "stdout",
     "output_type": "stream",
     "text": [
      "MoviePy - Building file videos_for_poster/skiing_gifs/skiing_test_68_interpolated.gif with imageio.\n"
     ]
    },
    {
     "name": "stderr",
     "output_type": "stream",
     "text": [
      "t:  40%|████      | 12/30 [00:00<00:00, 118.27it/s, now=None]"
     ]
    },
    {
     "name": "stdout",
     "output_type": "stream",
     "text": [
      "MoviePy - Building file videos_for_poster/skiing_gifs/skiing_test_56_interpolated.gif with imageio.\n"
     ]
    },
    {
     "name": "stderr",
     "output_type": "stream",
     "text": [
      "t:  37%|███▋      | 11/30 [00:00<00:00, 107.93it/s, now=None]"
     ]
    },
    {
     "name": "stdout",
     "output_type": "stream",
     "text": [
      "MoviePy - Building file videos_for_poster/skiing_gifs/skiing_test_74_reduced.gif with imageio.\n"
     ]
    },
    {
     "name": "stderr",
     "output_type": "stream",
     "text": [
      "                                                             "
     ]
    },
    {
     "name": "stdout",
     "output_type": "stream",
     "text": [
      "MoviePy - Building file videos_for_poster/skiing_gifs/skiing_test_04_reduced.gif with imageio.\n"
     ]
    },
    {
     "name": "stderr",
     "output_type": "stream",
     "text": [
      "t:  47%|████▋     | 14/30 [00:00<00:00, 139.57it/s, now=None]"
     ]
    },
    {
     "name": "stdout",
     "output_type": "stream",
     "text": [
      "MoviePy - Building file videos_for_poster/skiing_gifs/skiing_test_33_interpolated.gif with imageio.\n"
     ]
    },
    {
     "name": "stderr",
     "output_type": "stream",
     "text": [
      "t:  50%|█████     | 15/30 [00:00<00:00, 148.20it/s, now=None]"
     ]
    },
    {
     "name": "stdout",
     "output_type": "stream",
     "text": [
      "MoviePy - Building file videos_for_poster/skiing_gifs/skiing_test_61_reduced.gif with imageio.\n"
     ]
    },
    {
     "name": "stderr",
     "output_type": "stream",
     "text": [
      "t:  50%|█████     | 15/30 [00:00<00:00, 149.65it/s, now=None]"
     ]
    },
    {
     "name": "stdout",
     "output_type": "stream",
     "text": [
      "MoviePy - Building file videos_for_poster/skiing_gifs/skiing_test_42_interpolated.gif with imageio.\n"
     ]
    },
    {
     "name": "stderr",
     "output_type": "stream",
     "text": [
      "t:  37%|███▋      | 11/30 [00:00<00:00, 106.46it/s, now=None]"
     ]
    },
    {
     "name": "stdout",
     "output_type": "stream",
     "text": [
      "MoviePy - Building file videos_for_poster/skiing_gifs/skiing_test_11_reduced.gif with imageio.\n"
     ]
    },
    {
     "name": "stderr",
     "output_type": "stream",
     "text": [
      "t:  40%|████      | 12/30 [00:00<00:00, 118.45it/s, now=None]"
     ]
    },
    {
     "name": "stdout",
     "output_type": "stream",
     "text": [
      "MoviePy - Building file videos_for_poster/skiing_gifs/skiing_test_27_interpolated.gif with imageio.\n"
     ]
    },
    {
     "name": "stderr",
     "output_type": "stream",
     "text": [
      "t:  50%|█████     | 15/30 [00:00<00:00, 140.98it/s, now=None]"
     ]
    },
    {
     "name": "stdout",
     "output_type": "stream",
     "text": [
      "MoviePy - Building file videos_for_poster/skiing_gifs/skiing_test_19_interpolated.gif with imageio.\n"
     ]
    },
    {
     "name": "stderr",
     "output_type": "stream",
     "text": [
      "t:  43%|████▎     | 13/30 [00:00<00:00, 117.39it/s, now=None]"
     ]
    },
    {
     "name": "stdout",
     "output_type": "stream",
     "text": [
      "MoviePy - Building file videos_for_poster/skiing_gifs/skiing_test_07_CVAE.gif with imageio.\n"
     ]
    },
    {
     "name": "stderr",
     "output_type": "stream",
     "text": [
      "t:  43%|████▎     | 13/30 [00:00<00:00, 124.31it/s, now=None]"
     ]
    },
    {
     "name": "stdout",
     "output_type": "stream",
     "text": [
      "MoviePy - Building file videos_for_poster/skiing_gifs/skiing_test_06_CVAE.gif with imageio.\n"
     ]
    },
    {
     "name": "stderr",
     "output_type": "stream",
     "text": [
      "t:  50%|█████     | 15/30 [00:00<00:00, 144.65it/s, now=None]"
     ]
    },
    {
     "name": "stdout",
     "output_type": "stream",
     "text": [
      "MoviePy - Building file videos_for_poster/skiing_gifs/skiing_test_23_reduced.gif with imageio.\n"
     ]
    },
    {
     "name": "stderr",
     "output_type": "stream",
     "text": [
      "t:  47%|████▋     | 14/30 [00:00<00:00, 133.23it/s, now=None]"
     ]
    },
    {
     "name": "stdout",
     "output_type": "stream",
     "text": [
      "MoviePy - Building file videos_for_poster/skiing_gifs/skiing_test_38_interpolated.gif with imageio.\n"
     ]
    },
    {
     "name": "stderr",
     "output_type": "stream",
     "text": [
      "t:  53%|█████▎    | 16/30 [00:00<00:00, 154.04it/s, now=None]"
     ]
    },
    {
     "name": "stdout",
     "output_type": "stream",
     "text": [
      "MoviePy - Building file videos_for_poster/skiing_gifs/skiing_test_06_interpolated.gif with imageio.\n"
     ]
    },
    {
     "name": "stderr",
     "output_type": "stream",
     "text": [
      "t:  37%|███▋      | 11/30 [00:00<00:00, 106.19it/s, now=None]"
     ]
    },
    {
     "name": "stdout",
     "output_type": "stream",
     "text": [
      "MoviePy - Building file videos_for_poster/skiing_gifs/skiing_test_53_reduced.gif with imageio.\n"
     ]
    },
    {
     "name": "stderr",
     "output_type": "stream",
     "text": [
      "t:  37%|███▋      | 11/30 [00:00<00:00, 107.32it/s, now=None]"
     ]
    },
    {
     "name": "stdout",
     "output_type": "stream",
     "text": [
      "MoviePy - Building file videos_for_poster/skiing_gifs/skiing_test_70_CVAE.gif with imageio.\n"
     ]
    },
    {
     "name": "stderr",
     "output_type": "stream",
     "text": [
      "t:  43%|████▎     | 13/30 [00:00<00:00, 124.26it/s, now=None]"
     ]
    },
    {
     "name": "stdout",
     "output_type": "stream",
     "text": [
      "MoviePy - Building file videos_for_poster/skiing_gifs/skiing_test_71_CVAE.gif with imageio.\n"
     ]
    },
    {
     "name": "stderr",
     "output_type": "stream",
     "text": [
      "t:  37%|███▋      | 11/30 [00:00<00:00, 102.39it/s, now=None]"
     ]
    },
    {
     "name": "stdout",
     "output_type": "stream",
     "text": [
      "MoviePy - Building file videos_for_poster/skiing_gifs/skiing_test_63_interpolated.gif with imageio.\n"
     ]
    },
    {
     "name": "stderr",
     "output_type": "stream",
     "text": [
      "t:  50%|█████     | 15/30 [00:00<00:00, 142.00it/s, now=None]"
     ]
    },
    {
     "name": "stdout",
     "output_type": "stream",
     "text": [
      "MoviePy - Building file videos_for_poster/skiing_gifs/skiing_test_39_CVAE.gif with imageio.\n"
     ]
    },
    {
     "name": "stderr",
     "output_type": "stream",
     "text": [
      "t:  37%|███▋      | 11/30 [00:00<00:00, 100.57it/s, now=None]"
     ]
    },
    {
     "name": "stdout",
     "output_type": "stream",
     "text": [
      "MoviePy - Building file videos_for_poster/skiing_gifs/skiing_test_38_CVAE.gif with imageio.\n"
     ]
    },
    {
     "name": "stderr",
     "output_type": "stream",
     "text": [
      "t:  50%|█████     | 15/30 [00:00<00:00, 142.73it/s, now=None]"
     ]
    },
    {
     "name": "stdout",
     "output_type": "stream",
     "text": [
      "MoviePy - Building file videos_for_poster/skiing_gifs/skiing_test_80_reduced.gif with imageio.\n"
     ]
    },
    {
     "name": "stderr",
     "output_type": "stream",
     "text": [
      "                                                             \r"
     ]
    }
   ],
   "source": [
    "for file in os.listdir(\"videos_for_poster/videos_for_poster_skiing\"):\n",
    "    clip = VideoFileClip(\"videos_for_poster/videos_for_poster_skiing/\"+file)\n",
    "    clip.write_gif(\"videos_for_poster/skiing_gifs/\"+file.replace(\"mp4\",\"gif\"))"
   ]
  },
  {
   "cell_type": "code",
   "execution_count": null,
   "metadata": {},
   "outputs": [],
   "source": []
  }
 ],
 "metadata": {
  "kernelspec": {
   "display_name": "Python 3",
   "language": "python",
   "name": "python3"
  },
  "language_info": {
   "codemirror_mode": {
    "name": "ipython",
    "version": 3
   },
   "file_extension": ".py",
   "mimetype": "text/x-python",
   "name": "python",
   "nbconvert_exporter": "python",
   "pygments_lexer": "ipython3",
   "version": "3.6.5"
  }
 },
 "nbformat": 4,
 "nbformat_minor": 2
}
